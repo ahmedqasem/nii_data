{
 "cells": [
  {
   "cell_type": "code",
   "execution_count": 1,
   "id": "1ad2969e-3916-488b-8a72-704e45113809",
   "metadata": {},
   "outputs": [],
   "source": [
    "# Import all the necessary packages\n",
    "import numpy as np\n",
    "import nibabel as nib                                                     # Read / write access to some common neuroimaging file formats\n",
    "import itk                                                                # Jupyter widgets to visualize images in 2D and 3D\n",
    "import itkwidgets\n",
    "from ipywidgets import interact, interactive, IntSlider, ToggleButtons\n",
    "import matplotlib.pyplot as plt\n",
    "import cv2\n",
    "\n",
    "%matplotlib inline\n",
    "# import seaborn as sns\n",
    "# sns.set_style('darkgrid')"
   ]
  },
  {
   "cell_type": "code",
   "execution_count": 2,
   "id": "07cce151",
   "metadata": {},
   "outputs": [],
   "source": [
    "def apply_window(img, width=500, center=40):\n",
    "    # np.interp(a, (a.min(), a.max()), (-1, +1))\n",
    "\n",
    "    # convert below window to black\n",
    "    img[img<(center-(width/2))]=center-(width/2)\n",
    "    # convert above window to white\n",
    "    img[img>(center+(width/2))]=center+(width/2)\n",
    "\n",
    "    # normalize image\n",
    "    img_scaled = np.interp(img, (img.min(), img.max()), (0, +1))\n",
    "    # print(img_scaled.shape)\n",
    "    # print(np.min(img_scaled), np.max(img_scaled))\n",
    "    return img"
   ]
  },
  {
   "cell_type": "markdown",
   "id": "bb363150",
   "metadata": {},
   "source": [
    "## Original Images"
   ]
  },
  {
   "cell_type": "code",
   "execution_count": 3,
   "id": "71063380-ee8f-4286-a0f3-7620f084470f",
   "metadata": {},
   "outputs": [
    {
     "name": "stdout",
     "output_type": "stream",
     "text": [
      "Type of the image <class 'nibabel.nifti1.Nifti1Image'>\n"
     ]
    }
   ],
   "source": [
    "# Define the image path and load the data\n",
    "ct_image_path = \"../dataset/images/CHUM-002__CT.nii.gz\"\n",
    "pt_image_path = \"../dataset/images/CHUM-002__PT.nii.gz\"\n",
    "mask_path = \"../dataset/labels/CHUM-002.nii.gz\"\n",
    "ct_obj = nib.load(ct_image_path)\n",
    "pt_obj = nib.load(pt_image_path)\n",
    "mask_obj = nib.load(mask_path)\n",
    "print(f'Type of the image {type(ct_obj)}')"
   ]
  },
  {
   "cell_type": "code",
   "execution_count": 4,
   "id": "b47ff466",
   "metadata": {},
   "outputs": [
    {
     "name": "stdout",
     "output_type": "stream",
     "text": [
      "(512, 512, 91)\n",
      "(128, 128, 91)\n",
      "(512, 512, 91)\n",
      "(512, 512, 91)\n"
     ]
    }
   ],
   "source": [
    "# Extract data as numpy ndarray\n",
    "ct_image_data = ct_obj.get_fdata()\n",
    "pt_image_data = pt_obj.get_fdata()\n",
    "mask_data = mask_obj.get_fdata()\n",
    "resized_pet = cv2.resize(pt_image_data, (ct_image_data.shape[0], ct_image_data.shape[1]))\n",
    "print(ct_image_data.shape)\n",
    "print(pt_image_data.shape)\n",
    "print(resized_pet.shape)\n",
    "print(mask_data.shape)"
   ]
  },
  {
   "cell_type": "code",
   "execution_count": 5,
   "id": "756e2c58",
   "metadata": {},
   "outputs": [
    {
     "name": "stdout",
     "output_type": "stream",
     "text": [
      "The image object has the following dimensions: height: 512, width:512, depth:91\n"
     ]
    }
   ],
   "source": [
    "# Get the image shape and print it out\n",
    "height, width, depth = ct_image_data.shape\n",
    "print(f\"The image object has the following dimensions: height: {height}, width:{width}, depth:{depth}\")"
   ]
  },
  {
   "cell_type": "code",
   "execution_count": 6,
   "id": "546c1779",
   "metadata": {
    "scrolled": false
   },
   "outputs": [
    {
     "data": {
      "application/vnd.jupyter.widget-view+json": {
       "model_id": "f7465ede3e2a49e6ae8ee0d9bb78d20e",
       "version_major": 2,
       "version_minor": 0
      },
      "text/plain": [
       "interactive(children=(IntSlider(value=45, description='layer', max=90), Output()), _dom_classes=('widget-inter…"
      ]
     },
     "metadata": {},
     "output_type": "display_data"
    },
    {
     "data": {
      "text/plain": [
       "<function __main__.explore_3dimage(layer)>"
      ]
     },
     "execution_count": 6,
     "metadata": {},
     "output_type": "execute_result"
    }
   ],
   "source": [
    "# Define a function to visualize the data\n",
    "def explore_3dimage(layer):\n",
    "#     plt.figure(figsize=(20, 10))\n",
    "#     channel = 3\n",
    "#     plt.imshow(ct_image_data[:, :, layer], cmap='gray');\n",
    "#     plt.title('Explore Layers of Brain CT', fontsize=20)\n",
    "#     plt.axis('off')\n",
    "    fig, ax = plt.subplots(ncols=2, nrows=2,figsize=(20,20))\n",
    "\n",
    "    ax[0][0].imshow(apply_window(ct_image_data[:,:,layer]), cmap='gray')\n",
    "    ax[0][1].imshow(pt_image_data[:,:,layer], cmap='gray')\n",
    "    ax[1][0].imshow(resized_pet[:,:,layer], cmap='gray')\n",
    "    ax[1][0].contour(mask_data[:,:,layer])\n",
    "    ax[1][1].imshow(mask_data[:,:,layer], cmap='gray')\n",
    "    return layer\n",
    "\n",
    "# Run the ipywidgets interact() function to explore the data\n",
    "interact(explore_3dimage, layer=(0, ct_image_data.shape[2] - 1))"
   ]
  },
  {
   "cell_type": "code",
   "execution_count": null,
   "id": "87b1c43d",
   "metadata": {},
   "outputs": [],
   "source": []
  },
  {
   "cell_type": "markdown",
   "id": "4871fd08",
   "metadata": {},
   "source": [
    "## Resampled Images"
   ]
  },
  {
   "cell_type": "code",
   "execution_count": 7,
   "id": "55e61bb3",
   "metadata": {},
   "outputs": [
    {
     "name": "stdout",
     "output_type": "stream",
     "text": [
      "Type of the image <class 'nibabel.nifti1.Nifti1Image'>\n"
     ]
    }
   ],
   "source": [
    "# Define the image path and load the data\n",
    "ct_image_pathr = \"../dataset/images_resampled/CHUM-002__CT.nii.gz\"\n",
    "pt_image_pathr = \"../dataset/images_resampled/CHUM-002__PT.nii.gz\"\n",
    "mask_pathr = \"../dataset/labels_resampled/CHUM-002.nii.gz\"\n",
    "ct_objr = nib.load(ct_image_pathr)\n",
    "pt_objr = nib.load(pt_image_pathr)\n",
    "mask_objr = nib.load(mask_pathr)\n",
    "print(f'Type of the image {type(ct_objr)}')"
   ]
  },
  {
   "cell_type": "code",
   "execution_count": 8,
   "id": "67f4fada",
   "metadata": {},
   "outputs": [
    {
     "name": "stdout",
     "output_type": "stream",
     "text": [
      "(450, 450, 298)\n",
      "(450, 450, 298)\n",
      "(450, 450, 298)\n"
     ]
    }
   ],
   "source": [
    "# Extract data as numpy ndarray\n",
    "ct_image_datar = ct_objr.get_fdata()\n",
    "pt_image_datar = pt_objr.get_fdata()\n",
    "mask_datar = mask_objr.get_fdata()\n",
    "print(ct_image_datar.shape)\n",
    "print(pt_image_datar.shape)\n",
    "print(mask_datar.shape)"
   ]
  },
  {
   "cell_type": "code",
   "execution_count": 9,
   "id": "060c1adc",
   "metadata": {},
   "outputs": [
    {
     "name": "stdout",
     "output_type": "stream",
     "text": [
      "The image object has the following dimensions: height: 450, width:450, depth:298\n"
     ]
    }
   ],
   "source": [
    "# Get the image shape and print it out\n",
    "height, width, depth = ct_image_datar.shape\n",
    "print(f\"The image object has the following dimensions: height: {height}, width:{width}, depth:{depth}\")"
   ]
  },
  {
   "cell_type": "code",
   "execution_count": 10,
   "id": "de9b1910",
   "metadata": {
    "scrolled": false
   },
   "outputs": [
    {
     "data": {
      "application/vnd.jupyter.widget-view+json": {
       "model_id": "32bdce53d36d41bc97975514ff8edc94",
       "version_major": 2,
       "version_minor": 0
      },
      "text/plain": [
       "interactive(children=(IntSlider(value=148, description='layer', max=297), Output()), _dom_classes=('widget-int…"
      ]
     },
     "metadata": {},
     "output_type": "display_data"
    },
    {
     "data": {
      "text/plain": [
       "<function __main__.explore_3dimage(layer)>"
      ]
     },
     "execution_count": 10,
     "metadata": {},
     "output_type": "execute_result"
    }
   ],
   "source": [
    "# Define a function to visualize the data\n",
    "def explore_3dimage(layer):\n",
    "#     plt.figure(figsize=(20, 10))\n",
    "#     channel = 3\n",
    "#     plt.imshow(ct_image_data[:, :, layer], cmap='gray');\n",
    "#     plt.title('Explore Layers of Brain CT', fontsize=20)\n",
    "#     plt.axis('off')\n",
    "    fig, ax = plt.subplots(ncols=3,figsize=(20,20))\n",
    "\n",
    "    ax[0].imshow(apply_window(ct_image_datar[:,:,layer]), cmap='gray')\n",
    "    ax[1].imshow(pt_image_datar[:,:,layer], cmap='gray')\n",
    "    ax[1].contour(mask_datar[:,:,layer])\n",
    "    ax[2].imshow(mask_datar[:,:,layer], cmap='gray')\n",
    "    return layer\n",
    "\n",
    "# Run the ipywidgets interact() function to explore the data\n",
    "interact(explore_3dimage, layer=(0, ct_image_datar.shape[2] - 1))"
   ]
  },
  {
   "cell_type": "markdown",
   "id": "8826015a",
   "metadata": {},
   "source": [
    "## Evaluate"
   ]
  },
  {
   "cell_type": "code",
   "execution_count": null,
   "id": "739d79bb",
   "metadata": {},
   "outputs": [],
   "source": [
    "import SimpleITK as sitk"
   ]
  },
  {
   "cell_type": "code",
   "execution_count": null,
   "id": "96b10fba",
   "metadata": {
    "scrolled": false
   },
   "outputs": [],
   "source": [
    "selected_image = sitk.ReadImage(pt_image_pathr)\n",
    "print('After modification:')\n",
    "print('\\t PET IMAGE:')\n",
    "print('origin: ' + str(selected_image.GetOrigin()))\n",
    "print('size: ' + str(selected_image.GetSize()))\n",
    "print('spacing: ' + str(selected_image.GetSpacing()))\n",
    "print('direction: ' + str(selected_image.GetDirection()))\n",
    "print('pixel type: ' + str(selected_image.GetPixelIDTypeAsString()))\n",
    "print('number of pixel components: ' + str(selected_image.GetNumberOfComponentsPerPixel()))\n",
    "print()\n",
    "selected_image = sitk.ReadImage(ct_image_pathr)\n",
    "print('\\t CT IMAGE:')\n",
    "print('origin: ' + str(selected_image.GetOrigin()))\n",
    "print('size: ' + str(selected_image.GetSize()))\n",
    "print('spacing: ' + str(selected_image.GetSpacing()))\n",
    "print('direction: ' + str(selected_image.GetDirection()))\n",
    "print('pixel type: ' + str(selected_image.GetPixelIDTypeAsString()))\n",
    "print('number of pixel components: ' + str(selected_image.GetNumberOfComponentsPerPixel()))"
   ]
  },
  {
   "cell_type": "code",
   "execution_count": null,
   "id": "6d554ce2",
   "metadata": {
    "scrolled": false
   },
   "outputs": [],
   "source": [
    "selected_image = sitk.ReadImage(pt_image_path)\n",
    "print('Before modification:')\n",
    "print('\\t PET IMAGE:')\n",
    "print('origin: ' + str(selected_image.GetOrigin()))\n",
    "print('size: ' + str(selected_image.GetSize()))\n",
    "print('spacing: ' + str(selected_image.GetSpacing()))\n",
    "print('direction: ' + str(selected_image.GetDirection()))\n",
    "print('pixel type: ' + str(selected_image.GetPixelIDTypeAsString()))\n",
    "print('number of pixel components: ' + str(selected_image.GetNumberOfComponentsPerPixel()))\n",
    "print()\n",
    "selected_image = sitk.ReadImage(ct_image_path)\n",
    "print('\\t CT IMAGE:')\n",
    "print('origin: ' + str(selected_image.GetOrigin()))\n",
    "print('size: ' + str(selected_image.GetSize()))\n",
    "print('spacing: ' + str(selected_image.GetSpacing()))\n",
    "print('direction: ' + str(selected_image.GetDirection()))\n",
    "print('pixel type: ' + str(selected_image.GetPixelIDTypeAsString()))\n",
    "print('number of pixel components: ' + str(selected_image.GetNumberOfComponentsPerPixel()))"
   ]
  },
  {
   "cell_type": "code",
   "execution_count": null,
   "id": "4daccba6",
   "metadata": {},
   "outputs": [],
   "source": []
  },
  {
   "cell_type": "code",
   "execution_count": null,
   "id": "6672d827",
   "metadata": {},
   "outputs": [],
   "source": []
  },
  {
   "cell_type": "code",
   "execution_count": null,
   "id": "b252ac3a",
   "metadata": {},
   "outputs": [],
   "source": []
  },
  {
   "cell_type": "code",
   "execution_count": null,
   "id": "b4b6cdf4",
   "metadata": {},
   "outputs": [],
   "source": []
  }
 ],
 "metadata": {
  "kernelspec": {
   "display_name": "Python 3 (ipykernel)",
   "language": "python",
   "name": "python3"
  },
  "language_info": {
   "codemirror_mode": {
    "name": "ipython",
    "version": 3
   },
   "file_extension": ".py",
   "mimetype": "text/x-python",
   "name": "python",
   "nbconvert_exporter": "python",
   "pygments_lexer": "ipython3",
   "version": "3.10.12"
  }
 },
 "nbformat": 4,
 "nbformat_minor": 5
}
