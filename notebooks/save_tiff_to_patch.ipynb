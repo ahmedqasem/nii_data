{
 "cells": [
  {
   "cell_type": "code",
   "execution_count": 58,
   "id": "831cd759-a2d5-428a-99f3-569252e0dce9",
   "metadata": {},
   "outputs": [],
   "source": [
    "from patchify import patchify, unpatchify\n",
    "import tifffile as tif\n",
    "import pandas as pd\n",
    "import matplotlib.pyplot as plt\n",
    "import numpy as np"
   ]
  },
  {
   "cell_type": "markdown",
   "id": "34087740-be29-419b-bbb6-8779afe6519b",
   "metadata": {},
   "source": [
    "### Read csv file"
   ]
  },
  {
   "cell_type": "code",
   "execution_count": 5,
   "id": "dec64ece-bcb3-46f1-a053-bd169243a526",
   "metadata": {},
   "outputs": [],
   "source": [
    "df = pd.read_csv('../../datasets/ADDA/tiff/training_csv.csv')"
   ]
  },
  {
   "cell_type": "code",
   "execution_count": 6,
   "id": "c11d3de3-80db-451c-be48-86ab07436cc3",
   "metadata": {},
   "outputs": [
    {
     "data": {
      "text/html": [
       "<div>\n",
       "<style scoped>\n",
       "    .dataframe tbody tr th:only-of-type {\n",
       "        vertical-align: middle;\n",
       "    }\n",
       "\n",
       "    .dataframe tbody tr th {\n",
       "        vertical-align: top;\n",
       "    }\n",
       "\n",
       "    .dataframe thead th {\n",
       "        text-align: right;\n",
       "    }\n",
       "</style>\n",
       "<table border=\"1\" class=\"dataframe\">\n",
       "  <thead>\n",
       "    <tr style=\"text-align: right;\">\n",
       "      <th></th>\n",
       "      <th>subject_id</th>\n",
       "      <th>dataset</th>\n",
       "      <th>ct_path</th>\n",
       "      <th>pet_path</th>\n",
       "      <th>label_path</th>\n",
       "    </tr>\n",
       "  </thead>\n",
       "  <tbody>\n",
       "    <tr>\n",
       "      <th>0</th>\n",
       "      <td>MDA-020.tiff</td>\n",
       "      <td>source</td>\n",
       "      <td>../datasets/ADDA/tiff/images/MDA-020__CT.tiff</td>\n",
       "      <td>../datasets/ADDA/tiff/images/MDA-020__PT.tiff</td>\n",
       "      <td>../datasets/ADDA/tiff/labels/MDA-020.tiff</td>\n",
       "    </tr>\n",
       "    <tr>\n",
       "      <th>1</th>\n",
       "      <td>MDA-054.tiff</td>\n",
       "      <td>source</td>\n",
       "      <td>../datasets/ADDA/tiff/images/MDA-054__CT.tiff</td>\n",
       "      <td>../datasets/ADDA/tiff/images/MDA-054__PT.tiff</td>\n",
       "      <td>../datasets/ADDA/tiff/labels/MDA-054.tiff</td>\n",
       "    </tr>\n",
       "    <tr>\n",
       "      <th>2</th>\n",
       "      <td>MDA-201.tiff</td>\n",
       "      <td>source</td>\n",
       "      <td>../datasets/ADDA/tiff/images/MDA-201__CT.tiff</td>\n",
       "      <td>../datasets/ADDA/tiff/images/MDA-201__PT.tiff</td>\n",
       "      <td>../datasets/ADDA/tiff/labels/MDA-201.tiff</td>\n",
       "    </tr>\n",
       "    <tr>\n",
       "      <th>3</th>\n",
       "      <td>MDA-184.tiff</td>\n",
       "      <td>source</td>\n",
       "      <td>../datasets/ADDA/tiff/images/MDA-184__CT.tiff</td>\n",
       "      <td>../datasets/ADDA/tiff/images/MDA-184__PT.tiff</td>\n",
       "      <td>../datasets/ADDA/tiff/labels/MDA-184.tiff</td>\n",
       "    </tr>\n",
       "    <tr>\n",
       "      <th>4</th>\n",
       "      <td>MDA-065.tiff</td>\n",
       "      <td>source</td>\n",
       "      <td>../datasets/ADDA/tiff/images/MDA-065__CT.tiff</td>\n",
       "      <td>../datasets/ADDA/tiff/images/MDA-065__PT.tiff</td>\n",
       "      <td>../datasets/ADDA/tiff/labels/MDA-065.tiff</td>\n",
       "    </tr>\n",
       "  </tbody>\n",
       "</table>\n",
       "</div>"
      ],
      "text/plain": [
       "     subject_id dataset                                        ct_path  \\\n",
       "0  MDA-020.tiff  source  ../datasets/ADDA/tiff/images/MDA-020__CT.tiff   \n",
       "1  MDA-054.tiff  source  ../datasets/ADDA/tiff/images/MDA-054__CT.tiff   \n",
       "2  MDA-201.tiff  source  ../datasets/ADDA/tiff/images/MDA-201__CT.tiff   \n",
       "3  MDA-184.tiff  source  ../datasets/ADDA/tiff/images/MDA-184__CT.tiff   \n",
       "4  MDA-065.tiff  source  ../datasets/ADDA/tiff/images/MDA-065__CT.tiff   \n",
       "\n",
       "                                        pet_path  \\\n",
       "0  ../datasets/ADDA/tiff/images/MDA-020__PT.tiff   \n",
       "1  ../datasets/ADDA/tiff/images/MDA-054__PT.tiff   \n",
       "2  ../datasets/ADDA/tiff/images/MDA-201__PT.tiff   \n",
       "3  ../datasets/ADDA/tiff/images/MDA-184__PT.tiff   \n",
       "4  ../datasets/ADDA/tiff/images/MDA-065__PT.tiff   \n",
       "\n",
       "                                  label_path  \n",
       "0  ../datasets/ADDA/tiff/labels/MDA-020.tiff  \n",
       "1  ../datasets/ADDA/tiff/labels/MDA-054.tiff  \n",
       "2  ../datasets/ADDA/tiff/labels/MDA-201.tiff  \n",
       "3  ../datasets/ADDA/tiff/labels/MDA-184.tiff  \n",
       "4  ../datasets/ADDA/tiff/labels/MDA-065.tiff  "
      ]
     },
     "execution_count": 6,
     "metadata": {},
     "output_type": "execute_result"
    }
   ],
   "source": [
    "df.head()"
   ]
  },
  {
   "cell_type": "markdown",
   "id": "a3bfc5b9-83ee-4309-bf83-e925b02eb6eb",
   "metadata": {},
   "source": [
    "fix the path to the images"
   ]
  },
  {
   "cell_type": "code",
   "execution_count": 9,
   "id": "27255532-cd35-4bc9-b870-f11e72070be6",
   "metadata": {},
   "outputs": [],
   "source": [
    "df['ct_path'] = df['ct_path'].apply(lambda x: '../'+x)\n",
    "df['pet_path'] = df['pet_path'].apply(lambda x: '../'+x)\n",
    "df['label_path'] = df['label_path'].apply(lambda x: '../'+x)"
   ]
  },
  {
   "cell_type": "code",
   "execution_count": 10,
   "id": "33871fdc-9933-4aee-ac59-add45f7e9662",
   "metadata": {},
   "outputs": [
    {
     "data": {
      "text/html": [
       "<div>\n",
       "<style scoped>\n",
       "    .dataframe tbody tr th:only-of-type {\n",
       "        vertical-align: middle;\n",
       "    }\n",
       "\n",
       "    .dataframe tbody tr th {\n",
       "        vertical-align: top;\n",
       "    }\n",
       "\n",
       "    .dataframe thead th {\n",
       "        text-align: right;\n",
       "    }\n",
       "</style>\n",
       "<table border=\"1\" class=\"dataframe\">\n",
       "  <thead>\n",
       "    <tr style=\"text-align: right;\">\n",
       "      <th></th>\n",
       "      <th>subject_id</th>\n",
       "      <th>dataset</th>\n",
       "      <th>ct_path</th>\n",
       "      <th>pet_path</th>\n",
       "      <th>label_path</th>\n",
       "    </tr>\n",
       "  </thead>\n",
       "  <tbody>\n",
       "    <tr>\n",
       "      <th>0</th>\n",
       "      <td>MDA-020.tiff</td>\n",
       "      <td>source</td>\n",
       "      <td>../../datasets/ADDA/tiff/images/MDA-020__CT.tiff</td>\n",
       "      <td>../../datasets/ADDA/tiff/images/MDA-020__PT.tiff</td>\n",
       "      <td>../../datasets/ADDA/tiff/labels/MDA-020.tiff</td>\n",
       "    </tr>\n",
       "    <tr>\n",
       "      <th>1</th>\n",
       "      <td>MDA-054.tiff</td>\n",
       "      <td>source</td>\n",
       "      <td>../../datasets/ADDA/tiff/images/MDA-054__CT.tiff</td>\n",
       "      <td>../../datasets/ADDA/tiff/images/MDA-054__PT.tiff</td>\n",
       "      <td>../../datasets/ADDA/tiff/labels/MDA-054.tiff</td>\n",
       "    </tr>\n",
       "    <tr>\n",
       "      <th>2</th>\n",
       "      <td>MDA-201.tiff</td>\n",
       "      <td>source</td>\n",
       "      <td>../../datasets/ADDA/tiff/images/MDA-201__CT.tiff</td>\n",
       "      <td>../../datasets/ADDA/tiff/images/MDA-201__PT.tiff</td>\n",
       "      <td>../../datasets/ADDA/tiff/labels/MDA-201.tiff</td>\n",
       "    </tr>\n",
       "    <tr>\n",
       "      <th>3</th>\n",
       "      <td>MDA-184.tiff</td>\n",
       "      <td>source</td>\n",
       "      <td>../../datasets/ADDA/tiff/images/MDA-184__CT.tiff</td>\n",
       "      <td>../../datasets/ADDA/tiff/images/MDA-184__PT.tiff</td>\n",
       "      <td>../../datasets/ADDA/tiff/labels/MDA-184.tiff</td>\n",
       "    </tr>\n",
       "    <tr>\n",
       "      <th>4</th>\n",
       "      <td>MDA-065.tiff</td>\n",
       "      <td>source</td>\n",
       "      <td>../../datasets/ADDA/tiff/images/MDA-065__CT.tiff</td>\n",
       "      <td>../../datasets/ADDA/tiff/images/MDA-065__PT.tiff</td>\n",
       "      <td>../../datasets/ADDA/tiff/labels/MDA-065.tiff</td>\n",
       "    </tr>\n",
       "  </tbody>\n",
       "</table>\n",
       "</div>"
      ],
      "text/plain": [
       "     subject_id dataset                                           ct_path  \\\n",
       "0  MDA-020.tiff  source  ../../datasets/ADDA/tiff/images/MDA-020__CT.tiff   \n",
       "1  MDA-054.tiff  source  ../../datasets/ADDA/tiff/images/MDA-054__CT.tiff   \n",
       "2  MDA-201.tiff  source  ../../datasets/ADDA/tiff/images/MDA-201__CT.tiff   \n",
       "3  MDA-184.tiff  source  ../../datasets/ADDA/tiff/images/MDA-184__CT.tiff   \n",
       "4  MDA-065.tiff  source  ../../datasets/ADDA/tiff/images/MDA-065__CT.tiff   \n",
       "\n",
       "                                           pet_path  \\\n",
       "0  ../../datasets/ADDA/tiff/images/MDA-020__PT.tiff   \n",
       "1  ../../datasets/ADDA/tiff/images/MDA-054__PT.tiff   \n",
       "2  ../../datasets/ADDA/tiff/images/MDA-201__PT.tiff   \n",
       "3  ../../datasets/ADDA/tiff/images/MDA-184__PT.tiff   \n",
       "4  ../../datasets/ADDA/tiff/images/MDA-065__PT.tiff   \n",
       "\n",
       "                                     label_path  \n",
       "0  ../../datasets/ADDA/tiff/labels/MDA-020.tiff  \n",
       "1  ../../datasets/ADDA/tiff/labels/MDA-054.tiff  \n",
       "2  ../../datasets/ADDA/tiff/labels/MDA-201.tiff  \n",
       "3  ../../datasets/ADDA/tiff/labels/MDA-184.tiff  \n",
       "4  ../../datasets/ADDA/tiff/labels/MDA-065.tiff  "
      ]
     },
     "execution_count": 10,
     "metadata": {},
     "output_type": "execute_result"
    }
   ],
   "source": [
    "df.head()"
   ]
  },
  {
   "cell_type": "markdown",
   "id": "c2413013-b7cf-4687-a0b3-82f8daf18745",
   "metadata": {},
   "source": [
    "## Test Train Split"
   ]
  },
  {
   "cell_type": "markdown",
   "id": "5b8f440f-10a3-49d1-8adf-f3cb345b3b2a",
   "metadata": {},
   "source": [
    "#### 1. Source Dataset"
   ]
  },
  {
   "cell_type": "code",
   "execution_count": 116,
   "id": "49ff6031-29c0-43f2-93a8-014b85d6f5c8",
   "metadata": {},
   "outputs": [
    {
     "data": {
      "text/html": [
       "<div>\n",
       "<style scoped>\n",
       "    .dataframe tbody tr th:only-of-type {\n",
       "        vertical-align: middle;\n",
       "    }\n",
       "\n",
       "    .dataframe tbody tr th {\n",
       "        vertical-align: top;\n",
       "    }\n",
       "\n",
       "    .dataframe thead th {\n",
       "        text-align: right;\n",
       "    }\n",
       "</style>\n",
       "<table border=\"1\" class=\"dataframe\">\n",
       "  <thead>\n",
       "    <tr style=\"text-align: right;\">\n",
       "      <th></th>\n",
       "      <th>subject_id</th>\n",
       "      <th>dataset</th>\n",
       "      <th>ct_path</th>\n",
       "      <th>pet_path</th>\n",
       "      <th>label_path</th>\n",
       "    </tr>\n",
       "  </thead>\n",
       "  <tbody>\n",
       "    <tr>\n",
       "      <th>0</th>\n",
       "      <td>MDA-020.tiff</td>\n",
       "      <td>source</td>\n",
       "      <td>../../datasets/ADDA/tiff/images/MDA-020__CT.tiff</td>\n",
       "      <td>../../datasets/ADDA/tiff/images/MDA-020__PT.tiff</td>\n",
       "      <td>../../datasets/ADDA/tiff/labels/MDA-020.tiff</td>\n",
       "    </tr>\n",
       "    <tr>\n",
       "      <th>1</th>\n",
       "      <td>MDA-054.tiff</td>\n",
       "      <td>source</td>\n",
       "      <td>../../datasets/ADDA/tiff/images/MDA-054__CT.tiff</td>\n",
       "      <td>../../datasets/ADDA/tiff/images/MDA-054__PT.tiff</td>\n",
       "      <td>../../datasets/ADDA/tiff/labels/MDA-054.tiff</td>\n",
       "    </tr>\n",
       "    <tr>\n",
       "      <th>2</th>\n",
       "      <td>MDA-201.tiff</td>\n",
       "      <td>source</td>\n",
       "      <td>../../datasets/ADDA/tiff/images/MDA-201__CT.tiff</td>\n",
       "      <td>../../datasets/ADDA/tiff/images/MDA-201__PT.tiff</td>\n",
       "      <td>../../datasets/ADDA/tiff/labels/MDA-201.tiff</td>\n",
       "    </tr>\n",
       "    <tr>\n",
       "      <th>3</th>\n",
       "      <td>MDA-184.tiff</td>\n",
       "      <td>source</td>\n",
       "      <td>../../datasets/ADDA/tiff/images/MDA-184__CT.tiff</td>\n",
       "      <td>../../datasets/ADDA/tiff/images/MDA-184__PT.tiff</td>\n",
       "      <td>../../datasets/ADDA/tiff/labels/MDA-184.tiff</td>\n",
       "    </tr>\n",
       "    <tr>\n",
       "      <th>4</th>\n",
       "      <td>MDA-065.tiff</td>\n",
       "      <td>source</td>\n",
       "      <td>../../datasets/ADDA/tiff/images/MDA-065__CT.tiff</td>\n",
       "      <td>../../datasets/ADDA/tiff/images/MDA-065__PT.tiff</td>\n",
       "      <td>../../datasets/ADDA/tiff/labels/MDA-065.tiff</td>\n",
       "    </tr>\n",
       "  </tbody>\n",
       "</table>\n",
       "</div>"
      ],
      "text/plain": [
       "     subject_id dataset                                           ct_path  \\\n",
       "0  MDA-020.tiff  source  ../../datasets/ADDA/tiff/images/MDA-020__CT.tiff   \n",
       "1  MDA-054.tiff  source  ../../datasets/ADDA/tiff/images/MDA-054__CT.tiff   \n",
       "2  MDA-201.tiff  source  ../../datasets/ADDA/tiff/images/MDA-201__CT.tiff   \n",
       "3  MDA-184.tiff  source  ../../datasets/ADDA/tiff/images/MDA-184__CT.tiff   \n",
       "4  MDA-065.tiff  source  ../../datasets/ADDA/tiff/images/MDA-065__CT.tiff   \n",
       "\n",
       "                                           pet_path  \\\n",
       "0  ../../datasets/ADDA/tiff/images/MDA-020__PT.tiff   \n",
       "1  ../../datasets/ADDA/tiff/images/MDA-054__PT.tiff   \n",
       "2  ../../datasets/ADDA/tiff/images/MDA-201__PT.tiff   \n",
       "3  ../../datasets/ADDA/tiff/images/MDA-184__PT.tiff   \n",
       "4  ../../datasets/ADDA/tiff/images/MDA-065__PT.tiff   \n",
       "\n",
       "                                     label_path  \n",
       "0  ../../datasets/ADDA/tiff/labels/MDA-020.tiff  \n",
       "1  ../../datasets/ADDA/tiff/labels/MDA-054.tiff  \n",
       "2  ../../datasets/ADDA/tiff/labels/MDA-201.tiff  \n",
       "3  ../../datasets/ADDA/tiff/labels/MDA-184.tiff  \n",
       "4  ../../datasets/ADDA/tiff/labels/MDA-065.tiff  "
      ]
     },
     "execution_count": 116,
     "metadata": {},
     "output_type": "execute_result"
    }
   ],
   "source": [
    "source_df = df[df['dataset']=='source']\n",
    "source_df.head()"
   ]
  },
  {
   "cell_type": "code",
   "execution_count": 119,
   "id": "17685e02-d259-45e3-acc6-b6aea27dabad",
   "metadata": {},
   "outputs": [
    {
     "name": "stdout",
     "output_type": "stream",
     "text": [
      "184 184\n"
     ]
    }
   ],
   "source": [
    "# make sure that the number of images match the number of rows\n",
    "print(source_df.shape[0], source_df['subject_id'].nunique())"
   ]
  },
  {
   "cell_type": "code",
   "execution_count": 120,
   "id": "4fb20147-d475-44c7-b65d-92ec82b09a03",
   "metadata": {},
   "outputs": [],
   "source": [
    "from sklearn.model_selection import train_test_split"
   ]
  },
  {
   "cell_type": "code",
   "execution_count": 121,
   "id": "5be33842-a4ba-4722-a6ad-c1d53aa7a257",
   "metadata": {},
   "outputs": [],
   "source": [
    "# Splitting into train and temp sets first (70% train, 30% temp)\n",
    "train_df, temp_df = train_test_split(source_df, test_size=0.3, random_state=42)"
   ]
  },
  {
   "cell_type": "code",
   "execution_count": 123,
   "id": "f5c11f9c-c225-44b6-890c-98bb29f1a8dd",
   "metadata": {},
   "outputs": [
    {
     "name": "stdout",
     "output_type": "stream",
     "text": [
      "(128, 5) (56, 5)\n"
     ]
    }
   ],
   "source": [
    "print(train_df.shape, temp_df.shape)"
   ]
  },
  {
   "cell_type": "code",
   "execution_count": 124,
   "id": "12c3f040-b545-46e1-b2d4-f82e07071cf3",
   "metadata": {},
   "outputs": [],
   "source": [
    "# Splitting the temp set into test and validation sets (50% test, 50% validation from the temp set)\n",
    "test_df, val_df = train_test_split(temp_df, test_size=0.5, random_state=42)"
   ]
  },
  {
   "cell_type": "code",
   "execution_count": 125,
   "id": "779f0cf0-9802-4b63-a8d9-5333fc7a30d6",
   "metadata": {},
   "outputs": [
    {
     "name": "stdout",
     "output_type": "stream",
     "text": [
      "(28, 5) (28, 5)\n"
     ]
    }
   ],
   "source": [
    "print(test_df.shape, val_df.shape)"
   ]
  },
  {
   "cell_type": "code",
   "execution_count": 126,
   "id": "87228bb9-56df-4761-a019-e10586dfa244",
   "metadata": {},
   "outputs": [],
   "source": [
    "# Adding a new column 'set' to indicate to which set each row belongs\n",
    "train_df['set'] = 'train'\n",
    "test_df['set'] = 'test'\n",
    "val_df['set'] = 'validation'"
   ]
  },
  {
   "cell_type": "code",
   "execution_count": null,
   "id": "431ee8e4-31ba-4005-b9bf-0f1dfa340e38",
   "metadata": {},
   "outputs": [],
   "source": [
    "# Concatenating all sets back into a single DataFrame\n",
    "source_df_split = pd.concat([train_df, test_df, val_df])\n",
    "\n",
    "# Resetting the index of the final DataFrame\n",
    "source_df_split.reset_index(drop=True, inplace=True)"
   ]
  },
  {
   "cell_type": "code",
   "execution_count": 128,
   "id": "57103d3c-3f8f-4138-a160-50114157873d",
   "metadata": {},
   "outputs": [
    {
     "data": {
      "text/html": [
       "<div>\n",
       "<style scoped>\n",
       "    .dataframe tbody tr th:only-of-type {\n",
       "        vertical-align: middle;\n",
       "    }\n",
       "\n",
       "    .dataframe tbody tr th {\n",
       "        vertical-align: top;\n",
       "    }\n",
       "\n",
       "    .dataframe thead th {\n",
       "        text-align: right;\n",
       "    }\n",
       "</style>\n",
       "<table border=\"1\" class=\"dataframe\">\n",
       "  <thead>\n",
       "    <tr style=\"text-align: right;\">\n",
       "      <th></th>\n",
       "      <th>subject_id</th>\n",
       "      <th>dataset</th>\n",
       "      <th>ct_path</th>\n",
       "      <th>pet_path</th>\n",
       "      <th>label_path</th>\n",
       "      <th>set</th>\n",
       "    </tr>\n",
       "  </thead>\n",
       "  <tbody>\n",
       "    <tr>\n",
       "      <th>0</th>\n",
       "      <td>MDA-039.tiff</td>\n",
       "      <td>source</td>\n",
       "      <td>../../datasets/ADDA/tiff/images/MDA-039__CT.tiff</td>\n",
       "      <td>../../datasets/ADDA/tiff/images/MDA-039__PT.tiff</td>\n",
       "      <td>../../datasets/ADDA/tiff/labels/MDA-039.tiff</td>\n",
       "      <td>train</td>\n",
       "    </tr>\n",
       "    <tr>\n",
       "      <th>1</th>\n",
       "      <td>MDA-192.tiff</td>\n",
       "      <td>source</td>\n",
       "      <td>../../datasets/ADDA/tiff/images/MDA-192__CT.tiff</td>\n",
       "      <td>../../datasets/ADDA/tiff/images/MDA-192__PT.tiff</td>\n",
       "      <td>../../datasets/ADDA/tiff/labels/MDA-192.tiff</td>\n",
       "      <td>train</td>\n",
       "    </tr>\n",
       "    <tr>\n",
       "      <th>2</th>\n",
       "      <td>MDA-187.tiff</td>\n",
       "      <td>source</td>\n",
       "      <td>../../datasets/ADDA/tiff/images/MDA-187__CT.tiff</td>\n",
       "      <td>../../datasets/ADDA/tiff/images/MDA-187__PT.tiff</td>\n",
       "      <td>../../datasets/ADDA/tiff/labels/MDA-187.tiff</td>\n",
       "      <td>train</td>\n",
       "    </tr>\n",
       "    <tr>\n",
       "      <th>3</th>\n",
       "      <td>MDA-179.tiff</td>\n",
       "      <td>source</td>\n",
       "      <td>../../datasets/ADDA/tiff/images/MDA-179__CT.tiff</td>\n",
       "      <td>../../datasets/ADDA/tiff/images/MDA-179__PT.tiff</td>\n",
       "      <td>../../datasets/ADDA/tiff/labels/MDA-179.tiff</td>\n",
       "      <td>train</td>\n",
       "    </tr>\n",
       "    <tr>\n",
       "      <th>4</th>\n",
       "      <td>MDA-162.tiff</td>\n",
       "      <td>source</td>\n",
       "      <td>../../datasets/ADDA/tiff/images/MDA-162__CT.tiff</td>\n",
       "      <td>../../datasets/ADDA/tiff/images/MDA-162__PT.tiff</td>\n",
       "      <td>../../datasets/ADDA/tiff/labels/MDA-162.tiff</td>\n",
       "      <td>train</td>\n",
       "    </tr>\n",
       "  </tbody>\n",
       "</table>\n",
       "</div>"
      ],
      "text/plain": [
       "     subject_id dataset                                           ct_path  \\\n",
       "0  MDA-039.tiff  source  ../../datasets/ADDA/tiff/images/MDA-039__CT.tiff   \n",
       "1  MDA-192.tiff  source  ../../datasets/ADDA/tiff/images/MDA-192__CT.tiff   \n",
       "2  MDA-187.tiff  source  ../../datasets/ADDA/tiff/images/MDA-187__CT.tiff   \n",
       "3  MDA-179.tiff  source  ../../datasets/ADDA/tiff/images/MDA-179__CT.tiff   \n",
       "4  MDA-162.tiff  source  ../../datasets/ADDA/tiff/images/MDA-162__CT.tiff   \n",
       "\n",
       "                                           pet_path  \\\n",
       "0  ../../datasets/ADDA/tiff/images/MDA-039__PT.tiff   \n",
       "1  ../../datasets/ADDA/tiff/images/MDA-192__PT.tiff   \n",
       "2  ../../datasets/ADDA/tiff/images/MDA-187__PT.tiff   \n",
       "3  ../../datasets/ADDA/tiff/images/MDA-179__PT.tiff   \n",
       "4  ../../datasets/ADDA/tiff/images/MDA-162__PT.tiff   \n",
       "\n",
       "                                     label_path    set  \n",
       "0  ../../datasets/ADDA/tiff/labels/MDA-039.tiff  train  \n",
       "1  ../../datasets/ADDA/tiff/labels/MDA-192.tiff  train  \n",
       "2  ../../datasets/ADDA/tiff/labels/MDA-187.tiff  train  \n",
       "3  ../../datasets/ADDA/tiff/labels/MDA-179.tiff  train  \n",
       "4  ../../datasets/ADDA/tiff/labels/MDA-162.tiff  train  "
      ]
     },
     "execution_count": 128,
     "metadata": {},
     "output_type": "execute_result"
    }
   ],
   "source": [
    "\n",
    "source_df_split.head()"
   ]
  },
  {
   "cell_type": "code",
   "execution_count": 129,
   "id": "9d0bcb2f-b56c-4745-b829-be93538b5d16",
   "metadata": {},
   "outputs": [
    {
     "data": {
      "text/plain": [
       "set\n",
       "train         128\n",
       "test           28\n",
       "validation     28\n",
       "Name: count, dtype: int64"
      ]
     },
     "execution_count": 129,
     "metadata": {},
     "output_type": "execute_result"
    }
   ],
   "source": [
    "source_df_split['set'].value_counts()"
   ]
  },
  {
   "cell_type": "markdown",
   "id": "f61c8366-1013-4a2b-8e52-08ee9b4d118e",
   "metadata": {},
   "source": [
    "#### 2. Target Dataset"
   ]
  },
  {
   "cell_type": "code",
   "execution_count": 130,
   "id": "f4b1055b-583f-4ed7-a265-205d963a20e2",
   "metadata": {},
   "outputs": [
    {
     "data": {
      "text/html": [
       "<div>\n",
       "<style scoped>\n",
       "    .dataframe tbody tr th:only-of-type {\n",
       "        vertical-align: middle;\n",
       "    }\n",
       "\n",
       "    .dataframe tbody tr th {\n",
       "        vertical-align: top;\n",
       "    }\n",
       "\n",
       "    .dataframe thead th {\n",
       "        text-align: right;\n",
       "    }\n",
       "</style>\n",
       "<table border=\"1\" class=\"dataframe\">\n",
       "  <thead>\n",
       "    <tr style=\"text-align: right;\">\n",
       "      <th></th>\n",
       "      <th>subject_id</th>\n",
       "      <th>dataset</th>\n",
       "      <th>ct_path</th>\n",
       "      <th>pet_path</th>\n",
       "      <th>label_path</th>\n",
       "    </tr>\n",
       "  </thead>\n",
       "  <tbody>\n",
       "    <tr>\n",
       "      <th>184</th>\n",
       "      <td>CHUP-005.tiff</td>\n",
       "      <td>target</td>\n",
       "      <td>../../datasets/ADDA/tiff/images/CHUP-005__CT.tiff</td>\n",
       "      <td>../../datasets/ADDA/tiff/images/CHUP-005__PT.tiff</td>\n",
       "      <td>../../datasets/ADDA/tiff/labels/CHUP-005.tiff</td>\n",
       "    </tr>\n",
       "    <tr>\n",
       "      <th>185</th>\n",
       "      <td>CHUP-022.tiff</td>\n",
       "      <td>target</td>\n",
       "      <td>../../datasets/ADDA/tiff/images/CHUP-022__CT.tiff</td>\n",
       "      <td>../../datasets/ADDA/tiff/images/CHUP-022__PT.tiff</td>\n",
       "      <td>../../datasets/ADDA/tiff/labels/CHUP-022.tiff</td>\n",
       "    </tr>\n",
       "    <tr>\n",
       "      <th>186</th>\n",
       "      <td>CHUP-024.tiff</td>\n",
       "      <td>target</td>\n",
       "      <td>../../datasets/ADDA/tiff/images/CHUP-024__CT.tiff</td>\n",
       "      <td>../../datasets/ADDA/tiff/images/CHUP-024__PT.tiff</td>\n",
       "      <td>../../datasets/ADDA/tiff/labels/CHUP-024.tiff</td>\n",
       "    </tr>\n",
       "    <tr>\n",
       "      <th>187</th>\n",
       "      <td>CHUP-064.tiff</td>\n",
       "      <td>target</td>\n",
       "      <td>../../datasets/ADDA/tiff/images/CHUP-064__CT.tiff</td>\n",
       "      <td>../../datasets/ADDA/tiff/images/CHUP-064__PT.tiff</td>\n",
       "      <td>../../datasets/ADDA/tiff/labels/CHUP-064.tiff</td>\n",
       "    </tr>\n",
       "    <tr>\n",
       "      <th>188</th>\n",
       "      <td>CHUP-051.tiff</td>\n",
       "      <td>target</td>\n",
       "      <td>../../datasets/ADDA/tiff/images/CHUP-051__CT.tiff</td>\n",
       "      <td>../../datasets/ADDA/tiff/images/CHUP-051__PT.tiff</td>\n",
       "      <td>../../datasets/ADDA/tiff/labels/CHUP-051.tiff</td>\n",
       "    </tr>\n",
       "  </tbody>\n",
       "</table>\n",
       "</div>"
      ],
      "text/plain": [
       "        subject_id dataset                                            ct_path  \\\n",
       "184  CHUP-005.tiff  target  ../../datasets/ADDA/tiff/images/CHUP-005__CT.tiff   \n",
       "185  CHUP-022.tiff  target  ../../datasets/ADDA/tiff/images/CHUP-022__CT.tiff   \n",
       "186  CHUP-024.tiff  target  ../../datasets/ADDA/tiff/images/CHUP-024__CT.tiff   \n",
       "187  CHUP-064.tiff  target  ../../datasets/ADDA/tiff/images/CHUP-064__CT.tiff   \n",
       "188  CHUP-051.tiff  target  ../../datasets/ADDA/tiff/images/CHUP-051__CT.tiff   \n",
       "\n",
       "                                              pet_path  \\\n",
       "184  ../../datasets/ADDA/tiff/images/CHUP-005__PT.tiff   \n",
       "185  ../../datasets/ADDA/tiff/images/CHUP-022__PT.tiff   \n",
       "186  ../../datasets/ADDA/tiff/images/CHUP-024__PT.tiff   \n",
       "187  ../../datasets/ADDA/tiff/images/CHUP-064__PT.tiff   \n",
       "188  ../../datasets/ADDA/tiff/images/CHUP-051__PT.tiff   \n",
       "\n",
       "                                        label_path  \n",
       "184  ../../datasets/ADDA/tiff/labels/CHUP-005.tiff  \n",
       "185  ../../datasets/ADDA/tiff/labels/CHUP-022.tiff  \n",
       "186  ../../datasets/ADDA/tiff/labels/CHUP-024.tiff  \n",
       "187  ../../datasets/ADDA/tiff/labels/CHUP-064.tiff  \n",
       "188  ../../datasets/ADDA/tiff/labels/CHUP-051.tiff  "
      ]
     },
     "execution_count": 130,
     "metadata": {},
     "output_type": "execute_result"
    }
   ],
   "source": [
    "target_df = df[df['dataset']=='target']\n",
    "target_df.head()"
   ]
  },
  {
   "cell_type": "code",
   "execution_count": 131,
   "id": "11763075-1749-4711-80ca-5983812e39c8",
   "metadata": {},
   "outputs": [
    {
     "name": "stdout",
     "output_type": "stream",
     "text": [
      "72 72\n"
     ]
    }
   ],
   "source": [
    "# make sure that the number of images match the number of rows\n",
    "print(target_df.shape[0], target_df['subject_id'].nunique())"
   ]
  },
  {
   "cell_type": "code",
   "execution_count": 138,
   "id": "187a6f53-a776-4cd0-8c56-94cf15b3bc20",
   "metadata": {},
   "outputs": [],
   "source": [
    "# Splitting into train and temp sets first (70% train, 30% temp)\n",
    "target_train_df, target_temp_df = train_test_split(target_df, test_size=0.3, random_state=42)"
   ]
  },
  {
   "cell_type": "code",
   "execution_count": 139,
   "id": "283a7980-f63d-4ec5-bdf1-a2035ea899ca",
   "metadata": {},
   "outputs": [
    {
     "name": "stdout",
     "output_type": "stream",
     "text": [
      "(50, 5) (22, 5)\n"
     ]
    }
   ],
   "source": [
    "print(target_train_df.shape, target_temp_df.shape)"
   ]
  },
  {
   "cell_type": "code",
   "execution_count": 145,
   "id": "564ef837-59b2-4c0a-8e52-d6bbe321009e",
   "metadata": {},
   "outputs": [],
   "source": [
    "# Splitting the temp set into test and validation sets (50% test, 50% validation from the temp set)\n",
    "target_test_df, target_val_df = train_test_split(target_temp_df, test_size=0.3, random_state=42)"
   ]
  },
  {
   "cell_type": "code",
   "execution_count": 146,
   "id": "e2152900-a31b-4e57-91d6-a385357a9691",
   "metadata": {},
   "outputs": [
    {
     "name": "stdout",
     "output_type": "stream",
     "text": [
      "(15, 5) (7, 5)\n"
     ]
    }
   ],
   "source": [
    "print(target_test_df.shape, target_val_df.shape)"
   ]
  },
  {
   "cell_type": "code",
   "execution_count": 147,
   "id": "1622f92b-628b-47ad-8b05-48204ea739ca",
   "metadata": {},
   "outputs": [],
   "source": [
    "# Adding a new column 'set' to indicate to which set each row belongs\n",
    "target_train_df['set'] = 'train'\n",
    "target_test_df['set'] = 'test'\n",
    "target_val_df['set'] = 'validation'"
   ]
  },
  {
   "cell_type": "code",
   "execution_count": 148,
   "id": "02e39709-4915-4ae8-9619-a512be4a963a",
   "metadata": {},
   "outputs": [],
   "source": [
    "# Concatenating all sets back into a single DataFrame\n",
    "target_df_split = pd.concat([target_train_df, target_test_df, target_val_df])\n",
    "\n",
    "# Resetting the index of the final DataFrame\n",
    "target_df_split.reset_index(drop=True, inplace=True)"
   ]
  },
  {
   "cell_type": "code",
   "execution_count": 149,
   "id": "f908bd28-3379-4b07-97b0-3d1555d40c27",
   "metadata": {},
   "outputs": [
    {
     "data": {
      "text/html": [
       "<div>\n",
       "<style scoped>\n",
       "    .dataframe tbody tr th:only-of-type {\n",
       "        vertical-align: middle;\n",
       "    }\n",
       "\n",
       "    .dataframe tbody tr th {\n",
       "        vertical-align: top;\n",
       "    }\n",
       "\n",
       "    .dataframe thead th {\n",
       "        text-align: right;\n",
       "    }\n",
       "</style>\n",
       "<table border=\"1\" class=\"dataframe\">\n",
       "  <thead>\n",
       "    <tr style=\"text-align: right;\">\n",
       "      <th></th>\n",
       "      <th>subject_id</th>\n",
       "      <th>dataset</th>\n",
       "      <th>ct_path</th>\n",
       "      <th>pet_path</th>\n",
       "      <th>label_path</th>\n",
       "      <th>set</th>\n",
       "    </tr>\n",
       "  </thead>\n",
       "  <tbody>\n",
       "    <tr>\n",
       "      <th>0</th>\n",
       "      <td>CHUP-016.tiff</td>\n",
       "      <td>target</td>\n",
       "      <td>../../datasets/ADDA/tiff/images/CHUP-016__CT.tiff</td>\n",
       "      <td>../../datasets/ADDA/tiff/images/CHUP-016__PT.tiff</td>\n",
       "      <td>../../datasets/ADDA/tiff/labels/CHUP-016.tiff</td>\n",
       "      <td>train</td>\n",
       "    </tr>\n",
       "    <tr>\n",
       "      <th>1</th>\n",
       "      <td>CHUP-003.tiff</td>\n",
       "      <td>target</td>\n",
       "      <td>../../datasets/ADDA/tiff/images/CHUP-003__CT.tiff</td>\n",
       "      <td>../../datasets/ADDA/tiff/images/CHUP-003__PT.tiff</td>\n",
       "      <td>../../datasets/ADDA/tiff/labels/CHUP-003.tiff</td>\n",
       "      <td>train</td>\n",
       "    </tr>\n",
       "    <tr>\n",
       "      <th>2</th>\n",
       "      <td>CHUP-017.tiff</td>\n",
       "      <td>target</td>\n",
       "      <td>../../datasets/ADDA/tiff/images/CHUP-017__CT.tiff</td>\n",
       "      <td>../../datasets/ADDA/tiff/images/CHUP-017__PT.tiff</td>\n",
       "      <td>../../datasets/ADDA/tiff/labels/CHUP-017.tiff</td>\n",
       "      <td>train</td>\n",
       "    </tr>\n",
       "    <tr>\n",
       "      <th>3</th>\n",
       "      <td>CHUP-041.tiff</td>\n",
       "      <td>target</td>\n",
       "      <td>../../datasets/ADDA/tiff/images/CHUP-041__CT.tiff</td>\n",
       "      <td>../../datasets/ADDA/tiff/images/CHUP-041__PT.tiff</td>\n",
       "      <td>../../datasets/ADDA/tiff/labels/CHUP-041.tiff</td>\n",
       "      <td>train</td>\n",
       "    </tr>\n",
       "    <tr>\n",
       "      <th>4</th>\n",
       "      <td>CHUP-037.tiff</td>\n",
       "      <td>target</td>\n",
       "      <td>../../datasets/ADDA/tiff/images/CHUP-037__CT.tiff</td>\n",
       "      <td>../../datasets/ADDA/tiff/images/CHUP-037__PT.tiff</td>\n",
       "      <td>../../datasets/ADDA/tiff/labels/CHUP-037.tiff</td>\n",
       "      <td>train</td>\n",
       "    </tr>\n",
       "  </tbody>\n",
       "</table>\n",
       "</div>"
      ],
      "text/plain": [
       "      subject_id dataset                                            ct_path  \\\n",
       "0  CHUP-016.tiff  target  ../../datasets/ADDA/tiff/images/CHUP-016__CT.tiff   \n",
       "1  CHUP-003.tiff  target  ../../datasets/ADDA/tiff/images/CHUP-003__CT.tiff   \n",
       "2  CHUP-017.tiff  target  ../../datasets/ADDA/tiff/images/CHUP-017__CT.tiff   \n",
       "3  CHUP-041.tiff  target  ../../datasets/ADDA/tiff/images/CHUP-041__CT.tiff   \n",
       "4  CHUP-037.tiff  target  ../../datasets/ADDA/tiff/images/CHUP-037__CT.tiff   \n",
       "\n",
       "                                            pet_path  \\\n",
       "0  ../../datasets/ADDA/tiff/images/CHUP-016__PT.tiff   \n",
       "1  ../../datasets/ADDA/tiff/images/CHUP-003__PT.tiff   \n",
       "2  ../../datasets/ADDA/tiff/images/CHUP-017__PT.tiff   \n",
       "3  ../../datasets/ADDA/tiff/images/CHUP-041__PT.tiff   \n",
       "4  ../../datasets/ADDA/tiff/images/CHUP-037__PT.tiff   \n",
       "\n",
       "                                      label_path    set  \n",
       "0  ../../datasets/ADDA/tiff/labels/CHUP-016.tiff  train  \n",
       "1  ../../datasets/ADDA/tiff/labels/CHUP-003.tiff  train  \n",
       "2  ../../datasets/ADDA/tiff/labels/CHUP-017.tiff  train  \n",
       "3  ../../datasets/ADDA/tiff/labels/CHUP-041.tiff  train  \n",
       "4  ../../datasets/ADDA/tiff/labels/CHUP-037.tiff  train  "
      ]
     },
     "execution_count": 149,
     "metadata": {},
     "output_type": "execute_result"
    }
   ],
   "source": [
    "\n",
    "target_df_split.head()"
   ]
  },
  {
   "cell_type": "code",
   "execution_count": 150,
   "id": "40cb5b17-2864-49aa-8e39-ff8dca794c05",
   "metadata": {},
   "outputs": [
    {
     "data": {
      "text/plain": [
       "set\n",
       "train         50\n",
       "test          15\n",
       "validation     7\n",
       "Name: count, dtype: int64"
      ]
     },
     "execution_count": 150,
     "metadata": {},
     "output_type": "execute_result"
    }
   ],
   "source": [
    "target_df_split['set'].value_counts()"
   ]
  },
  {
   "cell_type": "markdown",
   "id": "e3957caa-085d-41ba-8750-90925e129984",
   "metadata": {},
   "source": [
    "#### 3. Combine Both Dataset"
   ]
  },
  {
   "cell_type": "code",
   "execution_count": 151,
   "id": "44e62d36-0ff1-45db-a5fd-17ff3fc8694d",
   "metadata": {},
   "outputs": [],
   "source": [
    "ADDA_train_file = pd.concat([source_df_split, target_df_split])"
   ]
  },
  {
   "cell_type": "code",
   "execution_count": 152,
   "id": "1450ff68-5f71-4993-8ad0-ed2fe39094fd",
   "metadata": {},
   "outputs": [
    {
     "data": {
      "text/html": [
       "<div>\n",
       "<style scoped>\n",
       "    .dataframe tbody tr th:only-of-type {\n",
       "        vertical-align: middle;\n",
       "    }\n",
       "\n",
       "    .dataframe tbody tr th {\n",
       "        vertical-align: top;\n",
       "    }\n",
       "\n",
       "    .dataframe thead th {\n",
       "        text-align: right;\n",
       "    }\n",
       "</style>\n",
       "<table border=\"1\" class=\"dataframe\">\n",
       "  <thead>\n",
       "    <tr style=\"text-align: right;\">\n",
       "      <th></th>\n",
       "      <th>subject_id</th>\n",
       "      <th>dataset</th>\n",
       "      <th>ct_path</th>\n",
       "      <th>pet_path</th>\n",
       "      <th>label_path</th>\n",
       "      <th>set</th>\n",
       "    </tr>\n",
       "  </thead>\n",
       "  <tbody>\n",
       "    <tr>\n",
       "      <th>0</th>\n",
       "      <td>MDA-039.tiff</td>\n",
       "      <td>source</td>\n",
       "      <td>../../datasets/ADDA/tiff/images/MDA-039__CT.tiff</td>\n",
       "      <td>../../datasets/ADDA/tiff/images/MDA-039__PT.tiff</td>\n",
       "      <td>../../datasets/ADDA/tiff/labels/MDA-039.tiff</td>\n",
       "      <td>train</td>\n",
       "    </tr>\n",
       "    <tr>\n",
       "      <th>1</th>\n",
       "      <td>MDA-192.tiff</td>\n",
       "      <td>source</td>\n",
       "      <td>../../datasets/ADDA/tiff/images/MDA-192__CT.tiff</td>\n",
       "      <td>../../datasets/ADDA/tiff/images/MDA-192__PT.tiff</td>\n",
       "      <td>../../datasets/ADDA/tiff/labels/MDA-192.tiff</td>\n",
       "      <td>train</td>\n",
       "    </tr>\n",
       "    <tr>\n",
       "      <th>2</th>\n",
       "      <td>MDA-187.tiff</td>\n",
       "      <td>source</td>\n",
       "      <td>../../datasets/ADDA/tiff/images/MDA-187__CT.tiff</td>\n",
       "      <td>../../datasets/ADDA/tiff/images/MDA-187__PT.tiff</td>\n",
       "      <td>../../datasets/ADDA/tiff/labels/MDA-187.tiff</td>\n",
       "      <td>train</td>\n",
       "    </tr>\n",
       "    <tr>\n",
       "      <th>3</th>\n",
       "      <td>MDA-179.tiff</td>\n",
       "      <td>source</td>\n",
       "      <td>../../datasets/ADDA/tiff/images/MDA-179__CT.tiff</td>\n",
       "      <td>../../datasets/ADDA/tiff/images/MDA-179__PT.tiff</td>\n",
       "      <td>../../datasets/ADDA/tiff/labels/MDA-179.tiff</td>\n",
       "      <td>train</td>\n",
       "    </tr>\n",
       "    <tr>\n",
       "      <th>4</th>\n",
       "      <td>MDA-162.tiff</td>\n",
       "      <td>source</td>\n",
       "      <td>../../datasets/ADDA/tiff/images/MDA-162__CT.tiff</td>\n",
       "      <td>../../datasets/ADDA/tiff/images/MDA-162__PT.tiff</td>\n",
       "      <td>../../datasets/ADDA/tiff/labels/MDA-162.tiff</td>\n",
       "      <td>train</td>\n",
       "    </tr>\n",
       "  </tbody>\n",
       "</table>\n",
       "</div>"
      ],
      "text/plain": [
       "     subject_id dataset                                           ct_path  \\\n",
       "0  MDA-039.tiff  source  ../../datasets/ADDA/tiff/images/MDA-039__CT.tiff   \n",
       "1  MDA-192.tiff  source  ../../datasets/ADDA/tiff/images/MDA-192__CT.tiff   \n",
       "2  MDA-187.tiff  source  ../../datasets/ADDA/tiff/images/MDA-187__CT.tiff   \n",
       "3  MDA-179.tiff  source  ../../datasets/ADDA/tiff/images/MDA-179__CT.tiff   \n",
       "4  MDA-162.tiff  source  ../../datasets/ADDA/tiff/images/MDA-162__CT.tiff   \n",
       "\n",
       "                                           pet_path  \\\n",
       "0  ../../datasets/ADDA/tiff/images/MDA-039__PT.tiff   \n",
       "1  ../../datasets/ADDA/tiff/images/MDA-192__PT.tiff   \n",
       "2  ../../datasets/ADDA/tiff/images/MDA-187__PT.tiff   \n",
       "3  ../../datasets/ADDA/tiff/images/MDA-179__PT.tiff   \n",
       "4  ../../datasets/ADDA/tiff/images/MDA-162__PT.tiff   \n",
       "\n",
       "                                     label_path    set  \n",
       "0  ../../datasets/ADDA/tiff/labels/MDA-039.tiff  train  \n",
       "1  ../../datasets/ADDA/tiff/labels/MDA-192.tiff  train  \n",
       "2  ../../datasets/ADDA/tiff/labels/MDA-187.tiff  train  \n",
       "3  ../../datasets/ADDA/tiff/labels/MDA-179.tiff  train  \n",
       "4  ../../datasets/ADDA/tiff/labels/MDA-162.tiff  train  "
      ]
     },
     "execution_count": 152,
     "metadata": {},
     "output_type": "execute_result"
    }
   ],
   "source": [
    "ADDA_train_file.head()"
   ]
  },
  {
   "cell_type": "code",
   "execution_count": 154,
   "id": "96ccf62e-4450-4b13-a232-c511a3527502",
   "metadata": {},
   "outputs": [
    {
     "data": {
      "text/plain": [
       "dataset  set       \n",
       "source   test           28\n",
       "         train         128\n",
       "         validation     28\n",
       "target   test           15\n",
       "         train          50\n",
       "         validation      7\n",
       "Name: count, dtype: int64"
      ]
     },
     "execution_count": 154,
     "metadata": {},
     "output_type": "execute_result"
    }
   ],
   "source": [
    "ADDA_train_file[['dataset', 'set']].value_counts().sort_index()"
   ]
  },
  {
   "cell_type": "code",
   "execution_count": 155,
   "id": "4b03b571-e8a0-4f07-b49e-5c0c2c703aec",
   "metadata": {},
   "outputs": [],
   "source": [
    "## save the training file\n",
    "ADDA_train_file.to_csv('../../datasets/ADDA/tiff/training_csv_with_splits.csv', index=False)"
   ]
  },
  {
   "cell_type": "code",
   "execution_count": null,
   "id": "7771d863-9070-474c-aac7-d575f6ecf08f",
   "metadata": {},
   "outputs": [],
   "source": []
  },
  {
   "cell_type": "code",
   "execution_count": null,
   "id": "2e109388-7463-4bb0-b10a-67e6975e1a54",
   "metadata": {},
   "outputs": [],
   "source": []
  },
  {
   "cell_type": "markdown",
   "id": "c9e09a17-06a3-4912-b3ac-c7a9da689722",
   "metadata": {},
   "source": [
    "# Start Here"
   ]
  },
  {
   "cell_type": "markdown",
   "id": "dcd5ca40-2fcd-4a87-bea8-2bc9ed4f0a1a",
   "metadata": {},
   "source": [
    "## read the first ct image "
   ]
  },
  {
   "cell_type": "code",
   "execution_count": null,
   "id": "5c3c2e4d-1ece-4e03-9285-5eaeb1f08f79",
   "metadata": {},
   "outputs": [],
   "source": []
  },
  {
   "cell_type": "code",
   "execution_count": 4,
   "id": "49e37e32-50f7-44b2-bcb3-4631538762d8",
   "metadata": {},
   "outputs": [],
   "source": [
    "df = pd.read_csv('../../datasets/ADDA/tiff/training_csv_with_splits.csv')"
   ]
  },
  {
   "cell_type": "code",
   "execution_count": 6,
   "id": "05a16625-7b37-4b5a-925f-3e33ba09faa4",
   "metadata": {},
   "outputs": [
    {
     "data": {
      "text/html": [
       "<div>\n",
       "<style scoped>\n",
       "    .dataframe tbody tr th:only-of-type {\n",
       "        vertical-align: middle;\n",
       "    }\n",
       "\n",
       "    .dataframe tbody tr th {\n",
       "        vertical-align: top;\n",
       "    }\n",
       "\n",
       "    .dataframe thead th {\n",
       "        text-align: right;\n",
       "    }\n",
       "</style>\n",
       "<table border=\"1\" class=\"dataframe\">\n",
       "  <thead>\n",
       "    <tr style=\"text-align: right;\">\n",
       "      <th></th>\n",
       "      <th>subject_id</th>\n",
       "      <th>dataset</th>\n",
       "      <th>ct_path</th>\n",
       "      <th>pet_path</th>\n",
       "      <th>label_path</th>\n",
       "      <th>set</th>\n",
       "    </tr>\n",
       "  </thead>\n",
       "  <tbody>\n",
       "    <tr>\n",
       "      <th>0</th>\n",
       "      <td>MDA-039.tiff</td>\n",
       "      <td>source</td>\n",
       "      <td>../../datasets/ADDA/tiff/images/MDA-039__CT.tiff</td>\n",
       "      <td>../../datasets/ADDA/tiff/images/MDA-039__PT.tiff</td>\n",
       "      <td>../../datasets/ADDA/tiff/labels/MDA-039.tiff</td>\n",
       "      <td>train</td>\n",
       "    </tr>\n",
       "    <tr>\n",
       "      <th>1</th>\n",
       "      <td>MDA-192.tiff</td>\n",
       "      <td>source</td>\n",
       "      <td>../../datasets/ADDA/tiff/images/MDA-192__CT.tiff</td>\n",
       "      <td>../../datasets/ADDA/tiff/images/MDA-192__PT.tiff</td>\n",
       "      <td>../../datasets/ADDA/tiff/labels/MDA-192.tiff</td>\n",
       "      <td>train</td>\n",
       "    </tr>\n",
       "    <tr>\n",
       "      <th>2</th>\n",
       "      <td>MDA-187.tiff</td>\n",
       "      <td>source</td>\n",
       "      <td>../../datasets/ADDA/tiff/images/MDA-187__CT.tiff</td>\n",
       "      <td>../../datasets/ADDA/tiff/images/MDA-187__PT.tiff</td>\n",
       "      <td>../../datasets/ADDA/tiff/labels/MDA-187.tiff</td>\n",
       "      <td>train</td>\n",
       "    </tr>\n",
       "    <tr>\n",
       "      <th>3</th>\n",
       "      <td>MDA-179.tiff</td>\n",
       "      <td>source</td>\n",
       "      <td>../../datasets/ADDA/tiff/images/MDA-179__CT.tiff</td>\n",
       "      <td>../../datasets/ADDA/tiff/images/MDA-179__PT.tiff</td>\n",
       "      <td>../../datasets/ADDA/tiff/labels/MDA-179.tiff</td>\n",
       "      <td>train</td>\n",
       "    </tr>\n",
       "    <tr>\n",
       "      <th>4</th>\n",
       "      <td>MDA-162.tiff</td>\n",
       "      <td>source</td>\n",
       "      <td>../../datasets/ADDA/tiff/images/MDA-162__CT.tiff</td>\n",
       "      <td>../../datasets/ADDA/tiff/images/MDA-162__PT.tiff</td>\n",
       "      <td>../../datasets/ADDA/tiff/labels/MDA-162.tiff</td>\n",
       "      <td>train</td>\n",
       "    </tr>\n",
       "  </tbody>\n",
       "</table>\n",
       "</div>"
      ],
      "text/plain": [
       "     subject_id dataset                                           ct_path  \\\n",
       "0  MDA-039.tiff  source  ../../datasets/ADDA/tiff/images/MDA-039__CT.tiff   \n",
       "1  MDA-192.tiff  source  ../../datasets/ADDA/tiff/images/MDA-192__CT.tiff   \n",
       "2  MDA-187.tiff  source  ../../datasets/ADDA/tiff/images/MDA-187__CT.tiff   \n",
       "3  MDA-179.tiff  source  ../../datasets/ADDA/tiff/images/MDA-179__CT.tiff   \n",
       "4  MDA-162.tiff  source  ../../datasets/ADDA/tiff/images/MDA-162__CT.tiff   \n",
       "\n",
       "                                           pet_path  \\\n",
       "0  ../../datasets/ADDA/tiff/images/MDA-039__PT.tiff   \n",
       "1  ../../datasets/ADDA/tiff/images/MDA-192__PT.tiff   \n",
       "2  ../../datasets/ADDA/tiff/images/MDA-187__PT.tiff   \n",
       "3  ../../datasets/ADDA/tiff/images/MDA-179__PT.tiff   \n",
       "4  ../../datasets/ADDA/tiff/images/MDA-162__PT.tiff   \n",
       "\n",
       "                                     label_path    set  \n",
       "0  ../../datasets/ADDA/tiff/labels/MDA-039.tiff  train  \n",
       "1  ../../datasets/ADDA/tiff/labels/MDA-192.tiff  train  \n",
       "2  ../../datasets/ADDA/tiff/labels/MDA-187.tiff  train  \n",
       "3  ../../datasets/ADDA/tiff/labels/MDA-179.tiff  train  \n",
       "4  ../../datasets/ADDA/tiff/labels/MDA-162.tiff  train  "
      ]
     },
     "execution_count": 6,
     "metadata": {},
     "output_type": "execute_result"
    }
   ],
   "source": [
    "df.head()"
   ]
  },
  {
   "cell_type": "code",
   "execution_count": 185,
   "id": "ce10e0c1-1deb-4139-9656-f37cf4948692",
   "metadata": {},
   "outputs": [
    {
     "data": {
      "text/plain": [
       "256"
      ]
     },
     "execution_count": 185,
     "metadata": {},
     "output_type": "execute_result"
    }
   ],
   "source": [
    "df['subject_id'].nunique()"
   ]
  },
  {
   "cell_type": "code",
   "execution_count": 5,
   "id": "4ec45581-bb0e-4326-9d8c-4233574939f8",
   "metadata": {},
   "outputs": [
    {
     "name": "stdout",
     "output_type": "stream",
     "text": [
      "(500, 500, 100)\n",
      "(500, 500, 100)\n",
      "(500, 500, 100)\n"
     ]
    }
   ],
   "source": [
    "# Specify the path to your TIFF file\n",
    "ct_p = df.iloc[0]['ct_path']\n",
    "pt_p = df.iloc[0]['pet_path']\n",
    "lbl_p = df.iloc[0]['label_path']\n",
    "\n",
    "# Read the TIFF file\n",
    "ct_image = tif.imread(ct_p)\n",
    "pt_image = tif.imread(pt_p)\n",
    "lbl_image = tif.imread(lbl_p)\n",
    "\n",
    "print(ct_image.shape)  # Print the shape of the image to confirm it's been read correctly\n",
    "print(pt_image.shape)\n",
    "print(lbl_image.shape)"
   ]
  },
  {
   "cell_type": "code",
   "execution_count": 60,
   "id": "65c9af5c-fff0-4f64-8844-84b610e098b7",
   "metadata": {},
   "outputs": [
    {
     "data": {
      "image/png": "[encoded data removed]",
      "text/plain": [
       "<Figure size 1800x600 with 3 Axes>"
      ]
     },
     "metadata": {},
     "output_type": "display_data"
    }
   ],
   "source": [
    "# Choose a slice index, for example, the middle slice\n",
    "slice_index = 76  # Adjust based on your specific needs\n",
    "\n",
    "# Extract the slices\n",
    "ct_slice = ct_image[:, :, slice_index]  # Assuming the batch size is 1\n",
    "pet_slice = pt_image[:, :, slice_index]\n",
    "label_slice = lbl_image[:, :, slice_index]\n",
    "\n",
    "# Visualization\n",
    "fig, axes = plt.subplots(1, 3, figsize=(18, 6))\n",
    "axes[0].imshow(ct_slice, cmap='gray')\n",
    "axes[0].contour(label_slice, colors='red')\n",
    "axes[0].set_title('CT Slice')\n",
    "axes[1].imshow(pet_slice, cmap='gray')\n",
    "axes[1].contour(label_slice, colors='red')\n",
    "axes[1].set_title('PET Slice')\n",
    "axes[2].imshow(label_slice, cmap='gray')\n",
    "axes[2].set_title('Label Slice')\n",
    "\n",
    "# for ax in axes:\n",
    "#     ax.axis('off')\n",
    "\n",
    "plt.tight_layout()\n",
    "plt.show()"
   ]
  },
  {
   "cell_type": "markdown",
   "id": "c1c95bab-ccf2-4d57-8322-0460900e9fec",
   "metadata": {},
   "source": [
    "### Patchify the image"
   ]
  },
  {
   "cell_type": "code",
   "execution_count": 8,
   "id": "79e8f8e9-9b4f-4157-a4c5-6045813b369b",
   "metadata": {},
   "outputs": [
    {
     "name": "stdout",
     "output_type": "stream",
     "text": [
      "(15, 15, 3, 32, 32, 32)\n",
      "(15, 15, 3, 32, 32, 32)\n",
      "(15, 15, 3, 32, 32, 32)\n"
     ]
    }
   ],
   "source": [
    "# Specify the patch size you want, e.g., (64, 64) for 2D patches or (64, 64, 64) for 3D patches\n",
    "# patch_size = (64, 64)  # For 2D images\n",
    "patch_size = (32, 32, 32)  # Uncomment this for 3D volumetric data\n",
    "\n",
    "# Use patchify to extract patches\n",
    "ct_patches = patchify(ct_image, patch_size, step=patch_size)  # step=patch_size for non-overlapping patches\n",
    "pt_patches = patchify(pt_image, patch_size, step=patch_size)  # step=patch_size for non-overlapping patches\n",
    "lbl_patches = patchify(lbl_image, patch_size, step=patch_size)  # step=patch_size for non-overlapping patches\n",
    "\n",
    "# patches will have an additional dimension in the beginning for the number of patches extracted\n",
    "print(ct_patches.shape)\n",
    "print(pt_patches.shape)\n",
    "print(lbl_patches.shape)"
   ]
  },
  {
   "cell_type": "markdown",
   "id": "8bc63996-9bee-46fc-8318-fd714bbbaa52",
   "metadata": {},
   "source": [
    "### find a nonzero element"
   ]
  },
  {
   "cell_type": "code",
   "execution_count": 55,
   "id": "6087fb32-8d95-48ab-9a18-9229cfcbafbb",
   "metadata": {
    "scrolled": true
   },
   "outputs": [
    {
     "name": "stdout",
     "output_type": "stream",
     "text": [
      "7 7 1 12\n",
      "7 7 1 13\n",
      "7 7 1 14\n",
      "7 7 1 15\n",
      "7 7 1 16\n",
      "7 7 1 17\n",
      "7 7 1 18\n",
      "7 7 1 19\n",
      "7 7 1 20\n",
      "7 7 1 21\n",
      "7 7 1 22\n",
      "7 7 1 23\n",
      "7 7 1 24\n",
      "7 7 1 25\n",
      "7 7 1 26\n",
      "7 7 1 27\n",
      "7 7 1 28\n",
      "8 7 1 12\n",
      "8 7 1 13\n",
      "8 7 1 14\n",
      "8 7 1 15\n",
      "8 7 1 16\n",
      "8 7 1 17\n",
      "8 7 1 18\n",
      "8 7 1 19\n",
      "8 7 1 20\n",
      "8 7 1 21\n",
      "8 7 1 22\n",
      "8 7 1 23\n",
      "8 7 1 24\n",
      "8 7 1 25\n",
      "8 7 1 26\n",
      "8 7 1 27\n",
      "8 7 1 28\n",
      "8 7 1 29\n",
      "8 7 1 30\n",
      "8 7 1 31\n",
      "8 7 2 0\n",
      "8 7 2 1\n",
      "8 7 2 2\n",
      "8 7 2 3\n",
      "8 7 2 4\n",
      "8 7 2 5\n",
      "8 7 2 6\n",
      "8 7 2 7\n",
      "8 7 2 8\n",
      "8 7 2 9\n",
      "8 7 2 10\n",
      "8 7 2 11\n",
      "8 7 2 12\n",
      "8 7 2 13\n",
      "8 7 2 14\n",
      "8 7 2 15\n",
      "8 7 2 16\n",
      "8 7 2 17\n",
      "8 7 2 18\n"
     ]
    }
   ],
   "source": [
    "for i in range(lbl_patches.shape[0]):\n",
    "    for j in range(lbl_patches.shape[1]):\n",
    "        for k in range(lbl_patches.shape[2]):\n",
    "            for l in range(lbl_patches.shape[5]):\n",
    "            # print(i, j, k)\n",
    "# ct_patch = ct_patches[patch_idx, patch_idy, patch_idz, :, :, slice_idx]\n",
    "# pet_patch = pt_patches[patch_idx, patch_idy, patch_idz, :, :, slice_idx]\n",
    "                patch_ = lbl_patches[i, j, k, :, :, l]\n",
    "                if np.any(patch_ != 0):\n",
    "                    print(i,j,k,l)"
   ]
  },
  {
   "cell_type": "code",
   "execution_count": 57,
   "id": "3725f3a5-edb3-44a2-833f-b2f3fc030c19",
   "metadata": {},
   "outputs": [
    {
     "data": {
      "image/png": "[encoded data removed]",
      "text/plain": [
       "<Figure size 1500x500 with 3 Axes>"
      ]
     },
     "metadata": {},
     "output_type": "display_data"
    }
   ],
   "source": [
    "slice_idx = 12\n",
    "patch_idx = 8\n",
    "patch_idy = 7\n",
    "patch_idz = 2\n",
    "# Assuming ct_patches, pet_patches, and label_patches are your arrays with the specified dimensions\n",
    "# Let's pick the first patch (0,0,0) and the middle slice (slice number 32) for visualization\n",
    "\n",
    "ct_patch = ct_patches[patch_idx, patch_idy, patch_idz, :, :, slice_idx]\n",
    "pet_patch = pt_patches[patch_idx, patch_idy, patch_idz, :, :, slice_idx]\n",
    "label_patch = lbl_patches[patch_idx, patch_idy, patch_idz, :, :, slice_idx]\n",
    "\n",
    "fig, axes = plt.subplots(1, 3, figsize=(15, 5))\n",
    "\n",
    "axes[0].imshow(ct_patch, cmap='gray')\n",
    "axes[0].set_title('CT Patch')\n",
    "\n",
    "axes[1].imshow(pet_patch, cmap='gray')\n",
    "axes[1].set_title('PET Patch')\n",
    "\n",
    "axes[2].imshow(label_patch, cmap='gray')\n",
    "axes[2].set_title('Label Patch')\n",
    "\n",
    "# for ax in axes:\n",
    "#     ax.axis('off')  # Hide axes for clarity\n",
    "\n",
    "plt.show()\n",
    "\n",
    "# reconstructed_slice = unpatchify()"
   ]
  },
  {
   "cell_type": "code",
   "execution_count": 59,
   "id": "77fff231-5a8c-4b4d-9e1a-a9b6f14e84cd",
   "metadata": {},
   "outputs": [
    {
     "name": "stdout",
     "output_type": "stream",
     "text": [
      "The original slice index in the full volume is: 76\n"
     ]
    }
   ],
   "source": [
    "# Given values\n",
    "patch_size = (32, 32, 32)  # Size of each patch\n",
    "slice_idx_within_patch = 12  # The slice index within the patch\n",
    "patch_idx = 8\n",
    "patch_idy = 7\n",
    "patch_idz = 2\n",
    "\n",
    "# Calculate the starting Z-index for the patch in the original volume\n",
    "start_slice_index = patch_idz * patch_size[2]\n",
    "\n",
    "# Calculate the original slice index in the full volume\n",
    "original_slice_index = start_slice_index + slice_idx_within_patch\n",
    "\n",
    "print(\"The original slice index in the full volume is:\", original_slice_index)\n"
   ]
  },
  {
   "cell_type": "markdown",
   "id": "5d10e631-ea9d-44c4-94c8-2abc98d5c3a5",
   "metadata": {},
   "source": [
    "### Save tiff stack for one image"
   ]
  },
  {
   "cell_type": "code",
   "execution_count": 61,
   "id": "1dcf93b0-6b4d-45c8-b410-693187a745ae",
   "metadata": {},
   "outputs": [
    {
     "data": {
      "text/plain": [
       "Index(['subject_id', 'dataset', 'ct_path', 'pet_path', 'label_path', 'set'], dtype='object')"
      ]
     },
     "execution_count": 61,
     "metadata": {},
     "output_type": "execute_result"
    }
   ],
   "source": [
    "df.columns"
   ]
  },
  {
   "cell_type": "code",
   "execution_count": 96,
   "id": "e9332d4a-a065-48e4-a98e-15c9d6d939f1",
   "metadata": {},
   "outputs": [],
   "source": [
    "subject_id = []\n",
    "dataset = []\n",
    "set = []\n",
    "ct_path = []\n",
    "pet_path = []\n",
    "label_path = []"
   ]
  },
  {
   "cell_type": "code",
   "execution_count": 97,
   "id": "3b1e4a5a-71ef-429f-ba29-5581eed4cc0d",
   "metadata": {},
   "outputs": [],
   "source": [
    "for i in range(ct_patches.shape[0]):  # Loop over the first dimension\n",
    "    for j in range(ct_patches.shape[1]):  # Loop over the second dimension\n",
    "        for k in range(patches.shape[2]):\n",
    "            patch = ct_patches[i, j, k]  # Selecting the patch, ignoring the singleton dimension\n",
    "            subject_id.append('MDA-020.tiff')\n",
    "            dataset.append('source')\n",
    "            ct_path.append(f'../datasets/ADDA/tiff_patches/images/MDA-020__CT_{i}_{j}_{k}.tiff')\n",
    "            \n",
    "            filename = f'../../datasets/ADDA/tiff_patches/images/MDA-020__CT_{i}_{j}_{k}.tiff'  # Creating a filename for the patch\n",
    "            tif.imwrite(filename, patch)\n",
    "            # ../../datasets/ADDA/tiff_patchees/images/MDA-020__CT.tiff"
   ]
  },
  {
   "cell_type": "code",
   "execution_count": 98,
   "id": "28809225-a969-4837-baf6-b27b618d8e05",
   "metadata": {},
   "outputs": [],
   "source": [
    "# For PET patches\n",
    "for i in range(pt_patches.shape[0]):\n",
    "    for j in range(pt_patches.shape[1]):\n",
    "        for k in range(patches.shape[2]):\n",
    "            patch = pt_patches[i, j, k]\n",
    "            pet_path.append(f'../datasets/ADDA/tiff_patches/images/MDA-020__PT_{i}_{j}_{k}.tiff')\n",
    "            filename = f'../../datasets/ADDA/tiff_patches/images/MDA-020__PT_{i}_{j}_{k}.tiff'\n",
    "            tif.imwrite(filename, patch)\n",
    "\n",
    "# For Label patches\n",
    "for i in range(lbl_patches.shape[0]):\n",
    "    for j in range(lbl_patches.shape[1]):\n",
    "        for k in range(patches.shape[2]):\n",
    "            patch = lbl_patches[i, j, k]\n",
    "            label_path.append(f'../datasets/ADDA/tiff_patches/labels/MDA-020_{i}_{j}_{k}.tiff')\n",
    "            filename = f'../../datasets/ADDA/tiff_patches/labels/MDA-020_{i}_{j}_{k}.tiff'\n",
    "            tif.imwrite(filename, patch)\n"
   ]
  },
  {
   "cell_type": "code",
   "execution_count": 99,
   "id": "020b1cf6-44c8-4882-ab13-b3268353326a",
   "metadata": {},
   "outputs": [],
   "source": [
    "train_csv = pd.DataFrame({\n",
    "    'subject_id':subject_id, \n",
    "    'dataset':dataset, \n",
    "    'ct_path':ct_path, \n",
    "    'pet_path':pet_path, \n",
    "    'label_path':label_path\n",
    "})"
   ]
  },
  {
   "cell_type": "code",
   "execution_count": 100,
   "id": "3d4cca00-b2c8-47fe-9fd5-68870439d159",
   "metadata": {},
   "outputs": [
    {
     "data": {
      "text/plain": [
       "(225, 5)"
      ]
     },
     "execution_count": 100,
     "metadata": {},
     "output_type": "execute_result"
    }
   ],
   "source": [
    "train_csv.shape"
   ]
  },
  {
   "cell_type": "code",
   "execution_count": 111,
   "id": "b9418281-c725-4f41-8015-ac9661db70f1",
   "metadata": {},
   "outputs": [
    {
     "data": {
      "text/plain": [
       "'../datasets/ADDA/tiff_patches/images/MDA-020__CT_0_0_0.tiff'"
      ]
     },
     "execution_count": 111,
     "metadata": {},
     "output_type": "execute_result"
    }
   ],
   "source": [
    "train_csv['ct_path'][0]"
   ]
  },
  {
   "cell_type": "code",
   "execution_count": 101,
   "id": "a815034a-6957-4354-a15e-3e3b26f9ab5b",
   "metadata": {},
   "outputs": [],
   "source": [
    "train_csv.to_csv('../../datasets/ADDA/tiff_patches/training_file.csv', index=False)"
   ]
  },
  {
   "cell_type": "markdown",
   "id": "5511931a-e5ed-4236-ab9c-6e32a3dc70cd",
   "metadata": {},
   "source": [
    "## Save All images"
   ]
  },
  {
   "cell_type": "code",
   "execution_count": 186,
   "id": "3feca2f4-dc4c-42c7-8aa4-17c3412d3a50",
   "metadata": {},
   "outputs": [
    {
     "data": {
      "text/html": [
       "<div>\n",
       "<style scoped>\n",
       "    .dataframe tbody tr th:only-of-type {\n",
       "        vertical-align: middle;\n",
       "    }\n",
       "\n",
       "    .dataframe tbody tr th {\n",
       "        vertical-align: top;\n",
       "    }\n",
       "\n",
       "    .dataframe thead th {\n",
       "        text-align: right;\n",
       "    }\n",
       "</style>\n",
       "<table border=\"1\" class=\"dataframe\">\n",
       "  <thead>\n",
       "    <tr style=\"text-align: right;\">\n",
       "      <th></th>\n",
       "      <th>subject_id</th>\n",
       "      <th>dataset</th>\n",
       "      <th>ct_path</th>\n",
       "      <th>pet_path</th>\n",
       "      <th>label_path</th>\n",
       "      <th>set</th>\n",
       "    </tr>\n",
       "  </thead>\n",
       "  <tbody>\n",
       "    <tr>\n",
       "      <th>0</th>\n",
       "      <td>MDA-039.tiff</td>\n",
       "      <td>source</td>\n",
       "      <td>../../datasets/ADDA/tiff/images/MDA-039__CT.tiff</td>\n",
       "      <td>../../datasets/ADDA/tiff/images/MDA-039__PT.tiff</td>\n",
       "      <td>../../datasets/ADDA/tiff/labels/MDA-039.tiff</td>\n",
       "      <td>train</td>\n",
       "    </tr>\n",
       "    <tr>\n",
       "      <th>1</th>\n",
       "      <td>MDA-192.tiff</td>\n",
       "      <td>source</td>\n",
       "      <td>../../datasets/ADDA/tiff/images/MDA-192__CT.tiff</td>\n",
       "      <td>../../datasets/ADDA/tiff/images/MDA-192__PT.tiff</td>\n",
       "      <td>../../datasets/ADDA/tiff/labels/MDA-192.tiff</td>\n",
       "      <td>train</td>\n",
       "    </tr>\n",
       "    <tr>\n",
       "      <th>2</th>\n",
       "      <td>MDA-187.tiff</td>\n",
       "      <td>source</td>\n",
       "      <td>../../datasets/ADDA/tiff/images/MDA-187__CT.tiff</td>\n",
       "      <td>../../datasets/ADDA/tiff/images/MDA-187__PT.tiff</td>\n",
       "      <td>../../datasets/ADDA/tiff/labels/MDA-187.tiff</td>\n",
       "      <td>train</td>\n",
       "    </tr>\n",
       "    <tr>\n",
       "      <th>3</th>\n",
       "      <td>MDA-179.tiff</td>\n",
       "      <td>source</td>\n",
       "      <td>../../datasets/ADDA/tiff/images/MDA-179__CT.tiff</td>\n",
       "      <td>../../datasets/ADDA/tiff/images/MDA-179__PT.tiff</td>\n",
       "      <td>../../datasets/ADDA/tiff/labels/MDA-179.tiff</td>\n",
       "      <td>train</td>\n",
       "    </tr>\n",
       "    <tr>\n",
       "      <th>4</th>\n",
       "      <td>MDA-162.tiff</td>\n",
       "      <td>source</td>\n",
       "      <td>../../datasets/ADDA/tiff/images/MDA-162__CT.tiff</td>\n",
       "      <td>../../datasets/ADDA/tiff/images/MDA-162__PT.tiff</td>\n",
       "      <td>../../datasets/ADDA/tiff/labels/MDA-162.tiff</td>\n",
       "      <td>train</td>\n",
       "    </tr>\n",
       "  </tbody>\n",
       "</table>\n",
       "</div>"
      ],
      "text/plain": [
       "     subject_id dataset                                           ct_path  \\\n",
       "0  MDA-039.tiff  source  ../../datasets/ADDA/tiff/images/MDA-039__CT.tiff   \n",
       "1  MDA-192.tiff  source  ../../datasets/ADDA/tiff/images/MDA-192__CT.tiff   \n",
       "2  MDA-187.tiff  source  ../../datasets/ADDA/tiff/images/MDA-187__CT.tiff   \n",
       "3  MDA-179.tiff  source  ../../datasets/ADDA/tiff/images/MDA-179__CT.tiff   \n",
       "4  MDA-162.tiff  source  ../../datasets/ADDA/tiff/images/MDA-162__CT.tiff   \n",
       "\n",
       "                                           pet_path  \\\n",
       "0  ../../datasets/ADDA/tiff/images/MDA-039__PT.tiff   \n",
       "1  ../../datasets/ADDA/tiff/images/MDA-192__PT.tiff   \n",
       "2  ../../datasets/ADDA/tiff/images/MDA-187__PT.tiff   \n",
       "3  ../../datasets/ADDA/tiff/images/MDA-179__PT.tiff   \n",
       "4  ../../datasets/ADDA/tiff/images/MDA-162__PT.tiff   \n",
       "\n",
       "                                     label_path    set  \n",
       "0  ../../datasets/ADDA/tiff/labels/MDA-039.tiff  train  \n",
       "1  ../../datasets/ADDA/tiff/labels/MDA-192.tiff  train  \n",
       "2  ../../datasets/ADDA/tiff/labels/MDA-187.tiff  train  \n",
       "3  ../../datasets/ADDA/tiff/labels/MDA-179.tiff  train  \n",
       "4  ../../datasets/ADDA/tiff/labels/MDA-162.tiff  train  "
      ]
     },
     "execution_count": 186,
     "metadata": {},
     "output_type": "execute_result"
    }
   ],
   "source": [
    "# reading images from df that contains training information for the complete image set\n",
    "# including source and target\n",
    "df.head()"
   ]
  },
  {
   "cell_type": "code",
   "execution_count": 187,
   "id": "7d477771-ac41-4221-bc61-7c53e2667c2b",
   "metadata": {},
   "outputs": [],
   "source": [
    "def read_and_patchify(path_ct, path_pet, path_label, patch_size = (32, 32, 32)):\n",
    "    # Read the TIFF file\n",
    "    ct_image = tif.imread(path_ct)\n",
    "    pt_image = tif.imread(path_pet)\n",
    "    lbl_image = tif.imread(path_label)\n",
    "    \n",
    "    # Use patchify to extract patches\n",
    "    ct_patches = patchify(ct_image, patch_size, step=patch_size)  # step=patch_size for non-overlapping patches\n",
    "    pt_patches = patchify(pt_image, patch_size, step=patch_size)  # step=patch_size for non-overlapping patches\n",
    "    lbl_patches = patchify(lbl_image, patch_size, step=patch_size)  # step=patch_size for non-overlapping patches\n",
    "    \n",
    "    # patches will have an additional dimension in the beginning for the number of patches extracted\n",
    "    # print(ct_patches.shape)\n",
    "    # print(pt_patches.shape)\n",
    "    # print(lbl_patches.shape)\n",
    "\n",
    "    return ct_patches, pt_patches, lbl_patches"
   ]
  },
  {
   "cell_type": "code",
   "execution_count": 188,
   "id": "f17ebf96-c0f5-4df2-bdca-e50ebac57144",
   "metadata": {},
   "outputs": [],
   "source": [
    "def save_and_update_training_csv(patches, name, dataset_name, set_name):\n",
    "\n",
    "    # work on CT patches\n",
    "    for i in range(patches[0].shape[0]):  # Loop over the first dimension\n",
    "        for j in range(patches[0].shape[1]):  # Loop over the second dimension\n",
    "            for n, k in enumerate(range(patches[0].shape[2])):\n",
    "                # get the CT patch\n",
    "                patch = patches[0][i, j, k]  # Selecting the patch, ignoring the singleton dimension\n",
    "                # update training csv for CT info\n",
    "                subject_id.append(name)\n",
    "                dataset.append(dataset_name)\n",
    "                set_.append(set_name)\n",
    "                \n",
    "                # update ct file names in the training csv relevant to the training file\n",
    "                ct_save_path = f'../datasets/ADDA/tiff_patches/images/{name}__CT_{i}_{j}_{k}.tiff'\n",
    "                ct_path.append(ct_save_path)\n",
    "                # save the image to the correct location relevant to this notebook\n",
    "                cfilename = f'../../datasets/ADDA/tiff_patches/images/{name}__CT_{i}_{j}_{k}.tiff'  # Creating a filename for the patch\n",
    "                # print(ct_save_path)\n",
    "                # print(cfilename, '\\n')\n",
    "                tif.imwrite(cfilename, patch)\n",
    "                # if n==4:\n",
    "                #     break\n",
    "        #     break\n",
    "        # break\n",
    "\n",
    "    # work on PET patches\n",
    "    for i in range(patches[1].shape[0]):  # Loop over the first dimension\n",
    "        for j in range(patches[1].shape[1]):  # Loop over the second dimension\n",
    "            for n, k in enumerate(range(patches[1].shape[2])):\n",
    "                # get the PET patch\n",
    "                patch = patches[1][i, j, k]  # Selecting the patch, ignoring the singleton dimension\n",
    "                \n",
    "                # update pet file names in the training csv relevant to the training file\n",
    "                pet_save_path = f'../datasets/ADDA/tiff_patches/images/{name}__PT_{i}_{j}_{k}.tiff'\n",
    "                pet_path.append(pet_save_path)\n",
    "                # save the image to the correct location relevant to this notebook\n",
    "                pfilename = f'../../datasets/ADDA/tiff_patches/images/{name}__PT_{i}_{j}_{k}.tiff'  # Creating a filename for the patch\n",
    "                # print(pet_save_path)\n",
    "                # print(pfilename, '\\n')\n",
    "                tif.imwrite(pfilename, patch)\n",
    "        #         if n==4:\n",
    "        #             break\n",
    "        #     break\n",
    "        # break\n",
    "\n",
    "    # work on Labels patches\n",
    "    for i in range(patches[2].shape[0]):  # Loop over the first dimension\n",
    "        for j in range(patches[2].shape[1]):  # Loop over the second dimension\n",
    "            for n, k in enumerate(range(patches[2].shape[2])):\n",
    "                # get the PET patch\n",
    "                patch = patches[2][i, j, k]  # Selecting the patch, ignoring the singleton dimension\n",
    "                \n",
    "                # update label file names in the training csv relevant to the training file\n",
    "                label_save_path = f'../datasets/ADDA/tiff_patches/labels/{name}_{i}_{j}_{k}.tiff'\n",
    "                label_path.append(label_save_path)\n",
    "                # save the image to the correct location relevant to this notebook\n",
    "                lfilename = f'../../datasets/ADDA/tiff_patches/labels/{name}_{i}_{j}_{k}.tiff'  # Creating a filename for the patch\n",
    "                # print(label_save_path)\n",
    "                # print(lfilename, '\\n')\n",
    "                tif.imwrite(lfilename, patch)\n",
    "        #         if n==4:\n",
    "        #             break\n",
    "        #     break\n",
    "        # break\n",
    "\n",
    "    "
   ]
  },
  {
   "cell_type": "code",
   "execution_count": 194,
   "id": "013f10e4-5b27-4249-85b4-a1b20e25dbe1",
   "metadata": {
    "scrolled": true
   },
   "outputs": [
    {
     "name": "stdout",
     "output_type": "stream",
     "text": [
      "0/256 ->  MDA-039 source train\n",
      "1/256 ->  MDA-192 source train\n",
      "2/256 ->  MDA-187 source train\n",
      "3/256 ->  MDA-179 source train\n",
      "4/256 ->  MDA-162 source train\n",
      "5/256 ->  MDA-097 source train\n",
      "6/256 ->  MDA-194 source train\n",
      "7/256 ->  MDA-095 source train\n",
      "8/256 ->  MDA-038 source train\n",
      "9/256 ->  MDA-147 source train\n",
      "10/256 ->  MDA-150 source train\n",
      "11/256 ->  MDA-133 source train\n",
      "12/256 ->  MDA-071 source train\n",
      "13/256 ->  MDA-113 source train\n",
      "14/256 ->  MDA-023 source train\n",
      "15/256 ->  MDA-024 source train\n",
      "16/256 ->  MDA-013 source train\n",
      "17/256 ->  MDA-059 source train\n",
      "18/256 ->  MDA-006 source train\n",
      "19/256 ->  MDA-101 source train\n",
      "20/256 ->  MDA-065 source train\n",
      "21/256 ->  MDA-120 source train\n",
      "22/256 ->  MDA-163 source train\n",
      "23/256 ->  MDA-064 source train\n",
      "24/256 ->  MDA-025 source train\n",
      "25/256 ->  MDA-088 source train\n",
      "26/256 ->  MDA-098 source train\n",
      "27/256 ->  MDA-099 source train\n",
      "28/256 ->  MDA-078 source train\n",
      "29/256 ->  MDA-020 source train\n",
      "30/256 ->  MDA-100 source train\n",
      "31/256 ->  MDA-021 source train\n",
      "32/256 ->  MDA-005 source train\n",
      "33/256 ->  MDA-047 source train\n",
      "34/256 ->  MDA-173 source train\n",
      "35/256 ->  MDA-146 source train\n",
      "36/256 ->  MDA-068 source train\n",
      "37/256 ->  MDA-053 source train\n",
      "38/256 ->  MDA-004 source train\n",
      "39/256 ->  MDA-114 source train\n",
      "40/256 ->  MDA-055 source train\n",
      "41/256 ->  MDA-061 source train\n",
      "42/256 ->  MDA-132 source train\n",
      "43/256 ->  MDA-164 source train\n",
      "44/256 ->  MDA-159 source train\n",
      "45/256 ->  MDA-172 source train\n",
      "46/256 ->  MDA-143 source train\n",
      "47/256 ->  MDA-175 source train\n",
      "48/256 ->  MDA-076 source train\n",
      "49/256 ->  MDA-139 source train\n",
      "50/256 ->  MDA-018 source train\n",
      "51/256 ->  MDA-112 source train\n",
      "52/256 ->  MDA-048 source train\n",
      "53/256 ->  MDA-117 source train\n",
      "54/256 ->  MDA-043 source train\n",
      "55/256 ->  MDA-169 source train\n",
      "56/256 ->  MDA-050 source train\n",
      "57/256 ->  MDA-190 source train\n",
      "58/256 ->  MDA-049 source train\n",
      "59/256 ->  MDA-091 source train\n",
      "60/256 ->  MDA-045 source train\n",
      "61/256 ->  MDA-067 source train\n",
      "62/256 ->  MDA-058 source train\n",
      "63/256 ->  MDA-134 source train\n",
      "64/256 ->  MDA-082 source train\n",
      "65/256 ->  MDA-148 source train\n",
      "66/256 ->  MDA-027 source train\n",
      "67/256 ->  MDA-011 source train\n",
      "68/256 ->  MDA-121 source train\n",
      "69/256 ->  MDA-144 source train\n",
      "70/256 ->  MDA-156 source train\n",
      "71/256 ->  MDA-184 source train\n",
      "72/256 ->  MDA-183 source train\n",
      "73/256 ->  MDA-093 source train\n",
      "74/256 ->  MDA-016 source train\n",
      "75/256 ->  MDA-092 source train\n",
      "76/256 ->  MDA-116 source train\n",
      "77/256 ->  MDA-034 source train\n",
      "78/256 ->  MDA-155 source train\n",
      "79/256 ->  MDA-108 source train\n",
      "80/256 ->  MDA-044 source train\n",
      "81/256 ->  MDA-083 source train\n",
      "82/256 ->  MDA-089 source train\n",
      "83/256 ->  MDA-118 source train\n",
      "84/256 ->  MDA-041 source train\n",
      "85/256 ->  MDA-046 source train\n",
      "86/256 ->  MDA-040 source train\n",
      "87/256 ->  MDA-007 source train\n",
      "88/256 ->  MDA-110 source train\n",
      "89/256 ->  MDA-069 source train\n",
      "90/256 ->  MDA-109 source train\n",
      "91/256 ->  MDA-137 source train\n",
      "92/256 ->  MDA-075 source train\n",
      "93/256 ->  MDA-111 source train\n",
      "94/256 ->  MDA-080 source train\n",
      "95/256 ->  MDA-081 source train\n",
      "96/256 ->  MDA-022 source train\n",
      "97/256 ->  MDA-181 source train\n",
      "98/256 ->  MDA-056 source train\n",
      "99/256 ->  MDA-017 source train\n",
      "100/256 ->  MDA-087 source train\n",
      "101/256 ->  MDA-012 source train\n",
      "102/256 ->  MDA-174 source train\n",
      "103/256 ->  MDA-042 source train\n",
      "104/256 ->  MDA-030 source train\n",
      "105/256 ->  MDA-191 source train\n",
      "106/256 ->  MDA-182 source train\n",
      "107/256 ->  MDA-085 source train\n",
      "108/256 ->  MDA-166 source train\n",
      "109/256 ->  MDA-054 source train\n",
      "110/256 ->  MDA-131 source train\n",
      "111/256 ->  MDA-189 source train\n",
      "112/256 ->  MDA-154 source train\n",
      "113/256 ->  MDA-151 source train\n",
      "114/256 ->  MDA-090 source train\n",
      "115/256 ->  MDA-165 source train\n",
      "116/256 ->  MDA-060 source train\n",
      "117/256 ->  MDA-125 source train\n",
      "118/256 ->  MDA-197 source train\n",
      "119/256 ->  MDA-130 source train\n",
      "120/256 ->  MDA-141 source train\n",
      "121/256 ->  MDA-188 source train\n",
      "122/256 ->  MDA-200 source train\n",
      "123/256 ->  MDA-199 source train\n",
      "124/256 ->  MDA-051 source train\n",
      "125/256 ->  MDA-062 source train\n",
      "126/256 ->  MDA-128 source train\n",
      "127/256 ->  MDA-102 source train\n",
      "128/256 ->  MDA-103 source test\n",
      "129/256 ->  MDA-010 source test\n",
      "130/256 ->  MDA-161 source test\n",
      "131/256 ->  MDA-185 source test\n",
      "132/256 ->  MDA-073 source test\n",
      "133/256 ->  MDA-124 source test\n",
      "134/256 ->  MDA-084 source test\n",
      "135/256 ->  MDA-026 source test\n",
      "136/256 ->  MDA-158 source test\n",
      "137/256 ->  MDA-079 source test\n",
      "138/256 ->  MDA-015 source test\n",
      "139/256 ->  MDA-029 source test\n",
      "140/256 ->  MDA-129 source test\n",
      "141/256 ->  MDA-167 source test\n",
      "142/256 ->  MDA-106 source test\n",
      "143/256 ->  MDA-177 source test\n",
      "144/256 ->  MDA-142 source test\n",
      "145/256 ->  MDA-180 source test\n",
      "146/256 ->  MDA-171 source test\n",
      "147/256 ->  MDA-136 source test\n",
      "148/256 ->  MDA-003 source test\n",
      "149/256 ->  MDA-028 source test\n",
      "150/256 ->  MDA-057 source test\n",
      "151/256 ->  MDA-063 source test\n",
      "152/256 ->  MDA-077 source test\n",
      "153/256 ->  MDA-107 source test\n",
      "154/256 ->  MDA-193 source test\n",
      "155/256 ->  MDA-096 source test\n",
      "156/256 ->  MDA-074 source validation\n",
      "157/256 ->  MDA-152 source validation\n",
      "158/256 ->  MDA-145 source validation\n",
      "159/256 ->  MDA-198 source validation\n",
      "160/256 ->  MDA-105 source validation\n",
      "161/256 ->  MDA-138 source validation\n",
      "162/256 ->  MDA-070 source validation\n",
      "163/256 ->  MDA-014 source validation\n",
      "164/256 ->  MDA-196 source validation\n",
      "165/256 ->  MDA-123 source validation\n",
      "166/256 ->  MDA-170 source validation\n",
      "167/256 ->  MDA-037 source validation\n",
      "168/256 ->  MDA-035 source validation\n",
      "169/256 ->  MDA-104 source validation\n",
      "170/256 ->  MDA-019 source validation\n",
      "171/256 ->  MDA-178 source validation\n",
      "172/256 ->  MDA-186 source validation\n",
      "173/256 ->  MDA-126 source validation\n",
      "174/256 ->  MDA-066 source validation\n",
      "175/256 ->  MDA-160 source validation\n",
      "176/256 ->  MDA-122 source validation\n",
      "177/256 ->  MDA-135 source validation\n",
      "178/256 ->  MDA-201 source validation\n",
      "179/256 ->  MDA-115 source validation\n",
      "180/256 ->  MDA-036 source validation\n",
      "181/256 ->  MDA-072 source validation\n",
      "182/256 ->  MDA-094 source validation\n",
      "183/256 ->  MDA-140 source validation\n",
      "184/256 ->  CHUP-016 target train\n",
      "185/256 ->  CHUP-003 target train\n",
      "186/256 ->  CHUP-017 target train\n",
      "187/256 ->  CHUP-041 target train\n",
      "188/256 ->  CHUP-037 target train\n",
      "189/256 ->  CHUP-010 target train\n",
      "190/256 ->  CHUP-050 target train\n",
      "191/256 ->  CHUP-068 target train\n",
      "192/256 ->  CHUP-026 target train\n",
      "193/256 ->  CHUP-018 target train\n",
      "194/256 ->  CHUP-043 target train\n",
      "195/256 ->  CHUP-060 target train\n",
      "196/256 ->  CHUP-036 target train\n",
      "197/256 ->  CHUP-062 target train\n",
      "198/256 ->  CHUP-039 target train\n",
      "199/256 ->  CHUP-064 target train\n",
      "200/256 ->  CHUP-073 target train\n",
      "201/256 ->  CHUP-066 target train\n",
      "202/256 ->  CHUP-034 target train\n",
      "203/256 ->  CHUP-059 target train\n",
      "204/256 ->  CHUP-058 target train\n",
      "205/256 ->  CHUP-008 target train\n",
      "206/256 ->  CHUP-070 target train\n",
      "207/256 ->  CHUP-071 target train\n",
      "208/256 ->  CHUP-040 target train\n",
      "209/256 ->  CHUP-011 target train\n",
      "210/256 ->  CHUP-033 target train\n",
      "211/256 ->  CHUP-056 target train\n",
      "212/256 ->  CHUP-046 target train\n",
      "213/256 ->  CHUP-025 target train\n",
      "214/256 ->  CHUP-048 target train\n",
      "215/256 ->  CHUP-049 target train\n",
      "216/256 ->  CHUP-065 target train\n",
      "217/256 ->  CHUP-023 target train\n",
      "218/256 ->  CHUP-055 target train\n",
      "219/256 ->  CHUP-053 target train\n",
      "220/256 ->  CHUP-063 target train\n",
      "221/256 ->  CHUP-013 target train\n",
      "222/256 ->  CHUP-044 target train\n",
      "223/256 ->  CHUP-019 target train\n",
      "224/256 ->  CHUP-074 target train\n",
      "225/256 ->  CHUP-022 target train\n",
      "226/256 ->  CHUP-002 target train\n",
      "227/256 ->  CHUP-000 target train\n",
      "228/256 ->  CHUP-024 target train\n",
      "229/256 ->  CHUP-035 target train\n",
      "230/256 ->  CHUP-028 target train\n",
      "231/256 ->  CHUP-032 target train\n",
      "232/256 ->  CHUP-007 target train\n",
      "233/256 ->  CHUP-015 target train\n",
      "234/256 ->  CHUP-054 target test\n",
      "235/256 ->  CHUP-005 target test\n",
      "236/256 ->  CHUP-072 target test\n",
      "237/256 ->  CHUP-009 target test\n",
      "238/256 ->  CHUP-057 target test\n",
      "239/256 ->  CHUP-001 target test\n",
      "240/256 ->  CHUP-004 target test\n",
      "241/256 ->  CHUP-006 target test\n",
      "242/256 ->  CHUP-067 target test\n",
      "243/256 ->  CHUP-042 target test\n",
      "244/256 ->  CHUP-075 target test\n",
      "245/256 ->  CHUP-047 target test\n",
      "246/256 ->  CHUP-029 target test\n",
      "247/256 ->  CHUP-012 target test\n",
      "248/256 ->  CHUP-020 target test\n",
      "249/256 ->  CHUP-051 target validation\n",
      "250/256 ->  CHUP-069 target validation\n",
      "251/256 ->  CHUP-027 target validation\n",
      "252/256 ->  CHUP-030 target validation\n",
      "253/256 ->  CHUP-038 target validation\n",
      "254/256 ->  CHUP-052 target validation\n",
      "255/256 ->  CHUP-061 target validation\n",
      "\n",
      " completed...\n"
     ]
    }
   ],
   "source": [
    "# initialize lists\n",
    "subject_id = []\n",
    "dataset = []\n",
    "set_ = []\n",
    "ct_path = []\n",
    "pet_path = []\n",
    "label_path = []\n",
    "\n",
    "# cycle through all the subjects\n",
    "out = 0\n",
    "for i in range(df.shape[0]):\n",
    "    # subject name\n",
    "    subject_name = df.iloc[i]['subject_id'].split('.')[0]\n",
    "    dataset_name = df.iloc[i]['dataset']\n",
    "    set_type = df.iloc[i]['set']\n",
    "    print(f'{out}/{df.shape[0]} -> ', subject_name, dataset_name, set_type)\n",
    "    ct_pa = df.iloc[i]['ct_path']\n",
    "    pt_pa = df.iloc[i]['pet_path']\n",
    "    lb_pa = df.iloc[i]['label_path']\n",
    "    # print(ct_pa)\n",
    "    # print(pt_pa)\n",
    "    # print(lb_pa)\n",
    "    # read and patchify image \n",
    "    ct_patches, pet_patches, label_patches = read_and_patchify(ct_pa, pt_pa, lb_pa)\n",
    "    \n",
    "    # update the training csv_file \n",
    "    save_and_update_training_csv((ct_patches, pet_patches, label_patches), subject_name, dataset_name, set_type)\n",
    "\n",
    "\n",
    "    out += 1\n",
    "    # if out == 10:\n",
    "    #     break\n",
    "\n",
    "print('\\n completed...',)\n",
    "\n",
    "# save the training csv for patches \n",
    "patch_train_csv = pd.DataFrame({\n",
    "    'subject_id':subject_id, \n",
    "    'dataset':dataset, \n",
    "    'set': set_,\n",
    "    'ct_path':ct_path, \n",
    "    'pet_path':pet_path, \n",
    "    'label_path':label_path\n",
    "})\n",
    "\n",
    "patch_train_csv.to_csv('../../datasets/ADDA/tiff_patches/patch_training_file.csv', index=False)"
   ]
  },
  {
   "cell_type": "code",
   "execution_count": 175,
   "id": "53cc4f32-1434-43f9-b83b-2ddc87c171fc",
   "metadata": {},
   "outputs": [],
   "source": []
  },
  {
   "cell_type": "markdown",
   "id": "0260e721-1a37-48da-a0d0-ff40837e1905",
   "metadata": {},
   "source": [
    "## summarize training file "
   ]
  },
  {
   "cell_type": "code",
   "execution_count": 196,
   "id": "3c9a8d59-55ff-4e3f-84af-09812dd59675",
   "metadata": {},
   "outputs": [
    {
     "data": {
      "text/plain": [
       "(172800, 6)"
      ]
     },
     "execution_count": 196,
     "metadata": {},
     "output_type": "execute_result"
    }
   ],
   "source": [
    "patch_train_csv.shape"
   ]
  },
  {
   "cell_type": "code",
   "execution_count": 197,
   "id": "46070617-a237-4125-b028-524e65ec4b47",
   "metadata": {},
   "outputs": [
    {
     "data": {
      "text/html": [
       "<div>\n",
       "<style scoped>\n",
       "    .dataframe tbody tr th:only-of-type {\n",
       "        vertical-align: middle;\n",
       "    }\n",
       "\n",
       "    .dataframe tbody tr th {\n",
       "        vertical-align: top;\n",
       "    }\n",
       "\n",
       "    .dataframe thead th {\n",
       "        text-align: right;\n",
       "    }\n",
       "</style>\n",
       "<table border=\"1\" class=\"dataframe\">\n",
       "  <thead>\n",
       "    <tr style=\"text-align: right;\">\n",
       "      <th></th>\n",
       "      <th>subject_id</th>\n",
       "      <th>dataset</th>\n",
       "      <th>set</th>\n",
       "      <th>ct_path</th>\n",
       "      <th>pet_path</th>\n",
       "      <th>label_path</th>\n",
       "    </tr>\n",
       "  </thead>\n",
       "  <tbody>\n",
       "    <tr>\n",
       "      <th>0</th>\n",
       "      <td>MDA-039</td>\n",
       "      <td>source</td>\n",
       "      <td>train</td>\n",
       "      <td>../datasets/ADDA/tiff_patches/images/MDA-039__...</td>\n",
       "      <td>../datasets/ADDA/tiff_patches/images/MDA-039__...</td>\n",
       "      <td>../datasets/ADDA/tiff_patches/labels/MDA-039_0...</td>\n",
       "    </tr>\n",
       "    <tr>\n",
       "      <th>1</th>\n",
       "      <td>MDA-039</td>\n",
       "      <td>source</td>\n",
       "      <td>train</td>\n",
       "      <td>../datasets/ADDA/tiff_patches/images/MDA-039__...</td>\n",
       "      <td>../datasets/ADDA/tiff_patches/images/MDA-039__...</td>\n",
       "      <td>../datasets/ADDA/tiff_patches/labels/MDA-039_0...</td>\n",
       "    </tr>\n",
       "    <tr>\n",
       "      <th>2</th>\n",
       "      <td>MDA-039</td>\n",
       "      <td>source</td>\n",
       "      <td>train</td>\n",
       "      <td>../datasets/ADDA/tiff_patches/images/MDA-039__...</td>\n",
       "      <td>../datasets/ADDA/tiff_patches/images/MDA-039__...</td>\n",
       "      <td>../datasets/ADDA/tiff_patches/labels/MDA-039_0...</td>\n",
       "    </tr>\n",
       "    <tr>\n",
       "      <th>3</th>\n",
       "      <td>MDA-039</td>\n",
       "      <td>source</td>\n",
       "      <td>train</td>\n",
       "      <td>../datasets/ADDA/tiff_patches/images/MDA-039__...</td>\n",
       "      <td>../datasets/ADDA/tiff_patches/images/MDA-039__...</td>\n",
       "      <td>../datasets/ADDA/tiff_patches/labels/MDA-039_0...</td>\n",
       "    </tr>\n",
       "    <tr>\n",
       "      <th>4</th>\n",
       "      <td>MDA-039</td>\n",
       "      <td>source</td>\n",
       "      <td>train</td>\n",
       "      <td>../datasets/ADDA/tiff_patches/images/MDA-039__...</td>\n",
       "      <td>../datasets/ADDA/tiff_patches/images/MDA-039__...</td>\n",
       "      <td>../datasets/ADDA/tiff_patches/labels/MDA-039_0...</td>\n",
       "    </tr>\n",
       "  </tbody>\n",
       "</table>\n",
       "</div>"
      ],
      "text/plain": [
       "  subject_id dataset    set  \\\n",
       "0    MDA-039  source  train   \n",
       "1    MDA-039  source  train   \n",
       "2    MDA-039  source  train   \n",
       "3    MDA-039  source  train   \n",
       "4    MDA-039  source  train   \n",
       "\n",
       "                                             ct_path  \\\n",
       "0  ../datasets/ADDA/tiff_patches/images/MDA-039__...   \n",
       "1  ../datasets/ADDA/tiff_patches/images/MDA-039__...   \n",
       "2  ../datasets/ADDA/tiff_patches/images/MDA-039__...   \n",
       "3  ../datasets/ADDA/tiff_patches/images/MDA-039__...   \n",
       "4  ../datasets/ADDA/tiff_patches/images/MDA-039__...   \n",
       "\n",
       "                                            pet_path  \\\n",
       "0  ../datasets/ADDA/tiff_patches/images/MDA-039__...   \n",
       "1  ../datasets/ADDA/tiff_patches/images/MDA-039__...   \n",
       "2  ../datasets/ADDA/tiff_patches/images/MDA-039__...   \n",
       "3  ../datasets/ADDA/tiff_patches/images/MDA-039__...   \n",
       "4  ../datasets/ADDA/tiff_patches/images/MDA-039__...   \n",
       "\n",
       "                                          label_path  \n",
       "0  ../datasets/ADDA/tiff_patches/labels/MDA-039_0...  \n",
       "1  ../datasets/ADDA/tiff_patches/labels/MDA-039_0...  \n",
       "2  ../datasets/ADDA/tiff_patches/labels/MDA-039_0...  \n",
       "3  ../datasets/ADDA/tiff_patches/labels/MDA-039_0...  \n",
       "4  ../datasets/ADDA/tiff_patches/labels/MDA-039_0...  "
      ]
     },
     "execution_count": 197,
     "metadata": {},
     "output_type": "execute_result"
    }
   ],
   "source": [
    "patch_train_csv.head()"
   ]
  },
  {
   "cell_type": "code",
   "execution_count": 198,
   "id": "13a4c3e4-cf70-4af2-878c-d1408d234337",
   "metadata": {},
   "outputs": [
    {
     "data": {
      "text/plain": [
       "dataset  set       \n",
       "source   test          18900\n",
       "         train         86400\n",
       "         validation    18900\n",
       "target   test          10125\n",
       "         train         33750\n",
       "         validation     4725\n",
       "Name: count, dtype: int64"
      ]
     },
     "execution_count": 198,
     "metadata": {},
     "output_type": "execute_result"
    }
   ],
   "source": [
    "patch_train_csv[['dataset', 'set']].value_counts().sort_index()"
   ]
  },
  {
   "cell_type": "code",
   "execution_count": 199,
   "id": "f2f751b1-c0a8-4cd7-96a5-8b337a92593e",
   "metadata": {},
   "outputs": [
    {
     "data": {
      "text/plain": [
       "dataset  set       \n",
       "source   test           28\n",
       "         train         128\n",
       "         validation     28\n",
       "target   test           15\n",
       "         train          50\n",
       "         validation      7\n",
       "Name: count, dtype: int64"
      ]
     },
     "execution_count": 199,
     "metadata": {},
     "output_type": "execute_result"
    }
   ],
   "source": [
    "df[['dataset', 'set']].value_counts().sort_index()"
   ]
  },
  {
   "cell_type": "code",
   "execution_count": null,
   "id": "b046acf3-c1f0-456c-be8b-bb4828469837",
   "metadata": {},
   "outputs": [],
   "source": []
  }
 ],
 "metadata": {
  "kernelspec": {
   "display_name": "Python 3 (ipykernel)",
   "language": "python",
   "name": "python3"
  },
  "language_info": {
   "codemirror_mode": {
    "name": "ipython",
    "version": 3
   },
   "file_extension": ".py",
   "mimetype": "text/x-python",
   "name": "python",
   "nbconvert_exporter": "python",
   "pygments_lexer": "ipython3",
   "version": "3.10.12"
  }
 },
 "nbformat": 4,
 "nbformat_minor": 5
}
