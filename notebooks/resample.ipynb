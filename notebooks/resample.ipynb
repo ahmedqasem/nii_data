{
 "cells": [
  {
   "cell_type": "code",
   "execution_count": 31,
   "metadata": {},
   "outputs": [],
   "source": [
    "import nibabel as nib\n",
    "import os\n",
    "import numpy as np\n",
    "import matplotlib.pyplot as plt\n",
    "import cv2\n",
    "import ipywidgets as widgets\n",
    "from ipywidgets import interact"
   ]
  },
  {
   "cell_type": "code",
   "execution_count": 163,
   "metadata": {},
   "outputs": [],
   "source": [
    "import scipy.ndimage"
   ]
  },
  {
   "cell_type": "markdown",
   "metadata": {},
   "source": [
    "## User Input\n",
    "\n",
    "Setup Input Variables and Data locations"
   ]
  },
  {
   "cell_type": "code",
   "execution_count": 13,
   "metadata": {},
   "outputs": [],
   "source": [
    "input_folder='../dataset/images' \n",
    "labels_foler = '../dataset/labels'\n",
    "output_folder ='../dataset/output' \n",
    "\n",
    "ct_prefix = '__CT.nii.gz'\n",
    "pet_prefix = '__PT.nii.gz'\n",
    "\n"
   ]
  },
  {
   "cell_type": "markdown",
   "metadata": {},
   "source": [
    "## Load Image"
   ]
  },
  {
   "cell_type": "code",
   "execution_count": null,
   "metadata": {},
   "outputs": [],
   "source": [
    "try:\n",
    "    subdir, dirs, files = os.walk(input_folder).next()\n",
    "    files = [k for k in files if ct_prefix in k]\n",
    "except:\n",
    "    subdir, dirs, files = os.walk(input_folder).__next__()\n",
    "    files = [k for k in files if ct_prefix in k]"
   ]
  },
  {
   "cell_type": "code",
   "execution_count": 215,
   "metadata": {},
   "outputs": [],
   "source": [
    "# Function to visualize CT data interactively\n",
    "def show_ct_data(ct_data):\n",
    "    # Ensure ct_data is a NumPy array\n",
    "    ct_data = np.asarray(ct_data)\n",
    "    \n",
    "    # Define the function to plot a specific slice\n",
    "    def plot_slice(slice_idx):\n",
    "        plt.figure(figsize=(6, 6))\n",
    "        plt.imshow(ct_data[:, :, slice_idx], cmap='gray')\n",
    "        plt.title(f\"Slice {slice_idx}\")\n",
    "        # plt.axis('off')\n",
    "        plt.show()\n",
    "    \n",
    "    # Create an interactive slider to select slices\n",
    "    interact(plot_slice, slice_idx=widgets.IntSlider(min=0, max=ct_data.shape[2] - 1, step=1, value=0))"
   ]
  },
  {
   "cell_type": "code",
   "execution_count": 107,
   "metadata": {},
   "outputs": [],
   "source": [
    "# Function to visualize CT data with label contours interactively\n",
    "def show_ct_data_with_labels(ct_data, label_data):\n",
    "    \"\"\"\n",
    "    Display CT image slices with overlaid label contours interactively.\n",
    "\n",
    "    Parameters:\n",
    "    - ct_data: NumPy array of CT image data with shape (height, width, slices).\n",
    "    - label_data: NumPy array of label data with the same shape as ct_data.\n",
    "    \"\"\"\n",
    "    # Ensure ct_data and label_data are NumPy arrays\n",
    "    ct_data = np.asarray(ct_data)\n",
    "    label_data = np.asarray(label_data)\n",
    "    \n",
    "    # Verify that the shapes match\n",
    "    if ct_data.shape != label_data.shape:\n",
    "        raise ValueError(\"CT data and label data must have the same shape.\")\n",
    "    \n",
    "    # Define the function to plot a specific slice\n",
    "    def plot_slice(slice_idx):\n",
    "        plt.figure(figsize=(6, 6))\n",
    "        plt.imshow(ct_data[:, :, slice_idx], cmap='gray')\n",
    "        \n",
    "        # Overlay the label as a contour\n",
    "        contours = plt.contour(label_data[:, :, slice_idx], levels=np.unique(label_data), colors='r', linewidths=0.5)\n",
    "        \n",
    "        # Optionally, add a colorbar or legend for labels\n",
    "        # plt.clabel(contours, inline=True, fontsize=8)\n",
    "        \n",
    "        plt.title(f\"Slice {slice_idx}\")\n",
    "        plt.axis('off')\n",
    "        plt.show()\n",
    "    \n",
    "    # Create an interactive slider to select slices\n",
    "    interact(plot_slice, slice_idx=widgets.IntSlider(min=0, max=ct_data.shape[2] - 1, step=1, value=0))"
   ]
  },
  {
   "cell_type": "code",
   "execution_count": 50,
   "metadata": {},
   "outputs": [],
   "source": [
    "def apply_window(img, width=500, center=40, normal=True):\n",
    "    img = np.asarray(img)\n",
    "    # convert below window to black\n",
    "    img[img<(center-(width/2))]=center-(width/2)\n",
    "    # convert above window to white\n",
    "    img[img>(center+(width/2))]=center+(width/2)\n",
    "\n",
    "    if normal:\n",
    "        # normalize image\n",
    "        img_scaled = (img - np.min(img)) / (np.max(img) - np.min(img))\n",
    "        # print(img_scaled.shape)\n",
    "        # print(np.min(img_scaled), np.max(img_scaled))\n",
    "        return img_scaled\n",
    "    else:\n",
    "        return img"
   ]
  },
  {
   "cell_type": "code",
   "execution_count": 52,
   "metadata": {},
   "outputs": [],
   "source": [
    "# Function to normalize CT data to values between 0 and 1\n",
    "def normalize_img(img):\n",
    "    img = np.asarray(img)\n",
    "    return (img - np.min(img)) / (np.max(img) - np.min(img))"
   ]
  },
  {
   "cell_type": "code",
   "execution_count": 98,
   "metadata": {},
   "outputs": [],
   "source": [
    "def normalize_0_1(image):\n",
    "    \"\"\"\n",
    "    Normalize the input image to have pixel values between 0 and 1.\n",
    "\n",
    "    Parameters:\n",
    "    - image: NumPy array representing the image. Can be 2D (grayscale) or 3D (color).\n",
    "\n",
    "    Returns:\n",
    "    - normalized_image: NumPy array with pixel values normalized between 0 and 1.\n",
    "    \"\"\"\n",
    "    # Convert the image to float32 if it's not already\n",
    "    image = image.astype('float32')\n",
    "\n",
    "    # Find the minimum and maximum pixel values\n",
    "    min_val = np.min(image)\n",
    "    max_val = np.max(image)\n",
    "\n",
    "    # Avoid division by zero\n",
    "    if max_val > min_val:\n",
    "        normalized_image = (image - min_val) / (max_val - min_val)\n",
    "    else:\n",
    "        # Image has constant value; return an array of zeros\n",
    "        normalized_image = np.zeros_like(image)\n",
    "\n",
    "    return normalized_image\n",
    "\n",
    "\n",
    "\n",
    "\n",
    "def normalize_0_1_global(image):\n",
    "    \"\"\"\n",
    "    Normalize each channel of the input image to have pixel values between 0 and 1,\n",
    "    independently for each channel.\n",
    "\n",
    "    Parameters:\n",
    "    - image: NumPy array of shape (height, width, channels)\n",
    "\n",
    "    Returns:\n",
    "    - normalized_image: NumPy array with pixel values normalized between 0 and 1 in each channel.\n",
    "    \"\"\"\n",
    "    # Convert the image to float32 if it's not already\n",
    "    image = image.astype('float32')\n",
    "    \n",
    "    # Initialize the output array\n",
    "    normalized_image = np.zeros_like(image)\n",
    "    \n",
    "    # Normalize each channel independently\n",
    "    for c in range(image.shape[2]):\n",
    "        channel = image[:, :, c]\n",
    "        min_val = np.min(channel)\n",
    "        max_val = np.max(channel)\n",
    "        \n",
    "        if max_val > min_val:\n",
    "            normalized_image[:, :, c] = (channel - min_val) / (max_val - min_val)\n",
    "        else:\n",
    "            # Channel has constant value; set to zeros\n",
    "            normalized_image[:, :, c] = np.zeros_like(channel)\n",
    "    \n",
    "    return normalized_image\n",
    "\n",
    "\n"
   ]
  },
  {
   "cell_type": "code",
   "execution_count": 17,
   "metadata": {},
   "outputs": [
    {
     "name": "stdout",
     "output_type": "stream",
     "text": [
      "MDA-079__CT.nii.gz\n",
      "MDA-079__PT.nii.gz\n",
      "MDA-079.nii.gz\n"
     ]
    }
   ],
   "source": [
    "# prepare image names\n",
    "ct_image_name = files[0]\n",
    "pt_image_name = files[0].split('__')[0]+pet_prefix\n",
    "label_name = files[0].split('__')[0]+'.nii.gz'\n",
    "\n",
    "print(ct_image_name)\n",
    "print(pt_image_name)\n",
    "print(label_name)\n",
    "\n",
    "\n",
    "\n"
   ]
  },
  {
   "cell_type": "markdown",
   "metadata": {},
   "source": [
    "### Process CT Images "
   ]
  },
  {
   "cell_type": "code",
   "execution_count": 166,
   "metadata": {},
   "outputs": [
    {
     "name": "stdout",
     "output_type": "stream",
     "text": [
      "(512, 512, 381)\n"
     ]
    }
   ],
   "source": [
    "# process CT image\n",
    "ct = nib.load(os.path.join(input_folder, ct_image_name))\n",
    "ct_data = ct.get_fdata().astype(np.float32)\n",
    "# apply CT windowing and normalize image\n",
    "ct_data_window = apply_window(ct_data)\n",
    "\n",
    "segdata = np.ones(np.shape(ct_data_window))\n",
    "\n",
    "# Z-interpolation\n",
    "data_r = np.rot90(ct_data_window, axes=(0,2))\n",
    "segdata_r = np.rot90(segdata, axes=(0,2))\n",
    "Scn = segdata.shape[0]\n",
    "factor = 3\n",
    "\n",
    "#now loop through slices\n",
    "dataslc = np.zeros(shape=[segdata.shape[2]*factor,Scn])\n",
    "img_stack_r = np.zeros(shape=[segdata.shape[2]*factor,Scn,Scn])\n",
    "seg_stack_r = np.zeros(shape=[segdata.shape[2]*factor,Scn,Scn])\n",
    "\n",
    "for io in range(0,np.shape(segdata_r)[2]):\n",
    "    dataslc = cv2.resize(data_r[:,:,io], (Scn, segdata.shape[2]*factor), interpolation=cv2.INTER_CUBIC)\n",
    "    img_stack_r[:,:,io] = dataslc\n",
    "    dataslc = cv2.resize(segdata_r[:,:,io], (Scn, segdata.shape[2]*factor), interpolation=cv2.INTER_NEAREST)\n",
    "    seg_stack_r[:,:,io] = dataslc\n",
    "\n",
    "img_stack = np.rot90(img_stack_r, 3, axes=(0,2))\n",
    "print(np.shape(img_stack))\n",
    "seg_stack = np.rot90(seg_stack_r, 3, axes=(0,2))\n",
    "\n",
    "img_stack = normalize_0_1_global(img_stack)"
   ]
  },
  {
   "cell_type": "code",
   "execution_count": 101,
   "metadata": {},
   "outputs": [
    {
     "data": {
      "application/vnd.jupyter.widget-view+json": {
       "model_id": "48fb018a9b6b4aefa519c1f57c8008cb",
       "version_major": 2,
       "version_minor": 0
      },
      "text/plain": [
       "interactive(children=(IntSlider(value=0, description='slice_idx', max=380), Output()), _dom_classes=('widget-i…"
      ]
     },
     "metadata": {},
     "output_type": "display_data"
    }
   ],
   "source": [
    "show_ct_data(img_stack)\n"
   ]
  },
  {
   "cell_type": "code",
   "execution_count": 71,
   "metadata": {},
   "outputs": [
    {
     "data": {
      "text/plain": [
       "(512, 512, 381)"
      ]
     },
     "execution_count": 71,
     "metadata": {},
     "output_type": "execute_result"
    }
   ],
   "source": [
    "img_stack.shape"
   ]
  },
  {
   "cell_type": "code",
   "execution_count": 103,
   "metadata": {},
   "outputs": [
    {
     "name": "stdout",
     "output_type": "stream",
     "text": [
      "Min pixel value: 0.0\n",
      "Max pixel value: 1.0\n"
     ]
    },
    {
     "data": {
      "image/png": "[encoded data removed]",
      "text/plain": [
       "<Figure size 640x480 with 1 Axes>"
      ]
     },
     "metadata": {},
     "output_type": "display_data"
    }
   ],
   "source": [
    "n=119\n",
    "plt.imshow(img_stack[:,:,n], cmap='gray')\n",
    "# Verify the normalization\n",
    "print('Min pixel value:', img_stack[:,:,n].min())\n",
    "print('Max pixel value:', img_stack[:,:,n].max())"
   ]
  },
  {
   "cell_type": "markdown",
   "metadata": {},
   "source": [
    "### Process Label"
   ]
  },
  {
   "cell_type": "code",
   "execution_count": 122,
   "metadata": {},
   "outputs": [
    {
     "name": "stdout",
     "output_type": "stream",
     "text": [
      "(512, 512, 381)\n"
     ]
    },
    {
     "data": {
      "application/vnd.jupyter.widget-view+json": {
       "model_id": "cb8006d7fb9d4dfd854f121c109410b0",
       "version_major": 2,
       "version_minor": 0
      },
      "text/plain": [
       "interactive(children=(IntSlider(value=0, description='slice_idx', max=380), Output()), _dom_classes=('widget-i…"
      ]
     },
     "metadata": {},
     "output_type": "display_data"
    }
   ],
   "source": [
    "# process Label\n",
    "label = nib.load(os.path.join(labels_foler, label_name))\n",
    "label_data = label.get_fdata().astype(np.float32)\n",
    "\n",
    "#show_ct_data(label_data)\n",
    "\n",
    "segdata = np.ones(np.shape(label_data))\n",
    "\n",
    "# # Z-interpolation\n",
    "label_data_r = np.rot90(label_data, axes=(0,2))\n",
    "segdata_r = np.rot90(segdata, axes=(0,2))\n",
    "Scn = segdata.shape[0]\n",
    "factor = 3\n",
    "\n",
    "# show_ct_data(label_data_r)\n",
    "\n",
    "#now loop through slices\n",
    "dataslc = np.zeros(shape=[segdata.shape[2]*factor,Scn])\n",
    "label_stack_r = np.zeros(shape=[segdata.shape[2]*factor,Scn,Scn])\n",
    "seg_stack_r = np.zeros(shape=[segdata.shape[2]*factor,Scn,Scn])\n",
    "\n",
    "# show_ct_data(label_stack_r)\n",
    "\n",
    "for io in range(0,np.shape(segdata_r)[2]):\n",
    "    dataslc = cv2.resize(label_data_r[:,:,io], (Scn, segdata.shape[2]*factor), interpolation=cv2.INTER_NEAREST)\n",
    "    label_stack_r[:,:,io] = dataslc\n",
    "    dataslc = cv2.resize(segdata_r[:,:,io], (Scn, segdata.shape[2]*factor), interpolation=cv2.INTER_NEAREST)\n",
    "    seg_stack_r[:,:,io] = dataslc\n",
    "\n",
    "# show_ct_data(label_stack_r)\n",
    "\n",
    "label_stack = np.rot90(label_stack_r, 3, axes=(0,2))\n",
    "print(np.shape(label_stack))\n",
    "seg_stack = np.rot90(seg_stack_r, 3, axes=(0,2))\n",
    "\n",
    "show_ct_data(label_stack)"
   ]
  },
  {
   "cell_type": "code",
   "execution_count": 123,
   "metadata": {},
   "outputs": [
    {
     "data": {
      "application/vnd.jupyter.widget-view+json": {
       "model_id": "9680e91c416e4befb020eed546e1ec98",
       "version_major": 2,
       "version_minor": 0
      },
      "text/plain": [
       "interactive(children=(IntSlider(value=0, description='slice_idx', max=380), Output()), _dom_classes=('widget-i…"
      ]
     },
     "metadata": {},
     "output_type": "display_data"
    }
   ],
   "source": [
    "show_ct_data_with_labels(img_stack, label_stack)"
   ]
  },
  {
   "cell_type": "code",
   "execution_count": null,
   "metadata": {},
   "outputs": [],
   "source": []
  },
  {
   "cell_type": "markdown",
   "metadata": {},
   "source": [
    "### Process Pet Image"
   ]
  },
  {
   "cell_type": "code",
   "execution_count": null,
   "metadata": {},
   "outputs": [
    {
     "name": "stdout",
     "output_type": "stream",
     "text": [
      "(128, 128, 381)\n"
     ]
    },
    {
     "data": {
      "application/vnd.jupyter.widget-view+json": {
       "model_id": "ad90e173b7aa48778c3cef0a79d51b9b",
       "version_major": 2,
       "version_minor": 0
      },
      "text/plain": [
       "interactive(children=(IntSlider(value=0, description='slice_idx', max=380), Output()), _dom_classes=('widget-i…"
      ]
     },
     "metadata": {},
     "output_type": "display_data"
    }
   ],
   "source": [
    "# process PET image\n",
    "pt = nib.load(os.path.join(input_folder, pt_image_name))\n",
    "pt_data = pt.get_fdata().astype(np.float32)\n",
    "\n",
    "segdata = np.ones(np.shape(pt_data))\n",
    "\n",
    "# Z-interpolation\n",
    "data_r = np.rot90(pt_data, axes=(0,2))\n",
    "segdata_r = np.rot90(segdata, axes=(0,2))\n",
    "Scn = segdata.shape[0]\n",
    "factor = 3\n",
    "\n",
    "#now loop through slices\n",
    "dataslc = np.zeros(shape=[segdata.shape[2]*factor,Scn])\n",
    "pet_stack_r = np.zeros(shape=[segdata.shape[2]*factor,Scn,Scn])\n",
    "seg_stack_r = np.zeros(shape=[segdata.shape[2]*factor,Scn,Scn])\n",
    "\n",
    "# show_ct_data(data_r)\n",
    "\n",
    "for io in range(0,np.shape(segdata_r)[2]):\n",
    "    dataslc = cv2.resize(data_r[:,:,io], (Scn, segdata.shape[2]*factor), interpolation=cv2.INTER_CUBIC)\n",
    "    pet_stack_r[:,:,io] = dataslc\n",
    "    dataslc = cv2.resize(segdata_r[:,:,io], (Scn, segdata.shape[2]*factor), interpolation=cv2.INTER_NEAREST)\n",
    "    seg_stack_r[:,:,io] = dataslc\n",
    "\n",
    "pet_stack = np.rot90(pet_stack_r, 3, axes=(0,2))\n",
    "print(np.shape(pet_stack))\n",
    "seg_stack = np.rot90(seg_stack_r, 3, axes=(0,2))\n",
    "\n",
    "\n",
    "show_ct_data(pet_stack)\n",
    "# img_stack = normalize_0_1_global(img_stack)"
   ]
  },
  {
   "cell_type": "code",
   "execution_count": 168,
   "metadata": {},
   "outputs": [
    {
     "name": "stdout",
     "output_type": "stream",
     "text": [
      "pet shape:  (128, 128, 381)\n",
      "target shape:  (512, 512, 381)\n",
      "Original shape: (128, 128, 127)\n",
      "Resized shape: (512, 512, 381)\n"
     ]
    }
   ],
   "source": [
    "\n",
    "\n",
    "\n",
    "# Define the target shape\n",
    "target_shape = img_stack.shape\n",
    "\n",
    "print('pet shape: ', pet_stack.shape)\n",
    "print('target shape: ', target_shape)\n",
    "\n",
    "\n",
    "# Calculate the scaling factors for each dimension\n",
    "scaling_factors = (\n",
    "    target_shape[0] / pt_data.shape[0],  # Scaling factor for height\n",
    "    target_shape[1] / pt_data.shape[1],  # Scaling factor for width\n",
    "    target_shape[2] / pt_data.shape[2]   # Scaling factor for depth\n",
    ")\n",
    "\n",
    "# Use scipy.ndimage.zoom to resize the image stack\n",
    "# Order = 3 indicates cubic interpolation, which is suitable for smooth transitions\n",
    "resized_pet_data = scipy.ndimage.zoom(pt_data, scaling_factors, order=3)\n",
    "\n",
    "# Check the shape of the resized data\n",
    "print(\"Original shape:\", pt_data.shape)\n",
    "print(\"Resized shape:\", resized_pet_data.shape)\n"
   ]
  },
  {
   "cell_type": "code",
   "execution_count": 169,
   "metadata": {},
   "outputs": [
    {
     "data": {
      "application/vnd.jupyter.widget-view+json": {
       "model_id": "68ef40013d17485ebb34b6ecf2253575",
       "version_major": 2,
       "version_minor": 0
      },
      "text/plain": [
       "interactive(children=(IntSlider(value=0, description='slice_idx', max=380), Output()), _dom_classes=('widget-i…"
      ]
     },
     "metadata": {},
     "output_type": "display_data"
    }
   ],
   "source": [
    "show_ct_data_with_labels(resized_pet_data, label_stack)"
   ]
  },
  {
   "cell_type": "code",
   "execution_count": null,
   "metadata": {},
   "outputs": [],
   "source": []
  },
  {
   "cell_type": "markdown",
   "metadata": {},
   "source": [
    "## Upsample Pet image"
   ]
  },
  {
   "cell_type": "code",
   "execution_count": 200,
   "metadata": {},
   "outputs": [],
   "source": [
    "import nibabel as nib\n",
    "import numpy as np\n",
    "import scipy.ndimage\n",
    "from skimage.transform import resize\n"
   ]
  },
  {
   "cell_type": "code",
   "execution_count": 190,
   "metadata": {},
   "outputs": [],
   "source": [
    "# Function to visualize CT data interactively\n",
    "def show_res_image(ct_data):\n",
    "    # Ensure ct_data is a NumPy array\n",
    "    ct_data = np.asarray(ct_data)\n",
    "    \n",
    "    # Define the function to plot a specific slice\n",
    "    def plot_slice(slice_idx):\n",
    "        plt.figure(figsize=(6, 6))\n",
    "        plt.imshow(ct_data[:, :, slice_idx], cmap='gray')\n",
    "        plt.title(f\"Slice {slice_idx}\")\n",
    "        # plt.axis('off')\n",
    "        plt.show()\n",
    "    \n",
    "    # Create an interactive slider to select slices\n",
    "    interact(plot_slice, slice_idx=widgets.IntSlider(min=0, max=127, step=1, value=0))"
   ]
  },
  {
   "cell_type": "code",
   "execution_count": 201,
   "metadata": {},
   "outputs": [],
   "source": [
    "\n",
    "def resample_and_align_pet_to_ct(pet_image_path, ct_image_path, output_path=''):\n",
    "    # Load the PET and CT images\n",
    "    pet_img = nib.load(pet_image_path)  # Load PET NIfTI image\n",
    "    ct_img = nib.load(ct_image_path)    # Load CT NIfTI image\n",
    "\n",
    "    # Extract data and affine from the PET image\n",
    "    pet_data = pet_img.get_fdata()      # Get PET voxel data (128, 128, 127)\n",
    "    pet_affine = pet_img.affine         # Get PET affine transformation matrix\n",
    "\n",
    "    # Extract data and affine from the CT image\n",
    "    ct_data = ct_img.get_fdata()        # Get CT voxel data (512, 512, 127)\n",
    "    ct_affine = ct_img.affine           # Get CT affine transformation matrix\n",
    "\n",
    "    # Compute scaling factors to match PET to CT resolution (512, 512, 127)\n",
    "    pet_voxel_size = pet_img.header.get_zooms()[:3]   # PET voxel size (5.46875, 5.46875, 3.27)\n",
    "    ct_voxel_size = ct_img.header.get_zooms()[:3]     # CT voxel size (0.976562, 0.976562, 3.27)\n",
    "    \n",
    "    scaling_factors = (\n",
    "        pet_voxel_size[0] / ct_voxel_size[0],  # Scaling factor for X\n",
    "        pet_voxel_size[1] / ct_voxel_size[1],  # Scaling factor for Y\n",
    "        pet_voxel_size[2] / ct_voxel_size[2]   # Scaling factor for Z\n",
    "    )\n",
    "\n",
    "    # Resample the PET image using scipy.ndimage.zoom to match CT dimensions\n",
    "    pet_resampled_data = scipy.ndimage.zoom(pet_data, scaling_factors, order=3)  # Cubic interpolation\n",
    "\n",
    "    # Now explicitly resize to the exact CT dimensions using skimage.transform.resize\n",
    "    target_shape = ct_data.shape\n",
    "    pet_resampled_data = resize(\n",
    "        pet_resampled_data,\n",
    "        target_shape,\n",
    "        mode='reflect',\n",
    "        anti_aliasing=True,\n",
    "        order=3  # Cubic interpolation\n",
    "    )\n",
    "\n",
    "    # Compute the new affine transformation matrix for the resampled PET\n",
    "    pet_new_affine = np.copy(ct_affine)  # Start with the CT affine transformation matrix\n",
    "\n",
    "    # Adjust the qoffset (origin) to match CT image origin\n",
    "    pet_new_affine[:3, 3] = ct_affine[:3, 3]\n",
    "\n",
    "    # Create a new NIfTI image with the resampled PET data and new affine matrix\n",
    "    pet_resampled_img = nib.Nifti1Image(pet_resampled_data, pet_new_affine)\n",
    "\n",
    "    # Save the resampled PET image to the output path\n",
    "    # nib.save(pet_resampled_img, output_path)\n",
    "    return pet_resampled_img\n"
   ]
  },
  {
   "cell_type": "code",
   "execution_count": 202,
   "metadata": {},
   "outputs": [
    {
     "data": {
      "text/plain": [
       "(512, 512, 127)"
      ]
     },
     "execution_count": 202,
     "metadata": {},
     "output_type": "execute_result"
    }
   ],
   "source": [
    "\n",
    "ct_path = os.path.join(input_folder, ct_image_name)\n",
    "pt_path = os.path.join(input_folder, pt_image_name)\n",
    "\n",
    "# Example usage\n",
    "res_pet = resample_and_align_pet_to_ct(pt_path, ct_path)\n",
    "res_pet_data = res_pet.get_fdata()\n",
    "res_pet_data.shape"
   ]
  },
  {
   "cell_type": "code",
   "execution_count": 203,
   "metadata": {},
   "outputs": [
    {
     "data": {
      "application/vnd.jupyter.widget-view+json": {
       "model_id": "6b4d1a3cf2254285b16c198d183c4e02",
       "version_major": 2,
       "version_minor": 0
      },
      "text/plain": [
       "interactive(children=(IntSlider(value=0, description='slice_idx', max=127), Output()), _dom_classes=('widget-i…"
      ]
     },
     "metadata": {},
     "output_type": "display_data"
    },
    {
     "data": {
      "text/plain": [
       "<Figure size 600x600 with 0 Axes>"
      ]
     },
     "metadata": {},
     "output_type": "display_data"
    },
    {
     "data": {
      "text/plain": [
       "<Figure size 600x600 with 0 Axes>"
      ]
     },
     "metadata": {},
     "output_type": "display_data"
    },
    {
     "data": {
      "text/plain": [
       "<Figure size 600x600 with 0 Axes>"
      ]
     },
     "metadata": {},
     "output_type": "display_data"
    }
   ],
   "source": [
    "show_res_image(res_pet_data)"
   ]
  },
  {
   "cell_type": "code",
   "execution_count": 216,
   "metadata": {},
   "outputs": [
    {
     "data": {
      "application/vnd.jupyter.widget-view+json": {
       "model_id": "c200769c212b4185a969a5c88ec3a78a",
       "version_major": 2,
       "version_minor": 0
      },
      "text/plain": [
       "interactive(children=(IntSlider(value=0, description='slice_idx', max=511), Output()), _dom_classes=('widget-i…"
      ]
     },
     "metadata": {},
     "output_type": "display_data"
    },
    {
     "data": {
      "application/vnd.jupyter.widget-view+json": {
       "model_id": "7c7fd33079c0446185dd3aefb76ce0f0",
       "version_major": 2,
       "version_minor": 0
      },
      "text/plain": [
       "interactive(children=(IntSlider(value=0, description='slice_idx', max=511), Output()), _dom_classes=('widget-i…"
      ]
     },
     "metadata": {},
     "output_type": "display_data"
    },
    {
     "name": "stdout",
     "output_type": "stream",
     "text": [
      "(512, 512, 381)\n"
     ]
    },
    {
     "data": {
      "application/vnd.jupyter.widget-view+json": {
       "model_id": "3a4f9df759df47d3803dae53a86e15ae",
       "version_major": 2,
       "version_minor": 0
      },
      "text/plain": [
       "interactive(children=(IntSlider(value=0, description='slice_idx', max=380), Output()), _dom_classes=('widget-i…"
      ]
     },
     "metadata": {},
     "output_type": "display_data"
    }
   ],
   "source": [
    "# process CT image\n",
    "# ct = nib.load(os.path.join(input_folder, ct_image_name))\n",
    "# ct_data = ct.get_fdata().astype(np.float32)\n",
    "# # apply CT windowing and normalize image\n",
    "# ct_data_window = apply_window(ct_data)\n",
    "\n",
    "segdata = np.ones(np.shape(res_pet_data))\n",
    "\n",
    "# Z-interpolation\n",
    "pet_data_r = np.rot90(res_pet_data, axes=(0,2))\n",
    "segdata_r = np.rot90(segdata, axes=(0,2))\n",
    "Scn = segdata.shape[0]\n",
    "factor = 3\n",
    "\n",
    "show_ct_data(pet_data_r)\n",
    "\n",
    "#now loop through slices\n",
    "dataslc = np.zeros(shape=[segdata.shape[2]*factor,Scn])\n",
    "pet_stack_r = np.zeros(shape=[segdata.shape[2]*factor,Scn,Scn])\n",
    "seg_stack_r = np.zeros(shape=[segdata.shape[2]*factor,Scn,Scn])\n",
    "\n",
    "for io in range(0,np.shape(segdata_r)[2]):\n",
    "    dataslc = cv2.resize(pet_data_r[:,:,io], (Scn, segdata.shape[2]*factor), interpolation=cv2.INTER_CUBIC)\n",
    "    pet_stack_r[:,:,io] = dataslc\n",
    "    dataslc = cv2.resize(segdata_r[:,:,io], (Scn, segdata.shape[2]*factor), interpolation=cv2.INTER_NEAREST)\n",
    "    seg_stack_r[:,:,io] = dataslc\n",
    "\n",
    "show_ct_data(pet_stack_r)\n",
    "\n",
    "pet_stack = np.rot90(pet_stack_r, 3, axes=(0,2))\n",
    "print(np.shape(pet_stack))\n",
    "# seg_stack = np.rot90(seg_stack_r, 3, axes=(0,2))\n",
    "show_ct_data(pet_stack)\n",
    "# img_stack = normalize_0_1_global(img_stack)"
   ]
  },
  {
   "cell_type": "code",
   "execution_count": 217,
   "metadata": {},
   "outputs": [
    {
     "data": {
      "application/vnd.jupyter.widget-view+json": {
       "model_id": "12a4fef94cfe4e7a8b71d061748b9cc5",
       "version_major": 2,
       "version_minor": 0
      },
      "text/plain": [
       "interactive(children=(IntSlider(value=0, description='slice_idx', max=380), Output()), _dom_classes=('widget-i…"
      ]
     },
     "metadata": {},
     "output_type": "display_data"
    }
   ],
   "source": [
    "show_ct_data_with_labels(pet_stack, label_stack)"
   ]
  },
  {
   "cell_type": "code",
   "execution_count": null,
   "metadata": {},
   "outputs": [],
   "source": []
  },
  {
   "cell_type": "code",
   "execution_count": null,
   "metadata": {},
   "outputs": [],
   "source": []
  },
  {
   "cell_type": "code",
   "execution_count": null,
   "metadata": {},
   "outputs": [],
   "source": []
  },
  {
   "cell_type": "code",
   "execution_count": null,
   "metadata": {},
   "outputs": [],
   "source": []
  },
  {
   "cell_type": "code",
   "execution_count": 181,
   "metadata": {},
   "outputs": [
    {
     "name": "stdout",
     "output_type": "stream",
     "text": [
      "<class 'nibabel.nifti1.Nifti1Header'> object, endian='<'\n",
      "sizeof_hdr      : 348\n",
      "data_type       : b''\n",
      "db_name         : b''\n",
      "extents         : 0\n",
      "session_error   : 0\n",
      "regular         : b'r'\n",
      "dim_info        : 0\n",
      "dim             : [  3 512 512 127   1   1   1   1]\n",
      "intent_p1       : 0.0\n",
      "intent_p2       : 0.0\n",
      "intent_p3       : 0.0\n",
      "intent_code     : none\n",
      "datatype        : float32\n",
      "bitpix          : 32\n",
      "slice_start     : 0\n",
      "pixdim          : [1.       0.976562 0.976562 3.27     0.       0.       0.       0.      ]\n",
      "vox_offset      : 0.0\n",
      "scl_slope       : nan\n",
      "scl_inter       : nan\n",
      "slice_end       : 0\n",
      "slice_code      : unknown\n",
      "xyzt_units      : 2\n",
      "cal_max         : 0.0\n",
      "cal_min         : 0.0\n",
      "slice_duration  : 0.0\n",
      "toffset         : 0.0\n",
      "glmax           : 0\n",
      "glmin           : 0\n",
      "descrip         : b''\n",
      "aux_file        : b''\n",
      "qform_code      : scanner\n",
      "sform_code      : scanner\n",
      "quatern_b       : 0.0\n",
      "quatern_c       : 0.0\n",
      "quatern_d       : 1.0\n",
      "qoffset_x       : 250.0\n",
      "qoffset_y       : 250.0\n",
      "qoffset_z       : -444.52\n",
      "srow_x          : [ -0.976562   0.         0.       250.      ]\n",
      "srow_y          : [  0.        -0.976562   0.       250.      ]\n",
      "srow_z          : [   0.      0.      3.27 -444.52]\n",
      "intent_name     : b''\n",
      "magic           : b'n+1'\n"
     ]
    }
   ],
   "source": [
    "print(ct.header)"
   ]
  },
  {
   "cell_type": "code",
   "execution_count": null,
   "metadata": {},
   "outputs": [],
   "source": []
  },
  {
   "cell_type": "code",
   "execution_count": null,
   "metadata": {},
   "outputs": [],
   "source": []
  },
  {
   "cell_type": "code",
   "execution_count": null,
   "metadata": {},
   "outputs": [],
   "source": []
  },
  {
   "cell_type": "code",
   "execution_count": null,
   "metadata": {},
   "outputs": [],
   "source": []
  },
  {
   "cell_type": "code",
   "execution_count": null,
   "metadata": {},
   "outputs": [],
   "source": []
  },
  {
   "cell_type": "code",
   "execution_count": null,
   "metadata": {},
   "outputs": [],
   "source": []
  },
  {
   "cell_type": "markdown",
   "metadata": {},
   "source": [
    "# Sandbox"
   ]
  },
  {
   "cell_type": "code",
   "execution_count": 14,
   "metadata": {},
   "outputs": [
    {
     "data": {
      "text/plain": [
       "['MDA-117.nii.gz', 'CHUM-001.nii.gz', 'MDA-079.nii.gz', 'CHUM-002.nii.gz']"
      ]
     },
     "execution_count": 14,
     "metadata": {},
     "output_type": "execute_result"
    }
   ],
   "source": [
    "os.listdir(labels_foler)"
   ]
  },
  {
   "cell_type": "code",
   "execution_count": 7,
   "metadata": {},
   "outputs": [
    {
     "data": {
      "text/plain": [
       "['MDA-079__CT.nii.gz',\n",
       " 'CHUM-002__CT.nii.gz',\n",
       " 'CHUM-001__CT.nii.gz',\n",
       " 'MDA-117__CT.nii.gz']"
      ]
     },
     "execution_count": 7,
     "metadata": {},
     "output_type": "execute_result"
    }
   ],
   "source": [
    "try:\n",
    "    subdir, dirs, files = os.walk(input_folder).next()\n",
    "    files = [k for k in files if ct_prefix in k]\n",
    "except:\n",
    "    subdir, dirs, files = os.walk(input_folder).__next__()\n",
    "    files = [k for k in files if ct_prefix in k]\n",
    "\n",
    "files"
   ]
  },
  {
   "cell_type": "code",
   "execution_count": null,
   "metadata": {},
   "outputs": [],
   "source": [
    "# pt = nib.load(os.path.join(input_folder, pt_image_name))\n",
    "# pt_data = pt.get_fdata().astype(np.float32)\n",
    "\n",
    "# lbl = nib.load(os.path.join(labels_foler, label_name))\n",
    "# lbl_data = lbl.get_fdata().astype(np.float32)\n",
    "\n",
    "# print(pt_data.shape)\n",
    "# print(lbl_data.shape)"
   ]
  },
  {
   "cell_type": "code",
   "execution_count": 170,
   "metadata": {},
   "outputs": [
    {
     "name": "stdout",
     "output_type": "stream",
     "text": [
      "<class 'nibabel.nifti1.Nifti1Header'> object, endian='<'\n",
      "sizeof_hdr      : 348\n",
      "data_type       : b''\n",
      "db_name         : b''\n",
      "extents         : 0\n",
      "session_error   : 0\n",
      "regular         : b'r'\n",
      "dim_info        : 0\n",
      "dim             : [  3 128 128 127   1   1   1   1]\n",
      "intent_p1       : 0.0\n",
      "intent_p2       : 0.0\n",
      "intent_p3       : 0.0\n",
      "intent_code     : none\n",
      "datatype        : float32\n",
      "bitpix          : 32\n",
      "slice_start     : 0\n",
      "pixdim          : [1.      5.46875 5.46875 3.27    0.      0.      0.      0.     ]\n",
      "vox_offset      : 0.0\n",
      "scl_slope       : nan\n",
      "scl_inter       : nan\n",
      "slice_end       : 0\n",
      "slice_code      : unknown\n",
      "xyzt_units      : 2\n",
      "cal_max         : 0.0\n",
      "cal_min         : 0.0\n",
      "slice_duration  : 0.0\n",
      "toffset         : 0.0\n",
      "glmax           : 0\n",
      "glmin           : 0\n",
      "descrip         : b''\n",
      "aux_file        : b''\n",
      "qform_code      : scanner\n",
      "sform_code      : scanner\n",
      "quatern_b       : 0.0\n",
      "quatern_c       : 0.0\n",
      "quatern_d       : 1.0\n",
      "qoffset_x       : 347.26562\n",
      "qoffset_y       : 347.26562\n",
      "qoffset_z       : -444.5\n",
      "srow_x          : [ -5.46875   0.        0.      347.26562]\n",
      "srow_y          : [  0.       -5.46875   0.      347.26562]\n",
      "srow_z          : [   0.      0.      3.27 -444.5 ]\n",
      "intent_name     : b''\n",
      "magic           : b'n+1'\n"
     ]
    }
   ],
   "source": [
    "print(pt.header)"
   ]
  },
  {
   "cell_type": "code",
   "execution_count": 171,
   "metadata": {},
   "outputs": [
    {
     "name": "stdout",
     "output_type": "stream",
     "text": [
      "<class 'nibabel.nifti1.Nifti1Header'> object, endian='<'\n",
      "sizeof_hdr      : 348\n",
      "data_type       : b''\n",
      "db_name         : b''\n",
      "extents         : 0\n",
      "session_error   : 0\n",
      "regular         : b'r'\n",
      "dim_info        : 0\n",
      "dim             : [  3 512 512 127   1   1   1   1]\n",
      "intent_p1       : 0.0\n",
      "intent_p2       : 0.0\n",
      "intent_p3       : 0.0\n",
      "intent_code     : none\n",
      "datatype        : float32\n",
      "bitpix          : 32\n",
      "slice_start     : 0\n",
      "pixdim          : [1.       0.976562 0.976562 3.27     0.       0.       0.       0.      ]\n",
      "vox_offset      : 0.0\n",
      "scl_slope       : nan\n",
      "scl_inter       : nan\n",
      "slice_end       : 0\n",
      "slice_code      : unknown\n",
      "xyzt_units      : 2\n",
      "cal_max         : 0.0\n",
      "cal_min         : 0.0\n",
      "slice_duration  : 0.0\n",
      "toffset         : 0.0\n",
      "glmax           : 0\n",
      "glmin           : 0\n",
      "descrip         : b''\n",
      "aux_file        : b''\n",
      "qform_code      : scanner\n",
      "sform_code      : scanner\n",
      "quatern_b       : 0.0\n",
      "quatern_c       : 0.0\n",
      "quatern_d       : 1.0\n",
      "qoffset_x       : 250.0\n",
      "qoffset_y       : 250.0\n",
      "qoffset_z       : -444.52\n",
      "srow_x          : [ -0.976562   0.         0.       250.      ]\n",
      "srow_y          : [  0.        -0.976562   0.       250.      ]\n",
      "srow_z          : [   0.      0.      3.27 -444.52]\n",
      "intent_name     : b''\n",
      "magic           : b'n+1'\n"
     ]
    }
   ],
   "source": [
    "print(ct.header)"
   ]
  },
  {
   "cell_type": "code",
   "execution_count": null,
   "metadata": {},
   "outputs": [],
   "source": []
  }
 ],
 "metadata": {
  "kernelspec": {
   "display_name": "tensorflow-adda",
   "language": "python",
   "name": "python3"
  },
  "language_info": {
   "codemirror_mode": {
    "name": "ipython",
    "version": 3
   },
   "file_extension": ".py",
   "mimetype": "text/x-python",
   "name": "python",
   "nbconvert_exporter": "python",
   "pygments_lexer": "ipython3",
   "version": "3.10.12"
  }
 },
 "nbformat": 4,
 "nbformat_minor": 2
}
