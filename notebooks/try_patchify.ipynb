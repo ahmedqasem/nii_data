{
 "cells": [
  {
   "cell_type": "code",
   "execution_count": 29,
   "id": "0dc32fe3-d6c7-475f-9ced-1e0678dd35e6",
   "metadata": {},
   "outputs": [],
   "source": [
    "from patchify import patchify\n",
    "import pandas as pd\n",
    "import os\n",
    "import numpy as np\n",
    "import nibabel as nib                                                     # Read / write access to some common neuroimaging file formats\n",
    "import itk                                                                # Jupyter widgets to visualize images in 2D and 3D\n",
    "import itkwidgets\n",
    "from ipywidgets import interact, interactive, IntSlider, ToggleButtons\n",
    "import matplotlib.pyplot as plt\n",
    "import cv2\n"
   ]
  },
  {
   "cell_type": "markdown",
   "id": "e5ca5ba1-a2a3-43d3-9f5f-e8918c3bc2a2",
   "metadata": {},
   "source": [
    "# Load source images dataframe"
   ]
  },
  {
   "cell_type": "code",
   "execution_count": null,
   "id": "737ff03f-daab-42e7-b45b-8db066b55aed",
   "metadata": {},
   "outputs": [],
   "source": []
  },
  {
   "cell_type": "code",
   "execution_count": 2,
   "id": "b97adf0b-886c-4afe-8eaa-9910d0c5f581",
   "metadata": {},
   "outputs": [],
   "source": [
    "root_folder = '../../datasets/ADDA/resampled/'\n",
    "root_images_folder = '../../datasets/ADDA/resampled/images'\n",
    "root_labels_folder = '../../datasets/ADDA/resampled/labels'"
   ]
  },
  {
   "cell_type": "code",
   "execution_count": 3,
   "id": "1d4d2231-311b-4858-b35e-aec0f42f857c",
   "metadata": {},
   "outputs": [
    {
     "name": "stdout",
     "output_type": "stream",
     "text": [
      "<class 'pandas.core.frame.DataFrame'>\n",
      "RangeIndex: 684 entries, 0 to 683\n",
      "Data columns (total 11 columns):\n",
      " #   Column     Non-Null Count  Dtype  \n",
      "---  ------     --------------  -----  \n",
      " 0   File Name  684 non-null    object \n",
      " 1   Institute  684 non-null    object \n",
      " 2   spacing    684 non-null    object \n",
      " 3   size       684 non-null    object \n",
      " 4   modality   684 non-null    object \n",
      " 5   spacing_x  684 non-null    float64\n",
      " 6   spacing_y  684 non-null    float64\n",
      " 7   spacing_z  684 non-null    float64\n",
      " 8   size_x     684 non-null    float64\n",
      " 9   size_y     684 non-null    float64\n",
      " 10  size_z     684 non-null    float64\n",
      "dtypes: float64(6), object(5)\n",
      "memory usage: 58.9+ KB\n"
     ]
    }
   ],
   "source": [
    "images_df = pd.read_csv(os.path.join(root_folder, 'images_info.csv'))\n",
    "images_df.info()\n",
    "                        "
   ]
  },
  {
   "cell_type": "code",
   "execution_count": 4,
   "id": "4f68f2c7-1298-41e0-a339-99934905183b",
   "metadata": {},
   "outputs": [
    {
     "data": {
      "text/html": [
       "<div>\n",
       "<style scoped>\n",
       "    .dataframe tbody tr th:only-of-type {\n",
       "        vertical-align: middle;\n",
       "    }\n",
       "\n",
       "    .dataframe tbody tr th {\n",
       "        vertical-align: top;\n",
       "    }\n",
       "\n",
       "    .dataframe thead th {\n",
       "        text-align: right;\n",
       "    }\n",
       "</style>\n",
       "<table border=\"1\" class=\"dataframe\">\n",
       "  <thead>\n",
       "    <tr style=\"text-align: right;\">\n",
       "      <th></th>\n",
       "      <th>File Name</th>\n",
       "      <th>Institute</th>\n",
       "      <th>spacing</th>\n",
       "      <th>size</th>\n",
       "      <th>modality</th>\n",
       "      <th>spacing_x</th>\n",
       "      <th>spacing_y</th>\n",
       "      <th>spacing_z</th>\n",
       "      <th>size_x</th>\n",
       "      <th>size_y</th>\n",
       "      <th>size_z</th>\n",
       "    </tr>\n",
       "  </thead>\n",
       "  <tbody>\n",
       "    <tr>\n",
       "      <th>0</th>\n",
       "      <td>MDA-111__CT.nii.gz</td>\n",
       "      <td>MDA</td>\n",
       "      <td>(1.0, 1.0, 1.0)</td>\n",
       "      <td>(500, 500, 975)</td>\n",
       "      <td>CT</td>\n",
       "      <td>1.0</td>\n",
       "      <td>1.0</td>\n",
       "      <td>1.0</td>\n",
       "      <td>500.0</td>\n",
       "      <td>500.0</td>\n",
       "      <td>975.0</td>\n",
       "    </tr>\n",
       "    <tr>\n",
       "      <th>1</th>\n",
       "      <td>MDA-126__CT.nii.gz</td>\n",
       "      <td>MDA</td>\n",
       "      <td>(1.0, 1.0, 1.0)</td>\n",
       "      <td>(500, 500, 415)</td>\n",
       "      <td>CT</td>\n",
       "      <td>1.0</td>\n",
       "      <td>1.0</td>\n",
       "      <td>1.0</td>\n",
       "      <td>500.0</td>\n",
       "      <td>500.0</td>\n",
       "      <td>415.0</td>\n",
       "    </tr>\n",
       "    <tr>\n",
       "      <th>2</th>\n",
       "      <td>MDA-005__CT.nii.gz</td>\n",
       "      <td>MDA</td>\n",
       "      <td>(1.0, 1.0, 1.0)</td>\n",
       "      <td>(500, 500, 873)</td>\n",
       "      <td>CT</td>\n",
       "      <td>1.0</td>\n",
       "      <td>1.0</td>\n",
       "      <td>1.0</td>\n",
       "      <td>500.0</td>\n",
       "      <td>500.0</td>\n",
       "      <td>873.0</td>\n",
       "    </tr>\n",
       "    <tr>\n",
       "      <th>3</th>\n",
       "      <td>CHUS-048__CT.nii.gz</td>\n",
       "      <td>CHUS</td>\n",
       "      <td>(1.0, 1.0, 1.0)</td>\n",
       "      <td>(576, 576, 401)</td>\n",
       "      <td>CT</td>\n",
       "      <td>1.0</td>\n",
       "      <td>1.0</td>\n",
       "      <td>1.0</td>\n",
       "      <td>576.0</td>\n",
       "      <td>576.0</td>\n",
       "      <td>401.0</td>\n",
       "    </tr>\n",
       "    <tr>\n",
       "      <th>4</th>\n",
       "      <td>MDA-032__CT.nii.gz</td>\n",
       "      <td>MDA</td>\n",
       "      <td>(1.0, 1.0, 1.0)</td>\n",
       "      <td>(498, 498, 873)</td>\n",
       "      <td>CT</td>\n",
       "      <td>1.0</td>\n",
       "      <td>1.0</td>\n",
       "      <td>1.0</td>\n",
       "      <td>498.0</td>\n",
       "      <td>498.0</td>\n",
       "      <td>873.0</td>\n",
       "    </tr>\n",
       "  </tbody>\n",
       "</table>\n",
       "</div>"
      ],
      "text/plain": [
       "             File Name Institute          spacing             size modality  \\\n",
       "0   MDA-111__CT.nii.gz       MDA  (1.0, 1.0, 1.0)  (500, 500, 975)       CT   \n",
       "1   MDA-126__CT.nii.gz       MDA  (1.0, 1.0, 1.0)  (500, 500, 415)       CT   \n",
       "2   MDA-005__CT.nii.gz       MDA  (1.0, 1.0, 1.0)  (500, 500, 873)       CT   \n",
       "3  CHUS-048__CT.nii.gz      CHUS  (1.0, 1.0, 1.0)  (576, 576, 401)       CT   \n",
       "4   MDA-032__CT.nii.gz       MDA  (1.0, 1.0, 1.0)  (498, 498, 873)       CT   \n",
       "\n",
       "   spacing_x  spacing_y  spacing_z  size_x  size_y  size_z  \n",
       "0        1.0        1.0        1.0   500.0   500.0   975.0  \n",
       "1        1.0        1.0        1.0   500.0   500.0   415.0  \n",
       "2        1.0        1.0        1.0   500.0   500.0   873.0  \n",
       "3        1.0        1.0        1.0   576.0   576.0   401.0  \n",
       "4        1.0        1.0        1.0   498.0   498.0   873.0  "
      ]
     },
     "execution_count": 4,
     "metadata": {},
     "output_type": "execute_result"
    }
   ],
   "source": [
    "images_df.head()"
   ]
  },
  {
   "cell_type": "markdown",
   "id": "035742ae-f669-4178-900f-dd960546a15a",
   "metadata": {},
   "source": [
    "# Load single image"
   ]
  },
  {
   "cell_type": "code",
   "execution_count": 39,
   "id": "6f53e58c-477c-4805-88b4-69fb119ae03e",
   "metadata": {},
   "outputs": [],
   "source": [
    "img_name = 'MDA-079'\n",
    "\n",
    "ct_obj = nib.load(os.path.join(root_images_folder, f'{img_name}__CT.nii.gz'))\n",
    "pt_obj = nib.load(os.path.join(root_images_folder, f'{img_name}__PT.nii.gz'))\n",
    "mask_obj = nib.load(os.path.join(root_labels_folder, f'{img_name}.nii.gz'))"
   ]
  },
  {
   "cell_type": "code",
   "execution_count": 40,
   "id": "f9582aec-b3e8-4dfc-94a3-a6ab3face6cc",
   "metadata": {},
   "outputs": [],
   "source": [
    "ct_image_data = ct_obj.get_fdata()\n",
    "pt_image_data = pt_obj.get_fdata()\n",
    "mask_data = mask_obj.get_fdata()"
   ]
  },
  {
   "cell_type": "code",
   "execution_count": 41,
   "id": "9c68f692-b982-4462-9ba3-2526952a1822",
   "metadata": {},
   "outputs": [
    {
     "name": "stdout",
     "output_type": "stream",
     "text": [
      "The image object has the following dimensions: height: 500, width:500, depth:415\n"
     ]
    }
   ],
   "source": [
    "# Get the image shape and print it out\n",
    "height, width, depth = ct_image_data.shape\n",
    "print(f\"The image object has the following dimensions: height: {height}, width:{width}, depth:{depth}\")"
   ]
  },
  {
   "cell_type": "code",
   "execution_count": 44,
   "id": "ef4bd5a0-4db6-4c0d-8b78-3425497106db",
   "metadata": {},
   "outputs": [],
   "source": [
    "# only keep GTVp=1 ignore GTVn=2\n",
    "mask_data = (mask_data == 1)"
   ]
  },
  {
   "cell_type": "code",
   "execution_count": 45,
   "id": "39c809cb-c50b-43c6-ac73-a2c3cde9e582",
   "metadata": {},
   "outputs": [],
   "source": [
    "def apply_window(img, width=500, center=40):\n",
    "    # np.interp(a, (a.min(), a.max()), (-1, +1))\n",
    "\n",
    "    # convert below window to black\n",
    "    img[img<(center-(width/2))]=center-(width/2)\n",
    "    # convert above window to white\n",
    "    img[img>(center+(width/2))]=center+(width/2)\n",
    "\n",
    "    # normalize image\n",
    "    img_scaled = np.interp(img, (img.min(), img.max()), (0, +1))\n",
    "    # print(img_scaled.shape)\n",
    "    # print(np.min(img_scaled), np.max(img_scaled))\n",
    "    return img"
   ]
  },
  {
   "cell_type": "code",
   "execution_count": 46,
   "id": "d30294cf-e1b9-4274-aa0c-49a28fb680e5",
   "metadata": {},
   "outputs": [
    {
     "data": {
      "application/vnd.jupyter.widget-view+json": {
       "model_id": "9fdd69765c9f4ad993b107b22382e8c5",
       "version_major": 2,
       "version_minor": 0
      },
      "text/plain": [
       "interactive(children=(IntSlider(value=207, description='layer', max=414), Output()), _dom_classes=('widget-int…"
      ]
     },
     "metadata": {},
     "output_type": "display_data"
    },
    {
     "data": {
      "text/plain": [
       "<function __main__.explore_3dimage(layer)>"
      ]
     },
     "execution_count": 46,
     "metadata": {},
     "output_type": "execute_result"
    }
   ],
   "source": [
    "# Define a function to visualize the data\n",
    "def explore_3dimage(layer):\n",
    "#     plt.figure(figsize=(20, 10))\n",
    "#     channel = 3\n",
    "#     plt.imshow(ct_image_data[:, :, layer], cmap='gray');\n",
    "#     plt.title('Explore Layers of Brain CT', fontsize=20)\n",
    "#     plt.axis('off')\n",
    "    fig, ax = plt.subplots(ncols=3, figsize=(20,20))\n",
    "\n",
    "    ax[0].imshow(apply_window(ct_image_data[:,:,layer]), cmap='gray')\n",
    "    ax[0].contour(mask_data[:,:,layer], colors='red')\n",
    "    \n",
    "    ax[1].imshow(pt_image_data[:,:,layer], cmap='gray')\n",
    "    ax[1].contour(mask_data[:,:,layer],  colors='red')\n",
    "    \n",
    "    ax[2].imshow(mask_data[:,:,layer], cmap='gray')\n",
    "\n",
    "    return layer\n",
    "\n",
    "# Run the ipywidgets interact() function to explore the data\n",
    "interact(explore_3dimage, layer=(0, ct_image_data.shape[2] - 1))"
   ]
  },
  {
   "cell_type": "markdown",
   "id": "1d3d185a-43cd-4e71-911e-5b8041fac7a8",
   "metadata": {},
   "source": [
    "# try patchify"
   ]
  },
  {
   "cell_type": "code",
   "execution_count": 30,
   "id": "8ef93e70-3bc1-439f-9408-718cf246620c",
   "metadata": {},
   "outputs": [
    {
     "data": {
      "text/plain": [
       "(500, 500, 415)"
      ]
     },
     "execution_count": 30,
     "metadata": {},
     "output_type": "execute_result"
    }
   ],
   "source": [
    "ct_image_data.shape"
   ]
  },
  {
   "cell_type": "code",
   "execution_count": 31,
   "id": "e4f58f66-be8f-47ce-91f1-a8fbe631332a",
   "metadata": {},
   "outputs": [],
   "source": [
    "pSize = 256\n",
    "st = 128\n",
    "ct_patches = patchify(ct_image_data,(pSize,pSize,pSize), step=st)\n",
    "pt_patches = patchify(pt_image_data,(pSize,pSize,pSize), step=st)\n",
    "mask_patches = patchify(mask_data,(pSize,pSize,pSize), step=st)"
   ]
  },
  {
   "cell_type": "code",
   "execution_count": 32,
   "id": "daf0d68b-652f-4f94-9b23-e28a77138a7d",
   "metadata": {},
   "outputs": [
    {
     "data": {
      "text/plain": [
       "(2, 2, 2, 256, 256, 256)"
      ]
     },
     "execution_count": 32,
     "metadata": {},
     "output_type": "execute_result"
    }
   ],
   "source": [
    "ct_patches.shape"
   ]
  },
  {
   "cell_type": "code",
   "execution_count": 33,
   "id": "0a9b9739-a753-41b9-ac78-6a0e0bc0aa8d",
   "metadata": {
    "scrolled": true
   },
   "outputs": [
    {
     "name": "stderr",
     "output_type": "stream",
     "text": [
      "IOPub data rate exceeded.\n",
      "The Jupyter server will temporarily stop sending output\n",
      "to the client in order to avoid crashing it.\n",
      "To change this limit, set the config variable\n",
      "`--ServerApp.iopub_data_rate_limit`.\n",
      "\n",
      "Current values:\n",
      "ServerApp.iopub_data_rate_limit=1000000.0 (bytes/sec)\n",
      "ServerApp.rate_limit_window=3.0 (secs)\n",
      "\n"
     ]
    }
   ],
   "source": [
    "xx = (mask_patches != 0)\n",
    "indices = np.where(xx)\n",
    "non_zero_indices = list(zip(*indices))\n",
    "for i, index_tuple in enumerate(non_zero_indices):\n",
    "    print(f\"Non-zero value {i+1} at indices: {index_tuple}\")"
   ]
  },
  {
   "cell_type": "code",
   "execution_count": 34,
   "id": "c98d046f-a373-412e-ab8b-8f96715e6f3c",
   "metadata": {},
   "outputs": [],
   "source": [
    "y,x,z = 0,1,1\n",
    "ct_test = ct_patches[x][y][z]\n",
    "pt_test = pt_patches[x][y][z]\n",
    "mask_test = mask_patches[x][y][z]"
   ]
  },
  {
   "cell_type": "code",
   "execution_count": 35,
   "id": "c1b4214e-7d85-462a-9b61-5c7aa020dd75",
   "metadata": {},
   "outputs": [
    {
     "data": {
      "application/vnd.jupyter.widget-view+json": {
       "model_id": "088d9d4364554dd799549135be8a612d",
       "version_major": 2,
       "version_minor": 0
      },
      "text/plain": [
       "interactive(children=(IntSlider(value=127, description='layer', max=255), Output()), _dom_classes=('widget-int…"
      ]
     },
     "metadata": {},
     "output_type": "display_data"
    },
    {
     "data": {
      "text/plain": [
       "<function __main__.explore_3dpatch(layer)>"
      ]
     },
     "execution_count": 35,
     "metadata": {},
     "output_type": "execute_result"
    }
   ],
   "source": [
    "# Define a function to visualize the data\n",
    "def explore_3dpatch(layer):\n",
    " \n",
    "    fig, ax = plt.subplots(ncols=3, figsize=(5,5))\n",
    "\n",
    "    # ax[0].imshow(apply_window(ct[:,:,layer]), cmap='gray')\n",
    "    ax[0].imshow(apply_window(ct_test[:,:,layer]), cmap='gray')\n",
    "    ax[0].contour(mask_test[:,:,layer], colors='red')\n",
    "    \n",
    "    ax[1].imshow(pt_test[:,:,layer], cmap='gray')\n",
    "    ax[1].contour(mask_test[:,:,layer],  colors='red')\n",
    "    \n",
    "    ax[2].imshow(mask_test[:,:,layer], cmap='gray')\n",
    "\n",
    "\n",
    "    return layer\n",
    "\n",
    "# Run the ipywidgets interact() function to explore the data\n",
    "interact(explore_3dpatch, layer=(0, ct_test.shape[2] - 1))"
   ]
  },
  {
   "cell_type": "code",
   "execution_count": 196,
   "id": "35f66b30-bf66-436c-a29b-27b035521504",
   "metadata": {},
   "outputs": [
    {
     "data": {
      "text/plain": [
       "(64, 64, 64)"
      ]
     },
     "execution_count": 196,
     "metadata": {},
     "output_type": "execute_result"
    }
   ],
   "source": [
    "ct_test.shape"
   ]
  },
  {
   "cell_type": "code",
   "execution_count": 197,
   "id": "3b349aaf-5955-4f19-88ba-051721279a76",
   "metadata": {},
   "outputs": [
    {
     "name": "stdout",
     "output_type": "stream",
     "text": [
      "(64, 64, 128)\n",
      "(64, 64, 128)\n"
     ]
    }
   ],
   "source": [
    "\n",
    "def concat_pet_ct(ct, pt):\n",
    "    assert ct.shape == pt.shape\n",
    "    # Create an empty array to store the concatenated array\n",
    "    concatenated_array = np.empty((ct.shape[0], ct.shape[1], 2*ct.shape[2]))\n",
    "    # Iterate over the two arrays and concatenate them in an interchangeable order along the z axis\n",
    "    for i in range(64):\n",
    "        concatenated_array[:, :, 2*i] = ct[:, :, i]\n",
    "        concatenated_array[:, :, 2*i + 1] = pt[:, :, i]\n",
    "\n",
    "    return concatenated_array\n",
    "    \n",
    "\n",
    "dd = concat_pet_ct(ct_test, pt_test)\n",
    "mm = concat_pet_ct(mask_test, mask_test)\n",
    "print(dd.shape)\n",
    "print(mm.shape)\n",
    "\n",
    "\n",
    "# # Print the shape of the concatenated array\n",
    "# print(concatenated_array.shape)"
   ]
  },
  {
   "cell_type": "code",
   "execution_count": null,
   "id": "e08a0452-110a-4705-a74e-5d605f9a1bf8",
   "metadata": {},
   "outputs": [],
   "source": []
  },
  {
   "cell_type": "code",
   "execution_count": null,
   "id": "e3bbbc57-a2d9-43b3-b4b5-735e9eb828a0",
   "metadata": {},
   "outputs": [],
   "source": []
  },
  {
   "cell_type": "code",
   "execution_count": null,
   "id": "9f588202-fdda-4253-a964-b1c522502ae6",
   "metadata": {},
   "outputs": [],
   "source": []
  },
  {
   "cell_type": "code",
   "execution_count": 199,
   "id": "78b783a0-ccec-45dc-af27-8cefdb90a338",
   "metadata": {},
   "outputs": [
    {
     "data": {
      "application/vnd.jupyter.widget-view+json": {
       "model_id": "791a1b1396894fcaab53b53289c1cb51",
       "version_major": 2,
       "version_minor": 0
      },
      "text/plain": [
       "interactive(children=(IntSlider(value=63, description='layer', max=127), Output()), _dom_classes=('widget-inte…"
      ]
     },
     "metadata": {},
     "output_type": "display_data"
    },
    {
     "data": {
      "text/plain": [
       "<function __main__.explore_3dconcat(layer)>"
      ]
     },
     "execution_count": 199,
     "metadata": {},
     "output_type": "execute_result"
    }
   ],
   "source": [
    "# Define a function to visualize the data\n",
    "def explore_3dconcat(layer):\n",
    " \n",
    "    fig, ax = plt.subplots(ncols=1, figsize=(5,5))\n",
    "\n",
    "    # ax[0].imshow(apply_window(ct[:,:,layer]), cmap='gray')\n",
    "    ax.imshow(dd[:,:,layer], cmap='gray')\n",
    "    ax.contour(mm[:,:,layer])\n",
    "    \n",
    "\n",
    "\n",
    "    return layer\n",
    "\n",
    "# Run the ipywidgets interact() function to explore the data\n",
    "interact(explore_3dconcat, layer=(0, dd.shape[2] - 1))"
   ]
  },
  {
   "cell_type": "markdown",
   "id": "d713e34b-56b8-43f2-a9c8-6acdaed5d09e",
   "metadata": {},
   "source": [
    "# Sandbox"
   ]
  },
  {
   "cell_type": "code",
   "execution_count": 10,
   "id": "3fabff35-e119-4f22-a4c2-44e516aa0da7",
   "metadata": {},
   "outputs": [],
   "source": [
    "import numpy as np\n",
    "\n",
    "# Create an empty NumPy array\n",
    "empty_array = np.array([])\n"
   ]
  },
  {
   "cell_type": "code",
   "execution_count": 13,
   "id": "da67893f-4209-4be4-8700-1064bfbf8925",
   "metadata": {},
   "outputs": [
    {
     "ename": "TypeError",
     "evalue": "only integer scalar arrays can be converted to a scalar index",
     "output_type": "error",
     "traceback": [
      "\u001b[0;31m---------------------------------------------------------------------------\u001b[0m",
      "\u001b[0;31mTypeError\u001b[0m                                 Traceback (most recent call last)",
      "Cell \u001b[0;32mIn[13], line 6\u001b[0m\n\u001b[1;32m      3\u001b[0m array2 \u001b[38;5;241m=\u001b[39m np\u001b[38;5;241m.\u001b[39marray([\u001b[38;5;241m4\u001b[39m, \u001b[38;5;241m5\u001b[39m, \u001b[38;5;241m6\u001b[39m])\n\u001b[1;32m      5\u001b[0m \u001b[38;5;66;03m# Append the arrays to the empty array\u001b[39;00m\n\u001b[0;32m----> 6\u001b[0m empty_array \u001b[38;5;241m=\u001b[39m \u001b[43mnp\u001b[49m\u001b[38;5;241;43m.\u001b[39;49m\u001b[43mconcatenate\u001b[49m\u001b[43m(\u001b[49m\u001b[43mempty_array\u001b[49m\u001b[43m,\u001b[49m\u001b[43m \u001b[49m\u001b[43marray1\u001b[49m\u001b[43m)\u001b[49m\n\u001b[1;32m      7\u001b[0m empty_array \u001b[38;5;241m=\u001b[39m np\u001b[38;5;241m.\u001b[39mconcatenate(empty_array, array2)\n",
      "\u001b[0;31mTypeError\u001b[0m: only integer scalar arrays can be converted to a scalar index"
     ]
    }
   ],
   "source": [
    "# Create some NumPy arrays to append\n",
    "array1 = np.array([1, 2, 3])\n",
    "array2 = np.array([4, 5, 6])\n",
    "\n",
    "# Append the arrays to the empty array\n",
    "empty_array = np.concatenate(empty_array, array1)\n",
    "empty_array = np.concatenate(empty_array, array2)\n"
   ]
  },
  {
   "cell_type": "code",
   "execution_count": 12,
   "id": "5b978acc-484a-4adb-8e18-30ce0fa06d44",
   "metadata": {},
   "outputs": [
    {
     "data": {
      "text/plain": [
       "(6,)"
      ]
     },
     "execution_count": 12,
     "metadata": {},
     "output_type": "execute_result"
    }
   ],
   "source": [
    "empty_array.shape"
   ]
  },
  {
   "cell_type": "code",
   "execution_count": 27,
   "id": "d7be54b3-3a84-4612-aaab-bdbddced4094",
   "metadata": {},
   "outputs": [
    {
     "name": "stdout",
     "output_type": "stream",
     "text": [
      "(1, 500, 500, 413) (1, 500, 500, 423)\n"
     ]
    },
    {
     "ename": "ValueError",
     "evalue": "setting an array element with a sequence. The requested array has an inhomogeneous shape after 4 dimensions. The detected shape was (2, 1, 500, 500) + inhomogeneous part.",
     "output_type": "error",
     "traceback": [
      "\u001b[0;31m---------------------------------------------------------------------------\u001b[0m",
      "\u001b[0;31mValueError\u001b[0m                                Traceback (most recent call last)",
      "Cell \u001b[0;32mIn[27], line 11\u001b[0m\n\u001b[1;32m      7\u001b[0m empty\u001b[38;5;241m.\u001b[39mappend(arr1)\n\u001b[1;32m      8\u001b[0m empty\u001b[38;5;241m.\u001b[39mappend(arr2)\n\u001b[0;32m---> 11\u001b[0m \u001b[43mnp\u001b[49m\u001b[38;5;241;43m.\u001b[39;49m\u001b[43marray\u001b[49m\u001b[43m(\u001b[49m\u001b[43mempty\u001b[49m\u001b[43m)\u001b[49m\u001b[38;5;241m.\u001b[39mshape\n",
      "\u001b[0;31mValueError\u001b[0m: setting an array element with a sequence. The requested array has an inhomogeneous shape after 4 dimensions. The detected shape was (2, 1, 500, 500) + inhomogeneous part."
     ]
    }
   ],
   "source": [
    "empty = []\n",
    "\n",
    "arr1 = np.zeros([1, 500,500,413], dtype=float)\n",
    "arr2 = np.zeros([1, 500,500,423], dtype=float)\n",
    "print(arr1.shape, arr2.shape)\n",
    "\n",
    "empty.append(arr1)\n",
    "empty.append(arr2)\n",
    "\n",
    "\n",
    "np.array(empty).shape\n",
    "             "
   ]
  },
  {
   "cell_type": "code",
   "execution_count": null,
   "id": "e80753d3-afbf-4d1e-9ab4-be9ea39beb32",
   "metadata": {},
   "outputs": [],
   "source": []
  }
 ],
 "metadata": {
  "kernelspec": {
   "display_name": "Python 3 (ipykernel)",
   "language": "python",
   "name": "python3"
  },
  "language_info": {
   "codemirror_mode": {
    "name": "ipython",
    "version": 3
   },
   "file_extension": ".py",
   "mimetype": "text/x-python",
   "name": "python",
   "nbconvert_exporter": "python",
   "pygments_lexer": "ipython3",
   "version": "3.10.12"
  }
 },
 "nbformat": 4,
 "nbformat_minor": 5
}
