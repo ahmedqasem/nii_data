{
 "cells": [
  {
   "cell_type": "code",
   "execution_count": 2,
   "metadata": {},
   "outputs": [],
   "source": [
    "# Jupyter Notebook Version of the Resampling Script\n",
    "\n",
    "# Import necessary libraries\n",
    "from pathlib import Path\n",
    "from multiprocessing import Pool\n",
    "import logging\n",
    "import pandas as pd\n",
    "import numpy as np\n",
    "import SimpleITK as sitk\n",
    "import click\n",
    "import matplotlib.pyplot as plt\n",
    "import ipywidgets as widgets\n",
    "from ipywidgets import interact\n",
    "import os\n",
    "import nibabel as nib\n"
   ]
  },
  {
   "cell_type": "markdown",
   "metadata": {},
   "source": [
    "setup input and output folders"
   ]
  },
  {
   "cell_type": "code",
   "execution_count": 3,
   "metadata": {},
   "outputs": [],
   "source": [
    "# Setting up logger to capture information and warnings\n",
    "log_fmt = '%(asctime)s - %(name)s - %(levelname)s - %(message)s'\n",
    "logging.basicConfig(level=logging.INFO, format=log_fmt)\n",
    "logging.captureWarnings(True)\n",
    "logger = logging.getLogger(__name__)"
   ]
  },
  {
   "cell_type": "code",
   "execution_count": 4,
   "metadata": {},
   "outputs": [],
   "source": [
    "#  Function to get bounding boxes from CT and PT images\n",
    "def get_bounding_boxes(ct, pt):\n",
    "    \"\"\"\n",
    "    Get the bounding boxes of the CT and PT images.\n",
    "    This works since all images have the same direction.\n",
    "    \"\"\"\n",
    "    \n",
    "    # Get the origins of both CT and PT images\n",
    "    ct_origin = np.array(ct.GetOrigin())\n",
    "    pt_origin = np.array(pt.GetOrigin())\n",
    "    \n",
    "    # Calculate the maximum positions for both CT and PT images\n",
    "    ct_position_max = ct_origin + np.array(ct.GetSize()) * np.array(ct.GetSpacing())\n",
    "    pt_position_max = pt_origin + np.array(pt.GetSize()) * np.array(pt.GetSpacing())\n",
    "    \n",
    "    # Return the combined bounding box that covers both images\n",
    "    return np.concatenate([\n",
    "        np.maximum(ct_origin, pt_origin),\n",
    "        np.minimum(ct_position_max, pt_position_max),\n",
    "    ], axis=0)"
   ]
  },
  {
   "cell_type": "code",
   "execution_count": 14,
   "metadata": {},
   "outputs": [],
   "source": [
    "# Function to visualize CT data interactively\n",
    "def show_ct_data(ct_data):\n",
    "    # Ensure ct_data is a NumPy array\n",
    "    ct_data = np.asarray(ct_data)\n",
    "    \n",
    "    # Define the function to plot a specific slice\n",
    "    def plot_slice(slice_idx):\n",
    "        plt.figure(figsize=(6, 6))\n",
    "        plt.imshow(ct_data[:, :, slice_idx], cmap='gray')\n",
    "        plt.title(f\"Slice {slice_idx}\")\n",
    "        # plt.axis('off')\n",
    "        plt.show()\n",
    "    \n",
    "    # Create an interactive slider to select slices\n",
    "    interact(plot_slice, slice_idx=widgets.IntSlider(min=0, max=ct_data.shape[2] - 1, step=1, value=0))"
   ]
  },
  {
   "cell_type": "code",
   "execution_count": 15,
   "metadata": {},
   "outputs": [],
   "source": [
    "# Function to visualize CT data with label contours interactively\n",
    "def show_ct_data_with_labels(ct_data, label_data):\n",
    "    \"\"\"\n",
    "    Display CT image slices with overlaid label contours interactively.\n",
    "\n",
    "    Parameters:\n",
    "    - ct_data: NumPy array of CT image data with shape (height, width, slices).\n",
    "    - label_data: NumPy array of label data with the same shape as ct_data.\n",
    "    \"\"\"\n",
    "    # Ensure ct_data and label_data are NumPy arrays\n",
    "    ct_data = np.asarray(ct_data)\n",
    "    label_data = np.asarray(label_data)\n",
    "    \n",
    "    # Verify that the shapes match\n",
    "    if ct_data.shape != label_data.shape:\n",
    "        raise ValueError(\"CT data and label data must have the same shape.\")\n",
    "    \n",
    "    # Define the function to plot a specific slice\n",
    "    def plot_slice(slice_idx):\n",
    "        plt.figure(figsize=(6, 6))\n",
    "        plt.imshow(ct_data[:, :, slice_idx], cmap='gray')\n",
    "        \n",
    "        # Overlay the label as a contour\n",
    "        contours = plt.contour(label_data[:, :, slice_idx], levels=np.unique(label_data), colors='r', linewidths=0.5)\n",
    "        \n",
    "        # Optionally, add a colorbar or legend for labels\n",
    "        # plt.clabel(contours, inline=True, fontsize=8)\n",
    "        \n",
    "        plt.title(f\"Slice {slice_idx}\")\n",
    "        plt.axis('off')\n",
    "        plt.show()\n",
    "    \n",
    "    # Create an interactive slider to select slices\n",
    "    interact(plot_slice, slice_idx=widgets.IntSlider(min=0, max=ct_data.shape[2] - 1, step=1, value=0))"
   ]
  },
  {
   "cell_type": "code",
   "execution_count": 17,
   "metadata": {},
   "outputs": [],
   "source": [
    "def apply_window(img, width=500, center=40, normal=True):\n",
    "    img = np.asarray(img)\n",
    "    # convert below window to black\n",
    "    img[img<(center-(width/2))]=center-(width/2)\n",
    "    # convert above window to white\n",
    "    img[img>(center+(width/2))]=center+(width/2)\n",
    "\n",
    "    if normal:\n",
    "        # normalize image\n",
    "        img_scaled = (img - np.min(img)) / (np.max(img) - np.min(img))\n",
    "        # print(img_scaled.shape)\n",
    "        # print(np.min(img_scaled), np.max(img_scaled))\n",
    "        return img_scaled\n",
    "    else:\n",
    "        return img"
   ]
  },
  {
   "cell_type": "markdown",
   "metadata": {},
   "source": [
    "# Start here"
   ]
  },
  {
   "cell_type": "code",
   "execution_count": 71,
   "metadata": {},
   "outputs": [],
   "source": [
    "# Define paths for input images, labels, and output directories\n",
    "# path_input_images = \"../dataset/images\"\n",
    "# path_input_labels = \"../dataset/labels\"\n",
    "# path_output_images = \"../dataset/output/images\"\n",
    "# path_output_labels = \"../dataset/output/labels\"\n",
    "\n",
    "path_input_images = \"/Volumes/Seagate/Research/ADDA/original/images\"\n",
    "path_input_labels = \"/Volumes/Seagate/Research/ADDA/original/labels\"\n",
    "path_output_images = \"/Volumes/Seagate/Research/ADDA/resampled_subsets/images\"\n",
    "path_output_labels = \"/Volumes/Seagate/Research/ADDA/resampled_subsets/labels\"\n",
    "path_data_breakdown = '../../datasets/ADDA/png_patches_2d/png_patch_training_file_with_tags.csv'"
   ]
  },
  {
   "cell_type": "code",
   "execution_count": 72,
   "metadata": {},
   "outputs": [
    {
     "name": "stdout",
     "output_type": "stream",
     "text": [
      "Input image folder: /Volumes/Seagate/Research/ADDA/original/images\n",
      "Input label folder: /Volumes/Seagate/Research/ADDA/original/labels\n",
      "Output image folder: /Volumes/Seagate/Research/ADDA/resampled_subsets/images\n",
      "Output label folder: /Volumes/Seagate/Research/ADDA/resampled_subsets/labels\n",
      "Resampling voxel size: (0.976562, 0.976562, 3.27)\n"
     ]
    }
   ],
   "source": [
    "# Set the Paths to the \n",
    "input_image_folder = path_input_images\n",
    "input_label_folder = path_input_labels\n",
    "output_image_folder = path_output_images\n",
    "output_label_folder = path_output_labels\n",
    "\n",
    "cores = 12\n",
    "\n",
    "resampling = (0.976562, 0.976562, 3.27)\n",
    "\n",
    "# Resolve paths to absolute paths\n",
    "input_image_folder = Path(input_image_folder).resolve()\n",
    "input_label_folder = Path(input_label_folder).resolve()\n",
    "output_image_folder = Path(output_image_folder).resolve()\n",
    "output_label_folder = Path(output_label_folder).resolve()\n",
    "\n",
    "\n",
    "print('Input image folder:', input_image_folder)\n",
    "print('Input label folder:', input_label_folder)\n",
    "print('Output image folder:', output_image_folder)\n",
    "print('Output label folder:', output_label_folder)\n",
    "print('Resampling voxel size:', resampling)\n"
   ]
  },
  {
   "cell_type": "code",
   "execution_count": 133,
   "metadata": {},
   "outputs": [],
   "source": []
  },
  {
   "cell_type": "markdown",
   "metadata": {},
   "source": [
    "## get the list of patient images to resample"
   ]
  },
  {
   "cell_type": "markdown",
   "metadata": {},
   "source": [
    "1. load from input folder:"
   ]
  },
  {
   "cell_type": "code",
   "execution_count": 130,
   "metadata": {},
   "outputs": [
    {
     "data": {
      "text/plain": [
       "['MDA-079', 'CHUM-002', 'CHUM-001', 'MDA-117']"
      ]
     },
     "execution_count": 130,
     "metadata": {},
     "output_type": "execute_result"
    }
   ],
   "source": [
    "# Get list of patients by finding CT images in the input folder\n",
    "# patient_list = [\n",
    "#     f.name.split(\"__\")[0] for f in input_image_folder.rglob(\"*_CT*\")\n",
    "# ]\n",
    "# if len(patient_list) == 0:\n",
    "#     raise ValueError(\"No patient found in the input folder\")\n",
    "\n",
    "# len(patient_list)\n",
    "# patient_list"
   ]
  },
  {
   "cell_type": "markdown",
   "metadata": {},
   "source": [
    "2. load from previous list of CSV file\n",
    "\n",
    "we need to keep tabs of this file to create a new list later"
   ]
  },
  {
   "cell_type": "code",
   "execution_count": 19,
   "metadata": {},
   "outputs": [
    {
     "data": {
      "text/html": [
       "<div>\n",
       "<style scoped>\n",
       "    .dataframe tbody tr th:only-of-type {\n",
       "        vertical-align: middle;\n",
       "    }\n",
       "\n",
       "    .dataframe tbody tr th {\n",
       "        vertical-align: top;\n",
       "    }\n",
       "\n",
       "    .dataframe thead th {\n",
       "        text-align: right;\n",
       "    }\n",
       "</style>\n",
       "<table border=\"1\" class=\"dataframe\">\n",
       "  <thead>\n",
       "    <tr style=\"text-align: right;\">\n",
       "      <th></th>\n",
       "      <th>subject_id</th>\n",
       "      <th>dataset</th>\n",
       "      <th>set</th>\n",
       "    </tr>\n",
       "  </thead>\n",
       "  <tbody>\n",
       "    <tr>\n",
       "      <th>0</th>\n",
       "      <td>MDA-039</td>\n",
       "      <td>source</td>\n",
       "      <td>train</td>\n",
       "    </tr>\n",
       "    <tr>\n",
       "      <th>1</th>\n",
       "      <td>MDA-039</td>\n",
       "      <td>source</td>\n",
       "      <td>train</td>\n",
       "    </tr>\n",
       "    <tr>\n",
       "      <th>2</th>\n",
       "      <td>MDA-039</td>\n",
       "      <td>source</td>\n",
       "      <td>train</td>\n",
       "    </tr>\n",
       "    <tr>\n",
       "      <th>3</th>\n",
       "      <td>MDA-039</td>\n",
       "      <td>source</td>\n",
       "      <td>train</td>\n",
       "    </tr>\n",
       "    <tr>\n",
       "      <th>4</th>\n",
       "      <td>MDA-039</td>\n",
       "      <td>source</td>\n",
       "      <td>train</td>\n",
       "    </tr>\n",
       "  </tbody>\n",
       "</table>\n",
       "</div>"
      ],
      "text/plain": [
       "  subject_id dataset    set\n",
       "0    MDA-039  source  train\n",
       "1    MDA-039  source  train\n",
       "2    MDA-039  source  train\n",
       "3    MDA-039  source  train\n",
       "4    MDA-039  source  train"
      ]
     },
     "execution_count": 19,
     "metadata": {},
     "output_type": "execute_result"
    }
   ],
   "source": [
    "df = pd.read_csv(path_data_breakdown)\n",
    "df = df[['subject_id', 'dataset', 'set']]\n",
    "df.head()"
   ]
  },
  {
   "cell_type": "code",
   "execution_count": 20,
   "metadata": {},
   "outputs": [
    {
     "data": {
      "text/html": [
       "<div>\n",
       "<style scoped>\n",
       "    .dataframe tbody tr th:only-of-type {\n",
       "        vertical-align: middle;\n",
       "    }\n",
       "\n",
       "    .dataframe tbody tr th {\n",
       "        vertical-align: top;\n",
       "    }\n",
       "\n",
       "    .dataframe thead th {\n",
       "        text-align: right;\n",
       "    }\n",
       "</style>\n",
       "<table border=\"1\" class=\"dataframe\">\n",
       "  <thead>\n",
       "    <tr style=\"text-align: right;\">\n",
       "      <th></th>\n",
       "      <th>dataset</th>\n",
       "      <th>set</th>\n",
       "      <th>subject_id</th>\n",
       "    </tr>\n",
       "  </thead>\n",
       "  <tbody>\n",
       "    <tr>\n",
       "      <th>0</th>\n",
       "      <td>source</td>\n",
       "      <td>test</td>\n",
       "      <td>28</td>\n",
       "    </tr>\n",
       "    <tr>\n",
       "      <th>1</th>\n",
       "      <td>source</td>\n",
       "      <td>train</td>\n",
       "      <td>128</td>\n",
       "    </tr>\n",
       "    <tr>\n",
       "      <th>2</th>\n",
       "      <td>source</td>\n",
       "      <td>validation</td>\n",
       "      <td>28</td>\n",
       "    </tr>\n",
       "    <tr>\n",
       "      <th>3</th>\n",
       "      <td>target</td>\n",
       "      <td>test</td>\n",
       "      <td>15</td>\n",
       "    </tr>\n",
       "    <tr>\n",
       "      <th>4</th>\n",
       "      <td>target</td>\n",
       "      <td>train</td>\n",
       "      <td>50</td>\n",
       "    </tr>\n",
       "    <tr>\n",
       "      <th>5</th>\n",
       "      <td>target</td>\n",
       "      <td>validation</td>\n",
       "      <td>7</td>\n",
       "    </tr>\n",
       "  </tbody>\n",
       "</table>\n",
       "</div>"
      ],
      "text/plain": [
       "  dataset         set  subject_id\n",
       "0  source        test          28\n",
       "1  source       train         128\n",
       "2  source  validation          28\n",
       "3  target        test          15\n",
       "4  target       train          50\n",
       "5  target  validation           7"
      ]
     },
     "execution_count": 20,
     "metadata": {},
     "output_type": "execute_result"
    }
   ],
   "source": [
    "df.groupby(['dataset', 'set']).subject_id.nunique().reset_index()"
   ]
  },
  {
   "cell_type": "code",
   "execution_count": 21,
   "metadata": {},
   "outputs": [
    {
     "data": {
      "text/html": [
       "<div>\n",
       "<style scoped>\n",
       "    .dataframe tbody tr th:only-of-type {\n",
       "        vertical-align: middle;\n",
       "    }\n",
       "\n",
       "    .dataframe tbody tr th {\n",
       "        vertical-align: top;\n",
       "    }\n",
       "\n",
       "    .dataframe thead th {\n",
       "        text-align: right;\n",
       "    }\n",
       "</style>\n",
       "<table border=\"1\" class=\"dataframe\">\n",
       "  <thead>\n",
       "    <tr style=\"text-align: right;\">\n",
       "      <th></th>\n",
       "      <th>subject_id</th>\n",
       "      <th>dataset</th>\n",
       "      <th>set</th>\n",
       "    </tr>\n",
       "  </thead>\n",
       "  <tbody>\n",
       "    <tr>\n",
       "      <th>0</th>\n",
       "      <td>MDA-039</td>\n",
       "      <td>source</td>\n",
       "      <td>train</td>\n",
       "    </tr>\n",
       "    <tr>\n",
       "      <th>1</th>\n",
       "      <td>MDA-192</td>\n",
       "      <td>source</td>\n",
       "      <td>train</td>\n",
       "    </tr>\n",
       "    <tr>\n",
       "      <th>2</th>\n",
       "      <td>MDA-187</td>\n",
       "      <td>source</td>\n",
       "      <td>train</td>\n",
       "    </tr>\n",
       "    <tr>\n",
       "      <th>3</th>\n",
       "      <td>MDA-179</td>\n",
       "      <td>source</td>\n",
       "      <td>train</td>\n",
       "    </tr>\n",
       "    <tr>\n",
       "      <th>4</th>\n",
       "      <td>MDA-162</td>\n",
       "      <td>source</td>\n",
       "      <td>train</td>\n",
       "    </tr>\n",
       "  </tbody>\n",
       "</table>\n",
       "</div>"
      ],
      "text/plain": [
       "  subject_id dataset    set\n",
       "0    MDA-039  source  train\n",
       "1    MDA-192  source  train\n",
       "2    MDA-187  source  train\n",
       "3    MDA-179  source  train\n",
       "4    MDA-162  source  train"
      ]
     },
     "execution_count": 21,
     "metadata": {},
     "output_type": "execute_result"
    }
   ],
   "source": [
    "# remove duplicates\n",
    "df = df[df.duplicated() == False].reset_index(drop=True)\n",
    "df.head()\n"
   ]
  },
  {
   "cell_type": "code",
   "execution_count": 22,
   "metadata": {},
   "outputs": [],
   "source": [
    "df_dims = df.copy()"
   ]
  },
  {
   "cell_type": "markdown",
   "metadata": {},
   "source": [
    "create a df to show the sizes of each image and their labels for analysis"
   ]
  },
  {
   "cell_type": "code",
   "execution_count": 34,
   "metadata": {},
   "outputs": [
    {
     "name": "stdout",
     "output_type": "stream",
     "text": [
      "Round 0: 0.00% completed\n",
      "Round 10: 3.91% completed\n",
      "Round 20: 7.81% completed\n",
      "Round 30: 11.72% completed\n",
      "Round 40: 15.62% completed\n",
      "Round 50: 19.53% completed\n",
      "Round 60: 23.44% completed\n",
      "Round 70: 27.34% completed\n",
      "Round 80: 31.25% completed\n",
      "Round 90: 35.16% completed\n",
      "Round 100: 39.06% completed\n",
      "Round 110: 42.97% completed\n",
      "Round 120: 46.88% completed\n",
      "Round 130: 50.78% completed\n",
      "Round 140: 54.69% completed\n",
      "Round 150: 58.59% completed\n",
      "Round 160: 62.50% completed\n",
      "Round 170: 66.41% completed\n",
      "Round 180: 70.31% completed\n",
      "Round 190: 74.22% completed\n",
      "Round 200: 78.12% completed\n",
      "Round 210: 82.03% completed\n",
      "Round 220: 85.94% completed\n",
      "Round 230: 89.84% completed\n",
      "Round 240: 93.75% completed\n",
      "Round 250: 97.66% completed\n"
     ]
    },
    {
     "data": {
      "text/html": [
       "<div>\n",
       "<style scoped>\n",
       "    .dataframe tbody tr th:only-of-type {\n",
       "        vertical-align: middle;\n",
       "    }\n",
       "\n",
       "    .dataframe tbody tr th {\n",
       "        vertical-align: top;\n",
       "    }\n",
       "\n",
       "    .dataframe thead th {\n",
       "        text-align: right;\n",
       "    }\n",
       "</style>\n",
       "<table border=\"1\" class=\"dataframe\">\n",
       "  <thead>\n",
       "    <tr style=\"text-align: right;\">\n",
       "      <th></th>\n",
       "      <th>subject_id</th>\n",
       "      <th>dataset</th>\n",
       "      <th>set</th>\n",
       "      <th>ct_dim_x</th>\n",
       "      <th>ct_dim_y</th>\n",
       "      <th>ct_dim_z</th>\n",
       "      <th>ct_pixdim_x</th>\n",
       "      <th>ct_pixdim_y</th>\n",
       "      <th>ct_pixdim_z</th>\n",
       "      <th>pt_dim_x</th>\n",
       "      <th>...</th>\n",
       "      <th>pt_dim_z</th>\n",
       "      <th>pt_pixdim_x</th>\n",
       "      <th>pt_pixdim_y</th>\n",
       "      <th>pt_pixdim_z</th>\n",
       "      <th>lbl_dim_x</th>\n",
       "      <th>lbl_dim_y</th>\n",
       "      <th>lbl_dim_z</th>\n",
       "      <th>lbl_pixdim_x</th>\n",
       "      <th>lbl_pixdim_y</th>\n",
       "      <th>lbl_pixdim_z</th>\n",
       "    </tr>\n",
       "  </thead>\n",
       "  <tbody>\n",
       "    <tr>\n",
       "      <th>0</th>\n",
       "      <td>MDA-039</td>\n",
       "      <td>source</td>\n",
       "      <td>train</td>\n",
       "      <td>512.0</td>\n",
       "      <td>512.0</td>\n",
       "      <td>127.0</td>\n",
       "      <td>0.976562</td>\n",
       "      <td>0.976562</td>\n",
       "      <td>3.27</td>\n",
       "      <td>128.0</td>\n",
       "      <td>...</td>\n",
       "      <td>127.0</td>\n",
       "      <td>5.46875</td>\n",
       "      <td>5.46875</td>\n",
       "      <td>3.27</td>\n",
       "      <td>512.0</td>\n",
       "      <td>512.0</td>\n",
       "      <td>127.0</td>\n",
       "      <td>0.976562</td>\n",
       "      <td>0.976562</td>\n",
       "      <td>3.27</td>\n",
       "    </tr>\n",
       "    <tr>\n",
       "      <th>1</th>\n",
       "      <td>MDA-192</td>\n",
       "      <td>source</td>\n",
       "      <td>train</td>\n",
       "      <td>512.0</td>\n",
       "      <td>512.0</td>\n",
       "      <td>127.0</td>\n",
       "      <td>0.976562</td>\n",
       "      <td>0.976562</td>\n",
       "      <td>3.27</td>\n",
       "      <td>128.0</td>\n",
       "      <td>...</td>\n",
       "      <td>127.0</td>\n",
       "      <td>5.46875</td>\n",
       "      <td>5.46875</td>\n",
       "      <td>3.27</td>\n",
       "      <td>512.0</td>\n",
       "      <td>512.0</td>\n",
       "      <td>127.0</td>\n",
       "      <td>0.976562</td>\n",
       "      <td>0.976562</td>\n",
       "      <td>3.27</td>\n",
       "    </tr>\n",
       "    <tr>\n",
       "      <th>2</th>\n",
       "      <td>MDA-187</td>\n",
       "      <td>source</td>\n",
       "      <td>train</td>\n",
       "      <td>512.0</td>\n",
       "      <td>512.0</td>\n",
       "      <td>127.0</td>\n",
       "      <td>0.976562</td>\n",
       "      <td>0.976562</td>\n",
       "      <td>3.27</td>\n",
       "      <td>128.0</td>\n",
       "      <td>...</td>\n",
       "      <td>127.0</td>\n",
       "      <td>5.46875</td>\n",
       "      <td>5.46875</td>\n",
       "      <td>3.27</td>\n",
       "      <td>512.0</td>\n",
       "      <td>512.0</td>\n",
       "      <td>127.0</td>\n",
       "      <td>0.976562</td>\n",
       "      <td>0.976562</td>\n",
       "      <td>3.27</td>\n",
       "    </tr>\n",
       "    <tr>\n",
       "      <th>3</th>\n",
       "      <td>MDA-179</td>\n",
       "      <td>source</td>\n",
       "      <td>train</td>\n",
       "      <td>512.0</td>\n",
       "      <td>512.0</td>\n",
       "      <td>127.0</td>\n",
       "      <td>0.976562</td>\n",
       "      <td>0.976562</td>\n",
       "      <td>3.27</td>\n",
       "      <td>128.0</td>\n",
       "      <td>...</td>\n",
       "      <td>127.0</td>\n",
       "      <td>5.46875</td>\n",
       "      <td>5.46875</td>\n",
       "      <td>3.27</td>\n",
       "      <td>512.0</td>\n",
       "      <td>512.0</td>\n",
       "      <td>127.0</td>\n",
       "      <td>0.976562</td>\n",
       "      <td>0.976562</td>\n",
       "      <td>3.27</td>\n",
       "    </tr>\n",
       "    <tr>\n",
       "      <th>4</th>\n",
       "      <td>MDA-162</td>\n",
       "      <td>source</td>\n",
       "      <td>train</td>\n",
       "      <td>512.0</td>\n",
       "      <td>512.0</td>\n",
       "      <td>87.0</td>\n",
       "      <td>0.976562</td>\n",
       "      <td>0.976562</td>\n",
       "      <td>3.27</td>\n",
       "      <td>128.0</td>\n",
       "      <td>...</td>\n",
       "      <td>87.0</td>\n",
       "      <td>5.46875</td>\n",
       "      <td>5.46875</td>\n",
       "      <td>3.27</td>\n",
       "      <td>512.0</td>\n",
       "      <td>512.0</td>\n",
       "      <td>87.0</td>\n",
       "      <td>0.976562</td>\n",
       "      <td>0.976562</td>\n",
       "      <td>3.27</td>\n",
       "    </tr>\n",
       "  </tbody>\n",
       "</table>\n",
       "<p>5 rows × 21 columns</p>\n",
       "</div>"
      ],
      "text/plain": [
       "  subject_id dataset    set  ct_dim_x  ct_dim_y  ct_dim_z  ct_pixdim_x  \\\n",
       "0    MDA-039  source  train     512.0     512.0     127.0     0.976562   \n",
       "1    MDA-192  source  train     512.0     512.0     127.0     0.976562   \n",
       "2    MDA-187  source  train     512.0     512.0     127.0     0.976562   \n",
       "3    MDA-179  source  train     512.0     512.0     127.0     0.976562   \n",
       "4    MDA-162  source  train     512.0     512.0      87.0     0.976562   \n",
       "\n",
       "   ct_pixdim_y  ct_pixdim_z  pt_dim_x  ...  pt_dim_z  pt_pixdim_x  \\\n",
       "0     0.976562         3.27     128.0  ...     127.0      5.46875   \n",
       "1     0.976562         3.27     128.0  ...     127.0      5.46875   \n",
       "2     0.976562         3.27     128.0  ...     127.0      5.46875   \n",
       "3     0.976562         3.27     128.0  ...     127.0      5.46875   \n",
       "4     0.976562         3.27     128.0  ...      87.0      5.46875   \n",
       "\n",
       "   pt_pixdim_y  pt_pixdim_z  lbl_dim_x  lbl_dim_y  lbl_dim_z  lbl_pixdim_x  \\\n",
       "0      5.46875         3.27      512.0      512.0      127.0      0.976562   \n",
       "1      5.46875         3.27      512.0      512.0      127.0      0.976562   \n",
       "2      5.46875         3.27      512.0      512.0      127.0      0.976562   \n",
       "3      5.46875         3.27      512.0      512.0      127.0      0.976562   \n",
       "4      5.46875         3.27      512.0      512.0       87.0      0.976562   \n",
       "\n",
       "   lbl_pixdim_y  lbl_pixdim_z  \n",
       "0      0.976562          3.27  \n",
       "1      0.976562          3.27  \n",
       "2      0.976562          3.27  \n",
       "3      0.976562          3.27  \n",
       "4      0.976562          3.27  \n",
       "\n",
       "[5 rows x 21 columns]"
      ]
     },
     "execution_count": 34,
     "metadata": {},
     "output_type": "execute_result"
    }
   ],
   "source": [
    "# extract voxel size for the image\n",
    "for i, sid in enumerate(df_dims['subject_id']):\n",
    "#sid = 'MDA-179'\n",
    "    img_path = os.path.join(input_image_folder, sid+'__CT.nii.gz')\n",
    "    pt_path = os.path.join(input_image_folder, sid+'__PT.nii.gz')\n",
    "    lbl_path = os.path.join(input_label_folder, sid+'.nii.gz')\n",
    "\n",
    "    x = nib.load(img_path)\n",
    "    x1 = nib.load(pt_path)\n",
    "    x2 = nib.load(lbl_path)\n",
    "\n",
    "    # get CT image data\n",
    "    pixdim_x, pixdim_y, pixdim_z = x.header['pixdim'][1], x.header['pixdim'][2], x.header['pixdim'][3]\n",
    "    dim_x, dim_y, dim_z = x.header['dim'][1], x.header['dim'][2], x.header['dim'][3]\n",
    "    # save image dimensions\n",
    "    df_dims.loc[df_dims['subject_id'] == sid, 'ct_dim_x'] = dim_x\n",
    "    df_dims.loc[df_dims['subject_id'] == sid, 'ct_dim_y'] = dim_y\n",
    "    df_dims.loc[df_dims['subject_id'] == sid, 'ct_dim_z'] = dim_z\n",
    "    # save vovel dimensions\n",
    "    df_dims.loc[df_dims['subject_id'] == sid, 'ct_pixdim_x'] = pixdim_x\n",
    "    df_dims.loc[df_dims['subject_id'] == sid, 'ct_pixdim_y'] = pixdim_y\n",
    "    df_dims.loc[df_dims['subject_id'] == sid, 'ct_pixdim_z'] = pixdim_z\n",
    "\n",
    "    # Get Pet image dimenstion\n",
    "    pixdim_x1, pixdim_y1, pixdim_z1 = x1.header['pixdim'][1], x1.header['pixdim'][2], x1.header['pixdim'][3]\n",
    "    dim_x1, dim_y1, dim_z1 = x1.header['dim'][1], x1.header['dim'][2], x1.header['dim'][3]\n",
    "    # save image dimensions\n",
    "    df_dims.loc[df_dims['subject_id'] == sid, 'pt_dim_x'] = dim_x1\n",
    "    df_dims.loc[df_dims['subject_id'] == sid, 'pt_dim_y'] = dim_y1\n",
    "    df_dims.loc[df_dims['subject_id'] == sid, 'pt_dim_z'] = dim_z1\n",
    "    # save vovel dimensions\n",
    "    df_dims.loc[df_dims['subject_id'] == sid, 'pt_pixdim_x'] = pixdim_x1\n",
    "    df_dims.loc[df_dims['subject_id'] == sid, 'pt_pixdim_y'] = pixdim_y1\n",
    "    df_dims.loc[df_dims['subject_id'] == sid, 'pt_pixdim_z'] = pixdim_z1\n",
    "\n",
    "    # Get Label image dimenstion\n",
    "    pixdim_x2, pixdim_y2, pixdim_z2 = x2.header['pixdim'][1], x2.header['pixdim'][2], x2.header['pixdim'][3]\n",
    "    dim_x2, dim_y2, dim_z2 = x2.header['dim'][1], x2.header['dim'][2], x2.header['dim'][3]\n",
    "    # save image dimensions\n",
    "    df_dims.loc[df_dims['subject_id'] == sid, 'lbl_dim_x'] = dim_x2\n",
    "    df_dims.loc[df_dims['subject_id'] == sid, 'lbl_dim_y'] = dim_y2\n",
    "    df_dims.loc[df_dims['subject_id'] == sid, 'lbl_dim_z'] = dim_z2\n",
    "    # save vovel dimensions\n",
    "    df_dims.loc[df_dims['subject_id'] == sid, 'lbl_pixdim_x'] = pixdim_x2\n",
    "    df_dims.loc[df_dims['subject_id'] == sid, 'lbl_pixdim_y'] = pixdim_y2\n",
    "    df_dims.loc[df_dims['subject_id'] == sid, 'lbl_pixdim_z'] = pixdim_z2\n",
    "\n",
    "    # print counter \n",
    "    if i % 10 == 0:\n",
    "        percentage = (i / len(df_dims['subject_id'])) * 100\n",
    "        print(f'Round {i}: {percentage:.2f}% completed')\n",
    "\n",
    "df_dims.head()\n"
   ]
  },
  {
   "cell_type": "code",
   "execution_count": 44,
   "metadata": {},
   "outputs": [
    {
     "name": "stdout",
     "output_type": "stream",
     "text": [
      "Number of rows with inconsistent dimensions: 256\n",
      "0       MDA-039\n",
      "1       MDA-192\n",
      "2       MDA-187\n",
      "3       MDA-179\n",
      "4       MDA-162\n",
      "         ...   \n",
      "251    CHUP-027\n",
      "252    CHUP-030\n",
      "253    CHUP-038\n",
      "254    CHUP-052\n",
      "255    CHUP-061\n",
      "Name: subject_id, Length: 256, dtype: object\n"
     ]
    }
   ],
   "source": [
    "dim_cols = [\n",
    "    'ct_dim_x', 'ct_dim_y',\n",
    "    'pt_dim_x', 'pt_dim_y', \n",
    "    'lbl_dim_x', 'lbl_dim_y',\n",
    "]\n",
    "\n",
    "# Check if all rows have the same values across the selected columns\n",
    "same_dims = df_dims[dim_cols].nunique(axis=1) == 1\n",
    "\n",
    "# Output rows where dimensions are not the same (False means the dimensions vary in those rows)\n",
    "inconsistent_rows = df_dims[~same_dims]\n",
    "\n",
    "# Print the number of inconsistent rows and inspect them\n",
    "print(f\"Number of rows with inconsistent dimensions: {len(inconsistent_rows)}\")\n",
    "print(inconsistent_rows['subject_id'])\n"
   ]
  },
  {
   "cell_type": "code",
   "execution_count": 48,
   "metadata": {},
   "outputs": [
    {
     "data": {
      "text/html": [
       "<div>\n",
       "<style scoped>\n",
       "    .dataframe tbody tr th:only-of-type {\n",
       "        vertical-align: middle;\n",
       "    }\n",
       "\n",
       "    .dataframe tbody tr th {\n",
       "        vertical-align: top;\n",
       "    }\n",
       "\n",
       "    .dataframe thead th {\n",
       "        text-align: right;\n",
       "    }\n",
       "</style>\n",
       "<table border=\"1\" class=\"dataframe\">\n",
       "  <thead>\n",
       "    <tr style=\"text-align: right;\">\n",
       "      <th></th>\n",
       "      <th>subject_id</th>\n",
       "      <th>dataset</th>\n",
       "      <th>set</th>\n",
       "      <th>ct_dim_x</th>\n",
       "      <th>ct_dim_y</th>\n",
       "      <th>ct_dim_z</th>\n",
       "      <th>ct_pixdim_x</th>\n",
       "      <th>ct_pixdim_y</th>\n",
       "      <th>ct_pixdim_z</th>\n",
       "      <th>pt_dim_x</th>\n",
       "      <th>...</th>\n",
       "      <th>pt_dim_z</th>\n",
       "      <th>pt_pixdim_x</th>\n",
       "      <th>pt_pixdim_y</th>\n",
       "      <th>pt_pixdim_z</th>\n",
       "      <th>lbl_dim_x</th>\n",
       "      <th>lbl_dim_y</th>\n",
       "      <th>lbl_dim_z</th>\n",
       "      <th>lbl_pixdim_x</th>\n",
       "      <th>lbl_pixdim_y</th>\n",
       "      <th>lbl_pixdim_z</th>\n",
       "    </tr>\n",
       "  </thead>\n",
       "  <tbody>\n",
       "    <tr>\n",
       "      <th>13</th>\n",
       "      <td>MDA-113</td>\n",
       "      <td>source</td>\n",
       "      <td>train</td>\n",
       "      <td>512.0</td>\n",
       "      <td>512.0</td>\n",
       "      <td>134.0</td>\n",
       "      <td>0.976562</td>\n",
       "      <td>0.976562</td>\n",
       "      <td>2.80</td>\n",
       "      <td>256.0</td>\n",
       "      <td>...</td>\n",
       "      <td>134.0</td>\n",
       "      <td>2.734375</td>\n",
       "      <td>2.734375</td>\n",
       "      <td>2.800</td>\n",
       "      <td>512.0</td>\n",
       "      <td>512.0</td>\n",
       "      <td>134.0</td>\n",
       "      <td>0.976562</td>\n",
       "      <td>0.976562</td>\n",
       "      <td>2.80</td>\n",
       "    </tr>\n",
       "    <tr>\n",
       "      <th>21</th>\n",
       "      <td>MDA-120</td>\n",
       "      <td>source</td>\n",
       "      <td>train</td>\n",
       "      <td>512.0</td>\n",
       "      <td>512.0</td>\n",
       "      <td>407.0</td>\n",
       "      <td>0.976562</td>\n",
       "      <td>0.976562</td>\n",
       "      <td>3.27</td>\n",
       "      <td>192.0</td>\n",
       "      <td>...</td>\n",
       "      <td>407.0</td>\n",
       "      <td>3.645833</td>\n",
       "      <td>3.645833</td>\n",
       "      <td>3.270</td>\n",
       "      <td>512.0</td>\n",
       "      <td>512.0</td>\n",
       "      <td>408.0</td>\n",
       "      <td>0.976562</td>\n",
       "      <td>0.976562</td>\n",
       "      <td>3.27</td>\n",
       "    </tr>\n",
       "    <tr>\n",
       "      <th>39</th>\n",
       "      <td>MDA-114</td>\n",
       "      <td>source</td>\n",
       "      <td>train</td>\n",
       "      <td>512.0</td>\n",
       "      <td>512.0</td>\n",
       "      <td>119.0</td>\n",
       "      <td>0.976562</td>\n",
       "      <td>0.976562</td>\n",
       "      <td>3.27</td>\n",
       "      <td>192.0</td>\n",
       "      <td>...</td>\n",
       "      <td>119.0</td>\n",
       "      <td>3.645833</td>\n",
       "      <td>3.645833</td>\n",
       "      <td>3.270</td>\n",
       "      <td>512.0</td>\n",
       "      <td>512.0</td>\n",
       "      <td>119.0</td>\n",
       "      <td>0.976562</td>\n",
       "      <td>0.976562</td>\n",
       "      <td>3.27</td>\n",
       "    </tr>\n",
       "    <tr>\n",
       "      <th>51</th>\n",
       "      <td>MDA-112</td>\n",
       "      <td>source</td>\n",
       "      <td>train</td>\n",
       "      <td>512.0</td>\n",
       "      <td>512.0</td>\n",
       "      <td>119.0</td>\n",
       "      <td>0.976562</td>\n",
       "      <td>0.976562</td>\n",
       "      <td>3.27</td>\n",
       "      <td>256.0</td>\n",
       "      <td>...</td>\n",
       "      <td>119.0</td>\n",
       "      <td>2.734375</td>\n",
       "      <td>2.734375</td>\n",
       "      <td>3.270</td>\n",
       "      <td>512.0</td>\n",
       "      <td>512.0</td>\n",
       "      <td>119.0</td>\n",
       "      <td>0.976562</td>\n",
       "      <td>0.976562</td>\n",
       "      <td>3.27</td>\n",
       "    </tr>\n",
       "    <tr>\n",
       "      <th>53</th>\n",
       "      <td>MDA-117</td>\n",
       "      <td>source</td>\n",
       "      <td>train</td>\n",
       "      <td>512.0</td>\n",
       "      <td>512.0</td>\n",
       "      <td>335.0</td>\n",
       "      <td>0.976562</td>\n",
       "      <td>0.976562</td>\n",
       "      <td>3.27</td>\n",
       "      <td>192.0</td>\n",
       "      <td>...</td>\n",
       "      <td>335.0</td>\n",
       "      <td>3.645833</td>\n",
       "      <td>3.645833</td>\n",
       "      <td>3.270</td>\n",
       "      <td>512.0</td>\n",
       "      <td>512.0</td>\n",
       "      <td>335.0</td>\n",
       "      <td>0.976562</td>\n",
       "      <td>0.976562</td>\n",
       "      <td>3.27</td>\n",
       "    </tr>\n",
       "    <tr>\n",
       "      <th>...</th>\n",
       "      <td>...</td>\n",
       "      <td>...</td>\n",
       "      <td>...</td>\n",
       "      <td>...</td>\n",
       "      <td>...</td>\n",
       "      <td>...</td>\n",
       "      <td>...</td>\n",
       "      <td>...</td>\n",
       "      <td>...</td>\n",
       "      <td>...</td>\n",
       "      <td>...</td>\n",
       "      <td>...</td>\n",
       "      <td>...</td>\n",
       "      <td>...</td>\n",
       "      <td>...</td>\n",
       "      <td>...</td>\n",
       "      <td>...</td>\n",
       "      <td>...</td>\n",
       "      <td>...</td>\n",
       "      <td>...</td>\n",
       "      <td>...</td>\n",
       "    </tr>\n",
       "    <tr>\n",
       "      <th>251</th>\n",
       "      <td>CHUP-027</td>\n",
       "      <td>target</td>\n",
       "      <td>validation</td>\n",
       "      <td>512.0</td>\n",
       "      <td>512.0</td>\n",
       "      <td>736.0</td>\n",
       "      <td>0.976562</td>\n",
       "      <td>0.976562</td>\n",
       "      <td>1.50</td>\n",
       "      <td>200.0</td>\n",
       "      <td>...</td>\n",
       "      <td>543.0</td>\n",
       "      <td>4.072830</td>\n",
       "      <td>4.072830</td>\n",
       "      <td>2.027</td>\n",
       "      <td>512.0</td>\n",
       "      <td>512.0</td>\n",
       "      <td>736.0</td>\n",
       "      <td>0.976562</td>\n",
       "      <td>0.976562</td>\n",
       "      <td>1.50</td>\n",
       "    </tr>\n",
       "    <tr>\n",
       "      <th>252</th>\n",
       "      <td>CHUP-030</td>\n",
       "      <td>target</td>\n",
       "      <td>validation</td>\n",
       "      <td>512.0</td>\n",
       "      <td>512.0</td>\n",
       "      <td>736.0</td>\n",
       "      <td>0.976562</td>\n",
       "      <td>0.976562</td>\n",
       "      <td>1.50</td>\n",
       "      <td>200.0</td>\n",
       "      <td>...</td>\n",
       "      <td>543.0</td>\n",
       "      <td>4.072830</td>\n",
       "      <td>4.072830</td>\n",
       "      <td>2.027</td>\n",
       "      <td>512.0</td>\n",
       "      <td>512.0</td>\n",
       "      <td>736.0</td>\n",
       "      <td>0.976562</td>\n",
       "      <td>0.976562</td>\n",
       "      <td>1.50</td>\n",
       "    </tr>\n",
       "    <tr>\n",
       "      <th>253</th>\n",
       "      <td>CHUP-038</td>\n",
       "      <td>target</td>\n",
       "      <td>validation</td>\n",
       "      <td>512.0</td>\n",
       "      <td>512.0</td>\n",
       "      <td>568.0</td>\n",
       "      <td>0.976562</td>\n",
       "      <td>0.976562</td>\n",
       "      <td>1.50</td>\n",
       "      <td>200.0</td>\n",
       "      <td>...</td>\n",
       "      <td>419.0</td>\n",
       "      <td>4.072830</td>\n",
       "      <td>4.072830</td>\n",
       "      <td>2.027</td>\n",
       "      <td>512.0</td>\n",
       "      <td>512.0</td>\n",
       "      <td>568.0</td>\n",
       "      <td>0.976562</td>\n",
       "      <td>0.976562</td>\n",
       "      <td>1.50</td>\n",
       "    </tr>\n",
       "    <tr>\n",
       "      <th>254</th>\n",
       "      <td>CHUP-052</td>\n",
       "      <td>target</td>\n",
       "      <td>validation</td>\n",
       "      <td>512.0</td>\n",
       "      <td>512.0</td>\n",
       "      <td>568.0</td>\n",
       "      <td>0.976562</td>\n",
       "      <td>0.976562</td>\n",
       "      <td>1.50</td>\n",
       "      <td>200.0</td>\n",
       "      <td>...</td>\n",
       "      <td>419.0</td>\n",
       "      <td>4.072830</td>\n",
       "      <td>4.072830</td>\n",
       "      <td>2.027</td>\n",
       "      <td>512.0</td>\n",
       "      <td>512.0</td>\n",
       "      <td>568.0</td>\n",
       "      <td>0.976562</td>\n",
       "      <td>0.976562</td>\n",
       "      <td>1.50</td>\n",
       "    </tr>\n",
       "    <tr>\n",
       "      <th>255</th>\n",
       "      <td>CHUP-061</td>\n",
       "      <td>target</td>\n",
       "      <td>validation</td>\n",
       "      <td>512.0</td>\n",
       "      <td>512.0</td>\n",
       "      <td>652.0</td>\n",
       "      <td>0.976562</td>\n",
       "      <td>0.976562</td>\n",
       "      <td>1.50</td>\n",
       "      <td>200.0</td>\n",
       "      <td>...</td>\n",
       "      <td>481.0</td>\n",
       "      <td>4.072830</td>\n",
       "      <td>4.072830</td>\n",
       "      <td>2.027</td>\n",
       "      <td>512.0</td>\n",
       "      <td>512.0</td>\n",
       "      <td>652.0</td>\n",
       "      <td>0.976562</td>\n",
       "      <td>0.976562</td>\n",
       "      <td>1.50</td>\n",
       "    </tr>\n",
       "  </tbody>\n",
       "</table>\n",
       "<p>93 rows × 21 columns</p>\n",
       "</div>"
      ],
      "text/plain": [
       "    subject_id dataset         set  ct_dim_x  ct_dim_y  ct_dim_z  ct_pixdim_x  \\\n",
       "13     MDA-113  source       train     512.0     512.0     134.0     0.976562   \n",
       "21     MDA-120  source       train     512.0     512.0     407.0     0.976562   \n",
       "39     MDA-114  source       train     512.0     512.0     119.0     0.976562   \n",
       "51     MDA-112  source       train     512.0     512.0     119.0     0.976562   \n",
       "53     MDA-117  source       train     512.0     512.0     335.0     0.976562   \n",
       "..         ...     ...         ...       ...       ...       ...          ...   \n",
       "251   CHUP-027  target  validation     512.0     512.0     736.0     0.976562   \n",
       "252   CHUP-030  target  validation     512.0     512.0     736.0     0.976562   \n",
       "253   CHUP-038  target  validation     512.0     512.0     568.0     0.976562   \n",
       "254   CHUP-052  target  validation     512.0     512.0     568.0     0.976562   \n",
       "255   CHUP-061  target  validation     512.0     512.0     652.0     0.976562   \n",
       "\n",
       "     ct_pixdim_y  ct_pixdim_z  pt_dim_x  ...  pt_dim_z  pt_pixdim_x  \\\n",
       "13      0.976562         2.80     256.0  ...     134.0     2.734375   \n",
       "21      0.976562         3.27     192.0  ...     407.0     3.645833   \n",
       "39      0.976562         3.27     192.0  ...     119.0     3.645833   \n",
       "51      0.976562         3.27     256.0  ...     119.0     2.734375   \n",
       "53      0.976562         3.27     192.0  ...     335.0     3.645833   \n",
       "..           ...          ...       ...  ...       ...          ...   \n",
       "251     0.976562         1.50     200.0  ...     543.0     4.072830   \n",
       "252     0.976562         1.50     200.0  ...     543.0     4.072830   \n",
       "253     0.976562         1.50     200.0  ...     419.0     4.072830   \n",
       "254     0.976562         1.50     200.0  ...     419.0     4.072830   \n",
       "255     0.976562         1.50     200.0  ...     481.0     4.072830   \n",
       "\n",
       "     pt_pixdim_y  pt_pixdim_z  lbl_dim_x  lbl_dim_y  lbl_dim_z  lbl_pixdim_x  \\\n",
       "13      2.734375        2.800      512.0      512.0      134.0      0.976562   \n",
       "21      3.645833        3.270      512.0      512.0      408.0      0.976562   \n",
       "39      3.645833        3.270      512.0      512.0      119.0      0.976562   \n",
       "51      2.734375        3.270      512.0      512.0      119.0      0.976562   \n",
       "53      3.645833        3.270      512.0      512.0      335.0      0.976562   \n",
       "..           ...          ...        ...        ...        ...           ...   \n",
       "251     4.072830        2.027      512.0      512.0      736.0      0.976562   \n",
       "252     4.072830        2.027      512.0      512.0      736.0      0.976562   \n",
       "253     4.072830        2.027      512.0      512.0      568.0      0.976562   \n",
       "254     4.072830        2.027      512.0      512.0      568.0      0.976562   \n",
       "255     4.072830        2.027      512.0      512.0      652.0      0.976562   \n",
       "\n",
       "     lbl_pixdim_y  lbl_pixdim_z  \n",
       "13       0.976562          2.80  \n",
       "21       0.976562          3.27  \n",
       "39       0.976562          3.27  \n",
       "51       0.976562          3.27  \n",
       "53       0.976562          3.27  \n",
       "..            ...           ...  \n",
       "251      0.976562          1.50  \n",
       "252      0.976562          1.50  \n",
       "253      0.976562          1.50  \n",
       "254      0.976562          1.50  \n",
       "255      0.976562          1.50  \n",
       "\n",
       "[93 rows x 21 columns]"
      ]
     },
     "execution_count": 48,
     "metadata": {},
     "output_type": "execute_result"
    }
   ],
   "source": [
    "# find which pet iimages are not 128\n",
    "\n",
    "df_dims[df_dims['pt_dim_x'] != 128]\n"
   ]
  },
  {
   "cell_type": "code",
   "execution_count": 49,
   "metadata": {},
   "outputs": [
    {
     "data": {
      "text/html": [
       "<div>\n",
       "<style scoped>\n",
       "    .dataframe tbody tr th:only-of-type {\n",
       "        vertical-align: middle;\n",
       "    }\n",
       "\n",
       "    .dataframe tbody tr th {\n",
       "        vertical-align: top;\n",
       "    }\n",
       "\n",
       "    .dataframe thead th {\n",
       "        text-align: right;\n",
       "    }\n",
       "</style>\n",
       "<table border=\"1\" class=\"dataframe\">\n",
       "  <thead>\n",
       "    <tr style=\"text-align: right;\">\n",
       "      <th></th>\n",
       "      <th>subject_id</th>\n",
       "      <th>dataset</th>\n",
       "      <th>set</th>\n",
       "      <th>ct_dim_x</th>\n",
       "      <th>ct_dim_y</th>\n",
       "      <th>ct_dim_z</th>\n",
       "      <th>ct_pixdim_x</th>\n",
       "      <th>ct_pixdim_y</th>\n",
       "      <th>ct_pixdim_z</th>\n",
       "      <th>pt_dim_x</th>\n",
       "      <th>...</th>\n",
       "      <th>pt_dim_z</th>\n",
       "      <th>pt_pixdim_x</th>\n",
       "      <th>pt_pixdim_y</th>\n",
       "      <th>pt_pixdim_z</th>\n",
       "      <th>lbl_dim_x</th>\n",
       "      <th>lbl_dim_y</th>\n",
       "      <th>lbl_dim_z</th>\n",
       "      <th>lbl_pixdim_x</th>\n",
       "      <th>lbl_pixdim_y</th>\n",
       "      <th>lbl_pixdim_z</th>\n",
       "    </tr>\n",
       "  </thead>\n",
       "  <tbody>\n",
       "    <tr>\n",
       "      <th>252</th>\n",
       "      <td>CHUP-030</td>\n",
       "      <td>target</td>\n",
       "      <td>validation</td>\n",
       "      <td>512.0</td>\n",
       "      <td>512.0</td>\n",
       "      <td>736.0</td>\n",
       "      <td>0.976562</td>\n",
       "      <td>0.976562</td>\n",
       "      <td>1.5</td>\n",
       "      <td>200.0</td>\n",
       "      <td>...</td>\n",
       "      <td>543.0</td>\n",
       "      <td>4.07283</td>\n",
       "      <td>4.07283</td>\n",
       "      <td>2.027</td>\n",
       "      <td>512.0</td>\n",
       "      <td>512.0</td>\n",
       "      <td>736.0</td>\n",
       "      <td>0.976562</td>\n",
       "      <td>0.976562</td>\n",
       "      <td>1.5</td>\n",
       "    </tr>\n",
       "  </tbody>\n",
       "</table>\n",
       "<p>1 rows × 21 columns</p>\n",
       "</div>"
      ],
      "text/plain": [
       "    subject_id dataset         set  ct_dim_x  ct_dim_y  ct_dim_z  ct_pixdim_x  \\\n",
       "252   CHUP-030  target  validation     512.0     512.0     736.0     0.976562   \n",
       "\n",
       "     ct_pixdim_y  ct_pixdim_z  pt_dim_x  ...  pt_dim_z  pt_pixdim_x  \\\n",
       "252     0.976562          1.5     200.0  ...     543.0      4.07283   \n",
       "\n",
       "     pt_pixdim_y  pt_pixdim_z  lbl_dim_x  lbl_dim_y  lbl_dim_z  lbl_pixdim_x  \\\n",
       "252      4.07283        2.027      512.0      512.0      736.0      0.976562   \n",
       "\n",
       "     lbl_pixdim_y  lbl_pixdim_z  \n",
       "252      0.976562           1.5  \n",
       "\n",
       "[1 rows x 21 columns]"
      ]
     },
     "execution_count": 49,
     "metadata": {},
     "output_type": "execute_result"
    }
   ],
   "source": [
    "df_dims[df_dims['subject_id']=='CHUP-030']"
   ]
  },
  {
   "cell_type": "code",
   "execution_count": null,
   "metadata": {},
   "outputs": [],
   "source": []
  },
  {
   "cell_type": "code",
   "execution_count": null,
   "metadata": {},
   "outputs": [],
   "source": []
  },
  {
   "cell_type": "markdown",
   "metadata": {},
   "source": [
    "## Start resampling"
   ]
  },
  {
   "cell_type": "code",
   "execution_count": 73,
   "metadata": {},
   "outputs": [],
   "source": [
    "# Main function to perform resampling\n",
    "def main(patient, input_image_folder, input_label_folder, output_image_folder,\n",
    "         output_label_folder, cores, resampling):\n",
    "    \"\"\"Resamples NIFTI files within the maximal bounding box covered by both modalities (PT and CT).\"\"\"\n",
    "    \n",
    "    logger.info('Resampling')\n",
    "\n",
    "    # Resolve paths to absolute paths\n",
    "    # input_image_folder = Path(input_image_folder).resolve()\n",
    "    # input_label_folder = Path(input_label_folder).resolve()\n",
    "    # output_image_folder = Path(output_image_folder).resolve()\n",
    "    # output_label_folder = Path(output_label_folder).resolve()\n",
    "\n",
    "    # Create output folders if they do not exist\n",
    "    # output_image_folder.mkdir(exist_ok=True)\n",
    "    # output_label_folder.mkdir(exist_ok=True)\n",
    "    # print('Resampling with voxel size: {}'.format(resampling))\n",
    "\n",
    "    # Get list of patients by finding CT images in the input folder\n",
    "    # patient_list = [\n",
    "    #     f.name.split(\"__\")[0] for f in input_image_folder.rglob(\"*_CT*\")\n",
    "    # ]\n",
    "    # if len(patient_list) == 0:\n",
    "    #     raise ValueError(\"No patient found in the input folder\")\n",
    "\n",
    "    # print(patient_list)\n",
    "    \n",
    "    # Initialize the resampler with default settings\n",
    "    resampler = sitk.ResampleImageFilter()\n",
    "    resampler.SetOutputDirection([1, 0, 0, 0, 1, 0, 0, 0, 1])\n",
    "    resampler.SetOutputSpacing(resampling)\n",
    "\n",
    "    # Define the function to resample one patient's images and labels\n",
    "    def resample_one_patient(p):\n",
    "        # Read CT and PT images for the patient\n",
    "        ct = sitk.ReadImage(str([f for f in input_image_folder.rglob(p + \"__CT*\")][0]))\n",
    "        pt = sitk.ReadImage(str([f for f in input_image_folder.rglob(p + \"__PT*\")][0]))\n",
    "        \n",
    "        # Read label images for the patient\n",
    "        labels = [(sitk.ReadImage(str(f)), f.name) for f in input_label_folder.glob(p + \"*\")]\n",
    "        \n",
    "        # Get bounding box for the resampling operation\n",
    "        bb = get_bounding_boxes(ct, pt)\n",
    "        size = np.round((bb[3:] - bb[:3]) / resampling).astype(int)\n",
    "        \n",
    "        # Configure resampler settings for CT and PT images\n",
    "        resampler.SetOutputOrigin(bb[:3])\n",
    "        resampler.SetSize([int(k) for k in size])\n",
    "        resampler.SetInterpolator(sitk.sitkBSpline)  # Use cubic spline interpolation for CT and PT\n",
    "        \n",
    "        # Resample CT and PT images\n",
    "        ct = resampler.Execute(ct)\n",
    "        pt = resampler.Execute(pt)\n",
    "        \n",
    "        # # # Save the resampled CT and PT images to the output folder\n",
    "        # sitk.WriteImage(ct, str((output_image_folder / (p + \"__CT.nii.gz\"))))\n",
    "        # sitk.WriteImage(pt, str((output_image_folder / (p + \"__PT.nii.gz\"))))\n",
    "        \n",
    "        # Configure resampler for label images using nearest neighbor interpolation\n",
    "        resampler.SetInterpolator(sitk.sitkNearestNeighbor)\n",
    "        for label, name in labels:\n",
    "            label = resampler.Execute(label)\n",
    "            # sitk.WriteImage(label, str((output_label_folder / name)))\n",
    "        \n",
    "        return ct, pt, label\n",
    "\n",
    "    # # Loop through each patient and resample their images and labels\n",
    "    # for p in patient_list:\n",
    "    #     resample_one_patient(p)\n",
    "    # # Uncomment for parallel processing to speed up the operation\n",
    "    # # with Pool(cores) as p:\n",
    "    # #     p.map(resample_one_patient, patient_list)\n",
    "\n",
    "    ct_res, pet_res, lbl_res = resample_one_patient(patient)\n",
    "    return ct_res, pet_res, lbl_res\n"
   ]
  },
  {
   "cell_type": "code",
   "execution_count": 66,
   "metadata": {},
   "outputs": [],
   "source": [
    "def process_patient(patient, input_image_folder, input_label_folder, output_image_folder, output_label_folder, cores, resampling):\n",
    "    \"\"\"\n",
    "    Processes a single patient's CT, PET, and label images, applies a window function, \n",
    "    and rotates them 90 degrees.\n",
    "    \n",
    "    Args:\n",
    "    - patient (str): Identifier for the patient to process.\n",
    "    - input_image_folder (str): Path to the folder containing the input images.\n",
    "    - input_label_folder (str): Path to the folder containing the input labels.\n",
    "    - output_image_folder (str): Path to the folder where processed images will be saved.\n",
    "    - output_label_folder (str): Path to the folder where processed labels will be saved.\n",
    "    - cores (int): Number of cores to use for processing.\n",
    "    - resampling (str): Resampling parameter.\n",
    "\n",
    "    Returns:\n",
    "    - (tuple): Rotated and processed CT, PET, and label arrays.\n",
    "    \"\"\"\n",
    "    # Call the main function to start resampling (one patient)\n",
    "    c, p, l = main(patient, input_image_folder, input_label_folder, output_image_folder, output_label_folder, cores, resampling)\n",
    "\n",
    "    # Convert images to NumPy arrays and apply windowing to CT image\n",
    "    cn = apply_window(sitk.GetArrayFromImage(c))\n",
    "    pn = sitk.GetArrayFromImage(p)\n",
    "    ln = sitk.GetArrayFromImage(l)\n",
    "    \n",
    "    # Print the shapes for verification\n",
    "    print(f\"Patient: {patient}\")\n",
    "    print(\"Shapes before rotation:\", cn.shape, pn.shape, ln.shape)\n",
    "\n",
    "    # Rotate the images by 90 degrees along (0, 2) axes\n",
    "    pn_r = np.rot90(pn, axes=(0, 2))\n",
    "    cn_r = np.rot90(cn, axes=(0, 2))\n",
    "    ln_r = np.rot90(ln, axes=(0, 2))\n",
    "\n",
    "    # Print the shapes after rotation for verification\n",
    "    print(\"Shapes after rotation:\", cn_r.shape, pn_r.shape, ln_r.shape)\n",
    "    \n",
    "    # Return the rotated images\n",
    "    return cn_r, pn_r, ln_r\n",
    "\n"
   ]
  },
  {
   "cell_type": "code",
   "execution_count": 77,
   "metadata": {},
   "outputs": [
    {
     "name": "stderr",
     "output_type": "stream",
     "text": [
      "2024-11-09 11:59:07,650 - __main__ - INFO - Resampling\n"
     ]
    },
    {
     "name": "stdout",
     "output_type": "stream",
     "text": [
      "Patient: MDA-039\n",
      "Shapes before rotation: (127, 512, 512) (127, 512, 512) (127, 512, 512)\n",
      "Shapes after rotation: (512, 512, 127) (512, 512, 127) (512, 512, 127)\n"
     ]
    },
    {
     "name": "stderr",
     "output_type": "stream",
     "text": [
      "2024-11-09 11:59:16,766 - __main__ - INFO - Resampling\n"
     ]
    },
    {
     "name": "stdout",
     "output_type": "stream",
     "text": [
      "Round 0: 0.00% completed\n",
      "Patient: MDA-192\n",
      "Shapes before rotation: (127, 512, 512) (127, 512, 512) (127, 512, 512)\n",
      "Shapes after rotation: (512, 512, 127) (512, 512, 127) (512, 512, 127)\n"
     ]
    },
    {
     "name": "stderr",
     "output_type": "stream",
     "text": [
      "2024-11-09 11:59:25,375 - __main__ - INFO - Resampling\n"
     ]
    },
    {
     "name": "stdout",
     "output_type": "stream",
     "text": [
      "Patient: MDA-187\n",
      "Shapes before rotation: (127, 512, 512) (127, 512, 512) (127, 512, 512)\n",
      "Shapes after rotation: (512, 512, 127) (512, 512, 127) (512, 512, 127)\n"
     ]
    },
    {
     "name": "stderr",
     "output_type": "stream",
     "text": [
      "2024-11-09 11:59:34,202 - __main__ - INFO - Resampling\n"
     ]
    },
    {
     "name": "stdout",
     "output_type": "stream",
     "text": [
      "Patient: MDA-179\n",
      "Shapes before rotation: (127, 512, 512) (127, 512, 512) (127, 512, 512)\n",
      "Shapes after rotation: (512, 512, 127) (512, 512, 127) (512, 512, 127)\n"
     ]
    },
    {
     "name": "stderr",
     "output_type": "stream",
     "text": [
      "2024-11-09 11:59:42,753 - __main__ - INFO - Resampling\n"
     ]
    },
    {
     "name": "stdout",
     "output_type": "stream",
     "text": [
      "Patient: MDA-162\n",
      "Shapes before rotation: (87, 512, 512) (87, 512, 512) (87, 512, 512)\n",
      "Shapes after rotation: (512, 512, 87) (512, 512, 87) (512, 512, 87)\n"
     ]
    },
    {
     "name": "stderr",
     "output_type": "stream",
     "text": [
      "2024-11-09 11:59:49,126 - __main__ - INFO - Resampling\n"
     ]
    },
    {
     "name": "stdout",
     "output_type": "stream",
     "text": [
      "Patient: MDA-097\n",
      "Shapes before rotation: (311, 512, 512) (311, 512, 512) (311, 512, 512)\n",
      "Shapes after rotation: (512, 512, 311) (512, 512, 311) (512, 512, 311)\n"
     ]
    },
    {
     "name": "stderr",
     "output_type": "stream",
     "text": [
      "2024-11-09 12:00:10,253 - __main__ - INFO - Resampling\n"
     ]
    },
    {
     "name": "stdout",
     "output_type": "stream",
     "text": [
      "Patient: MDA-194\n",
      "Shapes before rotation: (287, 512, 512) (287, 512, 512) (287, 512, 512)\n",
      "Shapes after rotation: (512, 512, 287) (512, 512, 287) (512, 512, 287)\n"
     ]
    },
    {
     "name": "stderr",
     "output_type": "stream",
     "text": [
      "2024-11-09 12:00:30,646 - __main__ - INFO - Resampling\n"
     ]
    },
    {
     "name": "stdout",
     "output_type": "stream",
     "text": [
      "Patient: MDA-095\n",
      "Shapes before rotation: (127, 512, 512) (127, 512, 512) (127, 512, 512)\n",
      "Shapes after rotation: (512, 512, 127) (512, 512, 127) (512, 512, 127)\n"
     ]
    },
    {
     "name": "stderr",
     "output_type": "stream",
     "text": [
      "2024-11-09 12:00:39,511 - __main__ - INFO - Resampling\n"
     ]
    },
    {
     "name": "stdout",
     "output_type": "stream",
     "text": [
      "Patient: MDA-038\n",
      "Shapes before rotation: (127, 512, 512) (127, 512, 512) (127, 512, 512)\n",
      "Shapes after rotation: (512, 512, 127) (512, 512, 127) (512, 512, 127)\n"
     ]
    },
    {
     "name": "stderr",
     "output_type": "stream",
     "text": [
      "2024-11-09 12:00:48,278 - __main__ - INFO - Resampling\n"
     ]
    },
    {
     "name": "stdout",
     "output_type": "stream",
     "text": [
      "Patient: MDA-147\n",
      "Shapes before rotation: (127, 512, 512) (127, 512, 512) (127, 512, 512)\n",
      "Shapes after rotation: (512, 512, 127) (512, 512, 127) (512, 512, 127)\n"
     ]
    },
    {
     "name": "stderr",
     "output_type": "stream",
     "text": [
      "2024-11-09 12:00:56,874 - __main__ - INFO - Resampling\n"
     ]
    },
    {
     "name": "stdout",
     "output_type": "stream",
     "text": [
      "Patient: MDA-150\n",
      "Shapes before rotation: (127, 512, 512) (127, 512, 512) (127, 512, 512)\n",
      "Shapes after rotation: (512, 512, 127) (512, 512, 127) (512, 512, 127)\n"
     ]
    },
    {
     "name": "stderr",
     "output_type": "stream",
     "text": [
      "2024-11-09 12:01:05,736 - __main__ - INFO - Resampling\n"
     ]
    },
    {
     "name": "stdout",
     "output_type": "stream",
     "text": [
      "Round 10: 3.91% completed\n",
      "Patient: MDA-133\n",
      "Shapes before rotation: (127, 512, 512) (127, 512, 512) (127, 512, 512)\n",
      "Shapes after rotation: (512, 512, 127) (512, 512, 127) (512, 512, 127)\n"
     ]
    },
    {
     "name": "stderr",
     "output_type": "stream",
     "text": [
      "2024-11-09 12:01:14,321 - __main__ - INFO - Resampling\n"
     ]
    },
    {
     "name": "stdout",
     "output_type": "stream",
     "text": [
      "Patient: MDA-071\n",
      "Shapes before rotation: (127, 512, 512) (127, 512, 512) (127, 512, 512)\n",
      "Shapes after rotation: (512, 512, 127) (512, 512, 127) (512, 512, 127)\n"
     ]
    },
    {
     "name": "stderr",
     "output_type": "stream",
     "text": [
      "2024-11-09 12:01:23,130 - __main__ - INFO - Resampling\n"
     ]
    },
    {
     "name": "stdout",
     "output_type": "stream",
     "text": [
      "Patient: MDA-113\n",
      "Shapes before rotation: (115, 512, 512) (115, 512, 512) (115, 512, 512)\n",
      "Shapes after rotation: (512, 512, 115) (512, 512, 115) (512, 512, 115)\n"
     ]
    },
    {
     "name": "stderr",
     "output_type": "stream",
     "text": [
      "2024-11-09 12:01:31,810 - __main__ - INFO - Resampling\n"
     ]
    },
    {
     "name": "stdout",
     "output_type": "stream",
     "text": [
      "Patient: MDA-023\n",
      "Shapes before rotation: (127, 512, 512) (127, 512, 512) (127, 512, 512)\n",
      "Shapes after rotation: (512, 512, 127) (512, 512, 127) (512, 512, 127)\n"
     ]
    },
    {
     "name": "stderr",
     "output_type": "stream",
     "text": [
      "2024-11-09 12:01:40,538 - __main__ - INFO - Resampling\n"
     ]
    },
    {
     "name": "stdout",
     "output_type": "stream",
     "text": [
      "Patient: MDA-024\n",
      "Shapes before rotation: (127, 512, 512) (127, 512, 512) (127, 512, 512)\n",
      "Shapes after rotation: (512, 512, 127) (512, 512, 127) (512, 512, 127)\n"
     ]
    },
    {
     "name": "stderr",
     "output_type": "stream",
     "text": [
      "2024-11-09 12:01:49,264 - __main__ - INFO - Resampling\n"
     ]
    },
    {
     "name": "stdout",
     "output_type": "stream",
     "text": [
      "Patient: MDA-013\n",
      "Shapes before rotation: (91, 512, 512) (91, 512, 512) (91, 512, 512)\n",
      "Shapes after rotation: (512, 512, 91) (512, 512, 91) (512, 512, 91)\n"
     ]
    },
    {
     "name": "stderr",
     "output_type": "stream",
     "text": [
      "2024-11-09 12:01:55,723 - __main__ - INFO - Resampling\n"
     ]
    },
    {
     "name": "stdout",
     "output_type": "stream",
     "text": [
      "Patient: MDA-059\n",
      "Shapes before rotation: (311, 512, 512) (311, 512, 512) (311, 512, 512)\n",
      "Shapes after rotation: (512, 512, 311) (512, 512, 311) (512, 512, 311)\n"
     ]
    },
    {
     "name": "stderr",
     "output_type": "stream",
     "text": [
      "2024-11-09 12:02:17,600 - __main__ - INFO - Resampling\n"
     ]
    },
    {
     "name": "stdout",
     "output_type": "stream",
     "text": [
      "Patient: MDA-006\n",
      "Shapes before rotation: (223, 512, 512) (223, 512, 512) (223, 512, 512)\n",
      "Shapes after rotation: (512, 512, 223) (512, 512, 223) (512, 512, 223)\n"
     ]
    },
    {
     "name": "stderr",
     "output_type": "stream",
     "text": [
      "2024-11-09 12:02:33,702 - __main__ - INFO - Resampling\n"
     ]
    },
    {
     "name": "stdout",
     "output_type": "stream",
     "text": [
      "Patient: MDA-101\n",
      "Shapes before rotation: (287, 512, 512) (287, 512, 512) (287, 512, 512)\n",
      "Shapes after rotation: (512, 512, 287) (512, 512, 287) (512, 512, 287)\n"
     ]
    },
    {
     "name": "stderr",
     "output_type": "stream",
     "text": [
      "2024-11-09 12:02:54,118 - __main__ - INFO - Resampling\n"
     ]
    },
    {
     "name": "stdout",
     "output_type": "stream",
     "text": [
      "Patient: MDA-065\n",
      "Shapes before rotation: (127, 512, 512) (127, 512, 512) (127, 512, 512)\n",
      "Shapes after rotation: (512, 512, 127) (512, 512, 127) (512, 512, 127)\n"
     ]
    },
    {
     "name": "stderr",
     "output_type": "stream",
     "text": [
      "2024-11-09 12:03:02,854 - __main__ - INFO - Resampling\n"
     ]
    },
    {
     "name": "stdout",
     "output_type": "stream",
     "text": [
      "Round 20: 7.81% completed\n",
      "Patient: MDA-120\n",
      "Shapes before rotation: (407, 512, 512) (407, 512, 512) (407, 512, 512)\n",
      "Shapes after rotation: (512, 512, 407) (512, 512, 407) (512, 512, 407)\n"
     ]
    },
    {
     "name": "stderr",
     "output_type": "stream",
     "text": [
      "2024-11-09 12:03:31,892 - __main__ - INFO - Resampling\n"
     ]
    },
    {
     "name": "stdout",
     "output_type": "stream",
     "text": [
      "Patient: MDA-163\n",
      "Shapes before rotation: (311, 512, 512) (311, 512, 512) (311, 512, 512)\n",
      "Shapes after rotation: (512, 512, 311) (512, 512, 311) (512, 512, 311)\n"
     ]
    },
    {
     "name": "stderr",
     "output_type": "stream",
     "text": [
      "2024-11-09 12:03:53,610 - __main__ - INFO - Resampling\n"
     ]
    },
    {
     "name": "stdout",
     "output_type": "stream",
     "text": [
      "Patient: MDA-064\n",
      "Shapes before rotation: (127, 512, 512) (127, 512, 512) (127, 512, 512)\n",
      "Shapes after rotation: (512, 512, 127) (512, 512, 127) (512, 512, 127)\n"
     ]
    },
    {
     "name": "stderr",
     "output_type": "stream",
     "text": [
      "2024-11-09 12:04:02,463 - __main__ - INFO - Resampling\n"
     ]
    },
    {
     "name": "stdout",
     "output_type": "stream",
     "text": [
      "Patient: MDA-025\n",
      "Shapes before rotation: (127, 512, 512) (127, 512, 512) (127, 512, 512)\n",
      "Shapes after rotation: (512, 512, 127) (512, 512, 127) (512, 512, 127)\n"
     ]
    },
    {
     "name": "stderr",
     "output_type": "stream",
     "text": [
      "2024-11-09 12:04:11,383 - __main__ - INFO - Resampling\n"
     ]
    },
    {
     "name": "stdout",
     "output_type": "stream",
     "text": [
      "Patient: MDA-088\n",
      "Shapes before rotation: (127, 512, 512) (127, 512, 512) (127, 512, 512)\n",
      "Shapes after rotation: (512, 512, 127) (512, 512, 127) (512, 512, 127)\n"
     ]
    },
    {
     "name": "stderr",
     "output_type": "stream",
     "text": [
      "2024-11-09 12:04:20,014 - __main__ - INFO - Resampling\n"
     ]
    },
    {
     "name": "stdout",
     "output_type": "stream",
     "text": [
      "Patient: MDA-098\n",
      "Shapes before rotation: (127, 512, 512) (127, 512, 512) (127, 512, 512)\n",
      "Shapes after rotation: (512, 512, 127) (512, 512, 127) (512, 512, 127)\n"
     ]
    },
    {
     "name": "stderr",
     "output_type": "stream",
     "text": [
      "2024-11-09 12:04:28,566 - __main__ - INFO - Resampling\n"
     ]
    },
    {
     "name": "stdout",
     "output_type": "stream",
     "text": [
      "Patient: MDA-099\n",
      "Shapes before rotation: (127, 512, 512) (127, 512, 512) (127, 512, 512)\n",
      "Shapes after rotation: (512, 512, 127) (512, 512, 127) (512, 512, 127)\n"
     ]
    },
    {
     "name": "stderr",
     "output_type": "stream",
     "text": [
      "2024-11-09 12:04:37,312 - __main__ - INFO - Resampling\n"
     ]
    },
    {
     "name": "stdout",
     "output_type": "stream",
     "text": [
      "Patient: MDA-078\n",
      "Shapes before rotation: (127, 512, 512) (127, 512, 512) (127, 512, 512)\n",
      "Shapes after rotation: (512, 512, 127) (512, 512, 127) (512, 512, 127)\n"
     ]
    },
    {
     "name": "stderr",
     "output_type": "stream",
     "text": [
      "2024-11-09 12:04:45,858 - __main__ - INFO - Resampling\n"
     ]
    },
    {
     "name": "stdout",
     "output_type": "stream",
     "text": [
      "Patient: MDA-020\n",
      "Shapes before rotation: (127, 512, 512) (127, 512, 512) (127, 512, 512)\n",
      "Shapes after rotation: (512, 512, 127) (512, 512, 127) (512, 512, 127)\n"
     ]
    },
    {
     "name": "stderr",
     "output_type": "stream",
     "text": [
      "2024-11-09 12:04:54,574 - __main__ - INFO - Resampling\n"
     ]
    },
    {
     "name": "stdout",
     "output_type": "stream",
     "text": [
      "Patient: MDA-100\n",
      "Shapes before rotation: (127, 512, 512) (127, 512, 512) (127, 512, 512)\n",
      "Shapes after rotation: (512, 512, 127) (512, 512, 127) (512, 512, 127)\n"
     ]
    },
    {
     "name": "stderr",
     "output_type": "stream",
     "text": [
      "2024-11-09 12:05:03,335 - __main__ - INFO - Resampling\n"
     ]
    },
    {
     "name": "stdout",
     "output_type": "stream",
     "text": [
      "Round 30: 11.72% completed\n",
      "Patient: MDA-021\n",
      "Shapes before rotation: (127, 512, 512) (127, 512, 512) (127, 512, 512)\n",
      "Shapes after rotation: (512, 512, 127) (512, 512, 127) (512, 512, 127)\n"
     ]
    },
    {
     "name": "stderr",
     "output_type": "stream",
     "text": [
      "2024-11-09 12:05:12,521 - __main__ - INFO - Resampling\n"
     ]
    },
    {
     "name": "stdout",
     "output_type": "stream",
     "text": [
      "Patient: MDA-005\n",
      "Shapes before rotation: (267, 512, 512) (267, 512, 512) (267, 512, 512)\n",
      "Shapes after rotation: (512, 512, 267) (512, 512, 267) (512, 512, 267)\n"
     ]
    },
    {
     "name": "stderr",
     "output_type": "stream",
     "text": [
      "2024-11-09 12:05:31,297 - __main__ - INFO - Resampling\n"
     ]
    },
    {
     "name": "stdout",
     "output_type": "stream",
     "text": [
      "Patient: MDA-047\n",
      "Shapes before rotation: (127, 512, 512) (127, 512, 512) (127, 512, 512)\n",
      "Shapes after rotation: (512, 512, 127) (512, 512, 127) (512, 512, 127)\n"
     ]
    },
    {
     "name": "stderr",
     "output_type": "stream",
     "text": [
      "2024-11-09 12:05:39,927 - __main__ - INFO - Resampling\n"
     ]
    },
    {
     "name": "stdout",
     "output_type": "stream",
     "text": [
      "Patient: MDA-173\n",
      "Shapes before rotation: (91, 512, 512) (91, 512, 512) (91, 512, 512)\n",
      "Shapes after rotation: (512, 512, 91) (512, 512, 91) (512, 512, 91)\n"
     ]
    },
    {
     "name": "stderr",
     "output_type": "stream",
     "text": [
      "2024-11-09 12:05:46,185 - __main__ - INFO - Resampling\n"
     ]
    },
    {
     "name": "stdout",
     "output_type": "stream",
     "text": [
      "Patient: MDA-146\n",
      "Shapes before rotation: (87, 512, 512) (87, 512, 512) (87, 512, 512)\n",
      "Shapes after rotation: (512, 512, 87) (512, 512, 87) (512, 512, 87)\n"
     ]
    },
    {
     "name": "stderr",
     "output_type": "stream",
     "text": [
      "2024-11-09 12:05:52,245 - __main__ - INFO - Resampling\n"
     ]
    },
    {
     "name": "stdout",
     "output_type": "stream",
     "text": [
      "Patient: MDA-068\n",
      "Shapes before rotation: (127, 512, 512) (127, 512, 512) (127, 512, 512)\n",
      "Shapes after rotation: (512, 512, 127) (512, 512, 127) (512, 512, 127)\n"
     ]
    },
    {
     "name": "stderr",
     "output_type": "stream",
     "text": [
      "2024-11-09 12:06:00,937 - __main__ - INFO - Resampling\n"
     ]
    },
    {
     "name": "stdout",
     "output_type": "stream",
     "text": [
      "Patient: MDA-053\n",
      "Shapes before rotation: (127, 512, 512) (127, 512, 512) (127, 512, 512)\n",
      "Shapes after rotation: (512, 512, 127) (512, 512, 127) (512, 512, 127)\n"
     ]
    },
    {
     "name": "stderr",
     "output_type": "stream",
     "text": [
      "2024-11-09 12:06:09,489 - __main__ - INFO - Resampling\n"
     ]
    },
    {
     "name": "stdout",
     "output_type": "stream",
     "text": [
      "Patient: MDA-004\n",
      "Shapes before rotation: (223, 512, 512) (223, 512, 512) (223, 512, 512)\n",
      "Shapes after rotation: (512, 512, 223) (512, 512, 223) (512, 512, 223)\n"
     ]
    },
    {
     "name": "stderr",
     "output_type": "stream",
     "text": [
      "2024-11-09 12:06:24,674 - __main__ - INFO - Resampling\n"
     ]
    },
    {
     "name": "stdout",
     "output_type": "stream",
     "text": [
      "Patient: MDA-114\n",
      "Shapes before rotation: (119, 512, 512) (119, 512, 512) (119, 512, 512)\n",
      "Shapes after rotation: (512, 512, 119) (512, 512, 119) (512, 512, 119)\n"
     ]
    },
    {
     "name": "stderr",
     "output_type": "stream",
     "text": [
      "2024-11-09 12:06:33,200 - __main__ - INFO - Resampling\n"
     ]
    },
    {
     "name": "stdout",
     "output_type": "stream",
     "text": [
      "Patient: MDA-055\n",
      "Shapes before rotation: (311, 512, 512) (311, 512, 512) (311, 512, 512)\n",
      "Shapes after rotation: (512, 512, 311) (512, 512, 311) (512, 512, 311)\n"
     ]
    },
    {
     "name": "stderr",
     "output_type": "stream",
     "text": [
      "2024-11-09 12:06:55,072 - __main__ - INFO - Resampling\n"
     ]
    },
    {
     "name": "stdout",
     "output_type": "stream",
     "text": [
      "Round 40: 15.62% completed\n",
      "Patient: MDA-061\n",
      "Shapes before rotation: (127, 512, 512) (127, 512, 512) (127, 512, 512)\n",
      "Shapes after rotation: (512, 512, 127) (512, 512, 127) (512, 512, 127)\n"
     ]
    },
    {
     "name": "stderr",
     "output_type": "stream",
     "text": [
      "2024-11-09 12:07:04,011 - __main__ - INFO - Resampling\n"
     ]
    },
    {
     "name": "stdout",
     "output_type": "stream",
     "text": [
      "Patient: MDA-132\n",
      "Shapes before rotation: (127, 512, 512) (127, 512, 512) (127, 512, 512)\n",
      "Shapes after rotation: (512, 512, 127) (512, 512, 127) (512, 512, 127)\n"
     ]
    },
    {
     "name": "stderr",
     "output_type": "stream",
     "text": [
      "2024-11-09 12:07:12,699 - __main__ - INFO - Resampling\n"
     ]
    },
    {
     "name": "stdout",
     "output_type": "stream",
     "text": [
      "Patient: MDA-164\n",
      "Shapes before rotation: (295, 512, 512) (295, 512, 512) (295, 512, 512)\n",
      "Shapes after rotation: (512, 512, 295) (512, 512, 295) (512, 512, 295)\n"
     ]
    },
    {
     "name": "stderr",
     "output_type": "stream",
     "text": [
      "2024-11-09 12:07:32,433 - __main__ - INFO - Resampling\n"
     ]
    },
    {
     "name": "stdout",
     "output_type": "stream",
     "text": [
      "Patient: MDA-159\n",
      "Shapes before rotation: (127, 512, 512) (127, 512, 512) (127, 512, 512)\n",
      "Shapes after rotation: (512, 512, 127) (512, 512, 127) (512, 512, 127)\n"
     ]
    },
    {
     "name": "stderr",
     "output_type": "stream",
     "text": [
      "2024-11-09 12:07:41,020 - __main__ - INFO - Resampling\n"
     ]
    },
    {
     "name": "stdout",
     "output_type": "stream",
     "text": [
      "Patient: MDA-172\n",
      "Shapes before rotation: (127, 512, 512) (127, 512, 512) (127, 512, 512)\n",
      "Shapes after rotation: (512, 512, 127) (512, 512, 127) (512, 512, 127)\n"
     ]
    },
    {
     "name": "stderr",
     "output_type": "stream",
     "text": [
      "2024-11-09 12:07:49,809 - __main__ - INFO - Resampling\n"
     ]
    },
    {
     "name": "stdout",
     "output_type": "stream",
     "text": [
      "Patient: MDA-143\n",
      "Shapes before rotation: (127, 512, 512) (127, 512, 512) (127, 512, 512)\n",
      "Shapes after rotation: (512, 512, 127) (512, 512, 127) (512, 512, 127)\n"
     ]
    },
    {
     "name": "stderr",
     "output_type": "stream",
     "text": [
      "2024-11-09 12:07:58,651 - __main__ - INFO - Resampling\n"
     ]
    },
    {
     "name": "stdout",
     "output_type": "stream",
     "text": [
      "Patient: MDA-175\n",
      "Shapes before rotation: (311, 512, 512) (311, 512, 512) (311, 512, 512)\n",
      "Shapes after rotation: (512, 512, 311) (512, 512, 311) (512, 512, 311)\n"
     ]
    },
    {
     "name": "stderr",
     "output_type": "stream",
     "text": [
      "2024-11-09 12:08:19,915 - __main__ - INFO - Resampling\n"
     ]
    },
    {
     "name": "stdout",
     "output_type": "stream",
     "text": [
      "Patient: MDA-076\n",
      "Shapes before rotation: (127, 512, 512) (127, 512, 512) (127, 512, 512)\n",
      "Shapes after rotation: (512, 512, 127) (512, 512, 127) (512, 512, 127)\n"
     ]
    },
    {
     "name": "stderr",
     "output_type": "stream",
     "text": [
      "2024-11-09 12:08:28,702 - __main__ - INFO - Resampling\n"
     ]
    },
    {
     "name": "stdout",
     "output_type": "stream",
     "text": [
      "Patient: MDA-139\n",
      "Shapes before rotation: (127, 512, 512) (127, 512, 512) (127, 512, 512)\n",
      "Shapes after rotation: (512, 512, 127) (512, 512, 127) (512, 512, 127)\n"
     ]
    },
    {
     "name": "stderr",
     "output_type": "stream",
     "text": [
      "2024-11-09 12:08:37,403 - __main__ - INFO - Resampling\n"
     ]
    },
    {
     "name": "stdout",
     "output_type": "stream",
     "text": [
      "Patient: MDA-018\n",
      "Shapes before rotation: (127, 512, 512) (127, 512, 512) (127, 512, 512)\n",
      "Shapes after rotation: (512, 512, 127) (512, 512, 127) (512, 512, 127)\n"
     ]
    },
    {
     "name": "stderr",
     "output_type": "stream",
     "text": [
      "2024-11-09 12:08:46,027 - __main__ - INFO - Resampling\n"
     ]
    },
    {
     "name": "stdout",
     "output_type": "stream",
     "text": [
      "Round 50: 19.53% completed\n",
      "Patient: MDA-112\n",
      "Shapes before rotation: (119, 512, 512) (119, 512, 512) (119, 512, 512)\n",
      "Shapes after rotation: (512, 512, 119) (512, 512, 119) (512, 512, 119)\n"
     ]
    },
    {
     "name": "stderr",
     "output_type": "stream",
     "text": [
      "2024-11-09 12:08:54,264 - __main__ - INFO - Resampling\n"
     ]
    },
    {
     "name": "stdout",
     "output_type": "stream",
     "text": [
      "Patient: MDA-048\n",
      "Shapes before rotation: (311, 512, 512) (311, 512, 512) (311, 512, 512)\n",
      "Shapes after rotation: (512, 512, 311) (512, 512, 311) (512, 512, 311)\n"
     ]
    },
    {
     "name": "stderr",
     "output_type": "stream",
     "text": [
      "2024-11-09 12:09:15,787 - __main__ - INFO - Resampling\n"
     ]
    },
    {
     "name": "stdout",
     "output_type": "stream",
     "text": [
      "Patient: MDA-117\n",
      "Shapes before rotation: (335, 512, 512) (335, 512, 512) (335, 512, 512)\n",
      "Shapes after rotation: (512, 512, 335) (512, 512, 335) (512, 512, 335)\n"
     ]
    },
    {
     "name": "stderr",
     "output_type": "stream",
     "text": [
      "2024-11-09 12:09:39,387 - __main__ - INFO - Resampling\n"
     ]
    },
    {
     "name": "stdout",
     "output_type": "stream",
     "text": [
      "Patient: MDA-043\n",
      "Shapes before rotation: (127, 512, 512) (127, 512, 512) (127, 512, 512)\n",
      "Shapes after rotation: (512, 512, 127) (512, 512, 127) (512, 512, 127)\n"
     ]
    },
    {
     "name": "stderr",
     "output_type": "stream",
     "text": [
      "2024-11-09 12:09:48,156 - __main__ - INFO - Resampling\n"
     ]
    },
    {
     "name": "stdout",
     "output_type": "stream",
     "text": [
      "Patient: MDA-169\n",
      "Shapes before rotation: (91, 512, 512) (91, 512, 512) (91, 512, 512)\n",
      "Shapes after rotation: (512, 512, 91) (512, 512, 91) (512, 512, 91)\n"
     ]
    },
    {
     "name": "stderr",
     "output_type": "stream",
     "text": [
      "2024-11-09 12:09:54,364 - __main__ - INFO - Resampling\n"
     ]
    },
    {
     "name": "stdout",
     "output_type": "stream",
     "text": [
      "Patient: MDA-050\n",
      "Shapes before rotation: (127, 512, 512) (127, 512, 512) (127, 512, 512)\n",
      "Shapes after rotation: (512, 512, 127) (512, 512, 127) (512, 512, 127)\n"
     ]
    },
    {
     "name": "stderr",
     "output_type": "stream",
     "text": [
      "2024-11-09 12:10:03,353 - __main__ - INFO - Resampling\n"
     ]
    },
    {
     "name": "stdout",
     "output_type": "stream",
     "text": [
      "Patient: MDA-190\n",
      "Shapes before rotation: (311, 512, 512) (311, 512, 512) (311, 512, 512)\n",
      "Shapes after rotation: (512, 512, 311) (512, 512, 311) (512, 512, 311)\n"
     ]
    },
    {
     "name": "stderr",
     "output_type": "stream",
     "text": [
      "2024-11-09 12:10:24,901 - __main__ - INFO - Resampling\n"
     ]
    },
    {
     "name": "stdout",
     "output_type": "stream",
     "text": [
      "Patient: MDA-049\n",
      "Shapes before rotation: (127, 512, 512) (127, 512, 512) (127, 512, 512)\n",
      "Shapes after rotation: (512, 512, 127) (512, 512, 127) (512, 512, 127)\n"
     ]
    },
    {
     "name": "stderr",
     "output_type": "stream",
     "text": [
      "2024-11-09 12:10:33,766 - __main__ - INFO - Resampling\n"
     ]
    },
    {
     "name": "stdout",
     "output_type": "stream",
     "text": [
      "Patient: MDA-091\n",
      "Shapes before rotation: (127, 512, 512) (127, 512, 512) (127, 512, 512)\n",
      "Shapes after rotation: (512, 512, 127) (512, 512, 127) (512, 512, 127)\n"
     ]
    },
    {
     "name": "stderr",
     "output_type": "stream",
     "text": [
      "2024-11-09 12:10:42,331 - __main__ - INFO - Resampling\n"
     ]
    },
    {
     "name": "stdout",
     "output_type": "stream",
     "text": [
      "Patient: MDA-045\n",
      "Shapes before rotation: (127, 512, 512) (127, 512, 512) (127, 512, 512)\n",
      "Shapes after rotation: (512, 512, 127) (512, 512, 127) (512, 512, 127)\n"
     ]
    },
    {
     "name": "stderr",
     "output_type": "stream",
     "text": [
      "2024-11-09 12:10:50,884 - __main__ - INFO - Resampling\n"
     ]
    },
    {
     "name": "stdout",
     "output_type": "stream",
     "text": [
      "Round 60: 23.44% completed\n",
      "Patient: MDA-067\n",
      "Shapes before rotation: (295, 512, 512) (295, 512, 512) (295, 512, 512)\n",
      "Shapes after rotation: (512, 512, 295) (512, 512, 295) (512, 512, 295)\n"
     ]
    },
    {
     "name": "stderr",
     "output_type": "stream",
     "text": [
      "2024-11-09 12:11:10,450 - __main__ - INFO - Resampling\n"
     ]
    },
    {
     "name": "stdout",
     "output_type": "stream",
     "text": [
      "Patient: MDA-058\n",
      "Shapes before rotation: (127, 512, 512) (127, 512, 512) (127, 512, 512)\n",
      "Shapes after rotation: (512, 512, 127) (512, 512, 127) (512, 512, 127)\n"
     ]
    },
    {
     "name": "stderr",
     "output_type": "stream",
     "text": [
      "2024-11-09 12:11:18,981 - __main__ - INFO - Resampling\n"
     ]
    },
    {
     "name": "stdout",
     "output_type": "stream",
     "text": [
      "Patient: MDA-134\n",
      "Shapes before rotation: (127, 512, 512) (127, 512, 512) (127, 512, 512)\n",
      "Shapes after rotation: (512, 512, 127) (512, 512, 127) (512, 512, 127)\n"
     ]
    },
    {
     "name": "stderr",
     "output_type": "stream",
     "text": [
      "2024-11-09 12:11:27,649 - __main__ - INFO - Resampling\n"
     ]
    },
    {
     "name": "stdout",
     "output_type": "stream",
     "text": [
      "Patient: MDA-082\n",
      "Shapes before rotation: (127, 512, 512) (127, 512, 512) (127, 512, 512)\n",
      "Shapes after rotation: (512, 512, 127) (512, 512, 127) (512, 512, 127)\n"
     ]
    },
    {
     "name": "stderr",
     "output_type": "stream",
     "text": [
      "2024-11-09 12:11:36,544 - __main__ - INFO - Resampling\n"
     ]
    },
    {
     "name": "stdout",
     "output_type": "stream",
     "text": [
      "Patient: MDA-148\n",
      "Shapes before rotation: (127, 512, 512) (127, 512, 512) (127, 512, 512)\n",
      "Shapes after rotation: (512, 512, 127) (512, 512, 127) (512, 512, 127)\n"
     ]
    },
    {
     "name": "stderr",
     "output_type": "stream",
     "text": [
      "2024-11-09 12:11:45,211 - __main__ - INFO - Resampling\n"
     ]
    },
    {
     "name": "stdout",
     "output_type": "stream",
     "text": [
      "Patient: MDA-027\n",
      "Shapes before rotation: (127, 512, 512) (127, 512, 512) (127, 512, 512)\n",
      "Shapes after rotation: (512, 512, 127) (512, 512, 127) (512, 512, 127)\n"
     ]
    },
    {
     "name": "stderr",
     "output_type": "stream",
     "text": [
      "2024-11-09 12:11:53,941 - __main__ - INFO - Resampling\n"
     ]
    },
    {
     "name": "stdout",
     "output_type": "stream",
     "text": [
      "Patient: MDA-011\n",
      "Shapes before rotation: (91, 512, 512) (91, 512, 512) (91, 512, 512)\n",
      "Shapes after rotation: (512, 512, 91) (512, 512, 91) (512, 512, 91)\n"
     ]
    },
    {
     "name": "stderr",
     "output_type": "stream",
     "text": [
      "2024-11-09 12:12:00,539 - __main__ - INFO - Resampling\n"
     ]
    },
    {
     "name": "stdout",
     "output_type": "stream",
     "text": [
      "Patient: MDA-121\n",
      "Shapes before rotation: (119, 512, 512) (119, 512, 512) (119, 512, 512)\n",
      "Shapes after rotation: (512, 512, 119) (512, 512, 119) (512, 512, 119)\n"
     ]
    },
    {
     "name": "stderr",
     "output_type": "stream",
     "text": [
      "2024-11-09 12:12:09,085 - __main__ - INFO - Resampling\n"
     ]
    },
    {
     "name": "stdout",
     "output_type": "stream",
     "text": [
      "Patient: MDA-144\n",
      "Shapes before rotation: (355, 512, 512) (355, 512, 512) (355, 512, 512)\n",
      "Shapes after rotation: (512, 512, 355) (512, 512, 355) (512, 512, 355)\n"
     ]
    },
    {
     "name": "stderr",
     "output_type": "stream",
     "text": [
      "2024-11-09 12:12:33,829 - __main__ - INFO - Resampling\n"
     ]
    },
    {
     "name": "stdout",
     "output_type": "stream",
     "text": [
      "Patient: MDA-156\n",
      "Shapes before rotation: (127, 512, 512) (127, 512, 512) (127, 512, 512)\n",
      "Shapes after rotation: (512, 512, 127) (512, 512, 127) (512, 512, 127)\n"
     ]
    },
    {
     "name": "stderr",
     "output_type": "stream",
     "text": [
      "2024-11-09 12:12:42,750 - __main__ - INFO - Resampling\n"
     ]
    },
    {
     "name": "stdout",
     "output_type": "stream",
     "text": [
      "Round 70: 27.34% completed\n",
      "Patient: MDA-184\n",
      "Shapes before rotation: (127, 512, 512) (127, 512, 512) (127, 512, 512)\n",
      "Shapes after rotation: (512, 512, 127) (512, 512, 127) (512, 512, 127)\n"
     ]
    },
    {
     "name": "stderr",
     "output_type": "stream",
     "text": [
      "2024-11-09 12:12:51,632 - __main__ - INFO - Resampling\n"
     ]
    },
    {
     "name": "stdout",
     "output_type": "stream",
     "text": [
      "Patient: MDA-183\n",
      "Shapes before rotation: (127, 512, 512) (127, 512, 512) (127, 512, 512)\n",
      "Shapes after rotation: (512, 512, 127) (512, 512, 127) (512, 512, 127)\n"
     ]
    },
    {
     "name": "stderr",
     "output_type": "stream",
     "text": [
      "2024-11-09 12:13:00,408 - __main__ - INFO - Resampling\n"
     ]
    },
    {
     "name": "stdout",
     "output_type": "stream",
     "text": [
      "Patient: MDA-093\n",
      "Shapes before rotation: (127, 512, 512) (127, 512, 512) (127, 512, 512)\n",
      "Shapes after rotation: (512, 512, 127) (512, 512, 127) (512, 512, 127)\n"
     ]
    },
    {
     "name": "stderr",
     "output_type": "stream",
     "text": [
      "2024-11-09 12:13:09,236 - __main__ - INFO - Resampling\n"
     ]
    },
    {
     "name": "stdout",
     "output_type": "stream",
     "text": [
      "Patient: MDA-016\n",
      "Shapes before rotation: (135, 512, 512) (135, 512, 512) (135, 512, 512)\n",
      "Shapes after rotation: (512, 512, 135) (512, 512, 135) (512, 512, 135)\n"
     ]
    },
    {
     "name": "stderr",
     "output_type": "stream",
     "text": [
      "2024-11-09 12:13:18,450 - __main__ - INFO - Resampling\n"
     ]
    },
    {
     "name": "stdout",
     "output_type": "stream",
     "text": [
      "Patient: MDA-092\n",
      "Shapes before rotation: (311, 512, 512) (311, 512, 512) (311, 512, 512)\n",
      "Shapes after rotation: (512, 512, 311) (512, 512, 311) (512, 512, 311)\n"
     ]
    },
    {
     "name": "stderr",
     "output_type": "stream",
     "text": [
      "2024-11-09 12:13:40,398 - __main__ - INFO - Resampling\n"
     ]
    },
    {
     "name": "stdout",
     "output_type": "stream",
     "text": [
      "Patient: MDA-116\n",
      "Shapes before rotation: (119, 512, 512) (119, 512, 512) (119, 512, 512)\n",
      "Shapes after rotation: (512, 512, 119) (512, 512, 119) (512, 512, 119)\n"
     ]
    },
    {
     "name": "stderr",
     "output_type": "stream",
     "text": [
      "2024-11-09 12:13:48,794 - __main__ - INFO - Resampling\n"
     ]
    },
    {
     "name": "stdout",
     "output_type": "stream",
     "text": [
      "Patient: MDA-034\n",
      "Shapes before rotation: (311, 512, 512) (311, 512, 512) (311, 512, 512)\n",
      "Shapes after rotation: (512, 512, 311) (512, 512, 311) (512, 512, 311)\n"
     ]
    },
    {
     "name": "stderr",
     "output_type": "stream",
     "text": [
      "2024-11-09 12:14:10,783 - __main__ - INFO - Resampling\n"
     ]
    },
    {
     "name": "stdout",
     "output_type": "stream",
     "text": [
      "Patient: MDA-155\n",
      "Shapes before rotation: (127, 512, 512) (127, 512, 512) (127, 512, 512)\n",
      "Shapes after rotation: (512, 512, 127) (512, 512, 127) (512, 512, 127)\n"
     ]
    },
    {
     "name": "stderr",
     "output_type": "stream",
     "text": [
      "2024-11-09 12:14:19,537 - __main__ - INFO - Resampling\n"
     ]
    },
    {
     "name": "stdout",
     "output_type": "stream",
     "text": [
      "Patient: MDA-108\n",
      "Shapes before rotation: (318, 512, 512) (318, 512, 512) (318, 512, 512)\n",
      "Shapes after rotation: (512, 512, 318) (512, 512, 318) (512, 512, 318)\n"
     ]
    },
    {
     "name": "stderr",
     "output_type": "stream",
     "text": [
      "2024-11-09 12:14:40,827 - __main__ - INFO - Resampling\n"
     ]
    },
    {
     "name": "stdout",
     "output_type": "stream",
     "text": [
      "Patient: MDA-044\n",
      "Shapes before rotation: (127, 512, 512) (127, 512, 512) (127, 512, 512)\n",
      "Shapes after rotation: (512, 512, 127) (512, 512, 127) (512, 512, 127)\n"
     ]
    },
    {
     "name": "stderr",
     "output_type": "stream",
     "text": [
      "2024-11-09 12:14:49,582 - __main__ - INFO - Resampling\n"
     ]
    },
    {
     "name": "stdout",
     "output_type": "stream",
     "text": [
      "Round 80: 31.25% completed\n",
      "Patient: MDA-083\n",
      "Shapes before rotation: (127, 512, 512) (127, 512, 512) (127, 512, 512)\n",
      "Shapes after rotation: (512, 512, 127) (512, 512, 127) (512, 512, 127)\n"
     ]
    },
    {
     "name": "stderr",
     "output_type": "stream",
     "text": [
      "2024-11-09 12:14:58,283 - __main__ - INFO - Resampling\n"
     ]
    },
    {
     "name": "stdout",
     "output_type": "stream",
     "text": [
      "Patient: MDA-089\n",
      "Shapes before rotation: (127, 512, 512) (127, 512, 512) (127, 512, 512)\n",
      "Shapes after rotation: (512, 512, 127) (512, 512, 127) (512, 512, 127)\n"
     ]
    },
    {
     "name": "stderr",
     "output_type": "stream",
     "text": [
      "2024-11-09 12:15:06,926 - __main__ - INFO - Resampling\n"
     ]
    },
    {
     "name": "stdout",
     "output_type": "stream",
     "text": [
      "Patient: MDA-118\n",
      "Shapes before rotation: (119, 512, 512) (119, 512, 512) (119, 512, 512)\n",
      "Shapes after rotation: (512, 512, 119) (512, 512, 119) (512, 512, 119)\n"
     ]
    },
    {
     "name": "stderr",
     "output_type": "stream",
     "text": [
      "2024-11-09 12:15:15,056 - __main__ - INFO - Resampling\n"
     ]
    },
    {
     "name": "stdout",
     "output_type": "stream",
     "text": [
      "Patient: MDA-041\n",
      "Shapes before rotation: (127, 512, 512) (127, 512, 512) (127, 512, 512)\n",
      "Shapes after rotation: (512, 512, 127) (512, 512, 127) (512, 512, 127)\n"
     ]
    },
    {
     "name": "stderr",
     "output_type": "stream",
     "text": [
      "2024-11-09 12:15:23,734 - __main__ - INFO - Resampling\n"
     ]
    },
    {
     "name": "stdout",
     "output_type": "stream",
     "text": [
      "Patient: MDA-046\n",
      "Shapes before rotation: (127, 512, 512) (127, 512, 512) (127, 512, 512)\n",
      "Shapes after rotation: (512, 512, 127) (512, 512, 127) (512, 512, 127)\n"
     ]
    },
    {
     "name": "stderr",
     "output_type": "stream",
     "text": [
      "2024-11-09 12:15:32,409 - __main__ - INFO - Resampling\n"
     ]
    },
    {
     "name": "stdout",
     "output_type": "stream",
     "text": [
      "Patient: MDA-040\n",
      "Shapes before rotation: (127, 512, 512) (127, 512, 512) (127, 512, 512)\n",
      "Shapes after rotation: (512, 512, 127) (512, 512, 127) (512, 512, 127)\n"
     ]
    },
    {
     "name": "stderr",
     "output_type": "stream",
     "text": [
      "2024-11-09 12:15:41,158 - __main__ - INFO - Resampling\n"
     ]
    },
    {
     "name": "stdout",
     "output_type": "stream",
     "text": [
      "Patient: MDA-007\n",
      "Shapes before rotation: (263, 512, 512) (263, 512, 512) (263, 512, 512)\n",
      "Shapes after rotation: (512, 512, 263) (512, 512, 263) (512, 512, 263)\n"
     ]
    },
    {
     "name": "stderr",
     "output_type": "stream",
     "text": [
      "2024-11-09 12:16:00,977 - __main__ - INFO - Resampling\n"
     ]
    },
    {
     "name": "stdout",
     "output_type": "stream",
     "text": [
      "Patient: MDA-110\n",
      "Shapes before rotation: (115, 512, 512) (115, 512, 512) (115, 512, 512)\n",
      "Shapes after rotation: (512, 512, 115) (512, 512, 115) (512, 512, 115)\n"
     ]
    },
    {
     "name": "stderr",
     "output_type": "stream",
     "text": [
      "2024-11-09 12:16:09,869 - __main__ - INFO - Resampling\n"
     ]
    },
    {
     "name": "stdout",
     "output_type": "stream",
     "text": [
      "Patient: MDA-069\n",
      "Shapes before rotation: (127, 512, 512) (127, 512, 512) (127, 512, 512)\n",
      "Shapes after rotation: (512, 512, 127) (512, 512, 127) (512, 512, 127)\n"
     ]
    },
    {
     "name": "stderr",
     "output_type": "stream",
     "text": [
      "2024-11-09 12:16:18,557 - __main__ - INFO - Resampling\n"
     ]
    },
    {
     "name": "stdout",
     "output_type": "stream",
     "text": [
      "Patient: MDA-109\n",
      "Shapes before rotation: (335, 512, 512) (335, 512, 512) (335, 512, 512)\n",
      "Shapes after rotation: (512, 512, 335) (512, 512, 335) (512, 512, 335)\n"
     ]
    },
    {
     "name": "stderr",
     "output_type": "stream",
     "text": [
      "2024-11-09 12:16:41,598 - __main__ - INFO - Resampling\n"
     ]
    },
    {
     "name": "stdout",
     "output_type": "stream",
     "text": [
      "Round 90: 35.16% completed\n",
      "Patient: MDA-137\n",
      "Shapes before rotation: (127, 512, 512) (127, 512, 512) (127, 512, 512)\n",
      "Shapes after rotation: (512, 512, 127) (512, 512, 127) (512, 512, 127)\n"
     ]
    },
    {
     "name": "stderr",
     "output_type": "stream",
     "text": [
      "2024-11-09 12:16:50,474 - __main__ - INFO - Resampling\n"
     ]
    },
    {
     "name": "stdout",
     "output_type": "stream",
     "text": [
      "Patient: MDA-075\n",
      "Shapes before rotation: (327, 512, 512) (327, 512, 512) (327, 512, 512)\n",
      "Shapes after rotation: (512, 512, 327) (512, 512, 327) (512, 512, 327)\n"
     ]
    },
    {
     "name": "stderr",
     "output_type": "stream",
     "text": [
      "2024-11-09 12:17:14,655 - __main__ - INFO - Resampling\n"
     ]
    },
    {
     "name": "stdout",
     "output_type": "stream",
     "text": [
      "Patient: MDA-111\n",
      "Shapes before rotation: (298, 512, 512) (298, 512, 512) (298, 512, 512)\n",
      "Shapes after rotation: (512, 512, 298) (512, 512, 298) (512, 512, 298)\n"
     ]
    },
    {
     "name": "stderr",
     "output_type": "stream",
     "text": [
      "2024-11-09 12:17:33,823 - __main__ - INFO - Resampling\n"
     ]
    },
    {
     "name": "stdout",
     "output_type": "stream",
     "text": [
      "Patient: MDA-080\n",
      "Shapes before rotation: (127, 512, 512) (127, 512, 512) (127, 512, 512)\n",
      "Shapes after rotation: (512, 512, 127) (512, 512, 127) (512, 512, 127)\n"
     ]
    },
    {
     "name": "stderr",
     "output_type": "stream",
     "text": [
      "2024-11-09 12:17:42,411 - __main__ - INFO - Resampling\n"
     ]
    },
    {
     "name": "stdout",
     "output_type": "stream",
     "text": [
      "Patient: MDA-081\n",
      "Shapes before rotation: (127, 512, 512) (127, 512, 512) (127, 512, 512)\n",
      "Shapes after rotation: (512, 512, 127) (512, 512, 127) (512, 512, 127)\n"
     ]
    },
    {
     "name": "stderr",
     "output_type": "stream",
     "text": [
      "2024-11-09 12:17:51,063 - __main__ - INFO - Resampling\n"
     ]
    },
    {
     "name": "stdout",
     "output_type": "stream",
     "text": [
      "Patient: MDA-022\n",
      "Shapes before rotation: (87, 512, 512) (87, 512, 512) (87, 512, 512)\n",
      "Shapes after rotation: (512, 512, 87) (512, 512, 87) (512, 512, 87)\n"
     ]
    },
    {
     "name": "stderr",
     "output_type": "stream",
     "text": [
      "2024-11-09 12:17:57,127 - __main__ - INFO - Resampling\n"
     ]
    },
    {
     "name": "stdout",
     "output_type": "stream",
     "text": [
      "Patient: MDA-181\n",
      "Shapes before rotation: (127, 512, 512) (127, 512, 512) (127, 512, 512)\n",
      "Shapes after rotation: (512, 512, 127) (512, 512, 127) (512, 512, 127)\n"
     ]
    },
    {
     "name": "stderr",
     "output_type": "stream",
     "text": [
      "2024-11-09 12:18:06,094 - __main__ - INFO - Resampling\n"
     ]
    },
    {
     "name": "stdout",
     "output_type": "stream",
     "text": [
      "Patient: MDA-056\n",
      "Shapes before rotation: (327, 512, 512) (327, 512, 512) (327, 512, 512)\n",
      "Shapes after rotation: (512, 512, 327) (512, 512, 327) (512, 512, 327)\n"
     ]
    },
    {
     "name": "stderr",
     "output_type": "stream",
     "text": [
      "2024-11-09 12:18:28,987 - __main__ - INFO - Resampling\n"
     ]
    },
    {
     "name": "stdout",
     "output_type": "stream",
     "text": [
      "Patient: MDA-017\n",
      "Shapes before rotation: (87, 512, 512) (87, 512, 512) (87, 512, 512)\n",
      "Shapes after rotation: (512, 512, 87) (512, 512, 87) (512, 512, 87)\n"
     ]
    },
    {
     "name": "stderr",
     "output_type": "stream",
     "text": [
      "2024-11-09 12:18:35,194 - __main__ - INFO - Resampling\n"
     ]
    },
    {
     "name": "stdout",
     "output_type": "stream",
     "text": [
      "Patient: MDA-087\n",
      "Shapes before rotation: (311, 512, 512) (311, 512, 512) (311, 512, 512)\n",
      "Shapes after rotation: (512, 512, 311) (512, 512, 311) (512, 512, 311)\n"
     ]
    },
    {
     "name": "stderr",
     "output_type": "stream",
     "text": [
      "2024-11-09 12:18:57,620 - __main__ - INFO - Resampling\n"
     ]
    },
    {
     "name": "stdout",
     "output_type": "stream",
     "text": [
      "Round 100: 39.06% completed\n",
      "Patient: MDA-012\n",
      "Shapes before rotation: (91, 512, 512) (91, 512, 512) (91, 512, 512)\n",
      "Shapes after rotation: (512, 512, 91) (512, 512, 91) (512, 512, 91)\n"
     ]
    },
    {
     "name": "stderr",
     "output_type": "stream",
     "text": [
      "2024-11-09 12:19:04,110 - __main__ - INFO - Resampling\n"
     ]
    },
    {
     "name": "stdout",
     "output_type": "stream",
     "text": [
      "Patient: MDA-174\n",
      "Shapes before rotation: (87, 512, 512) (87, 512, 512) (87, 512, 512)\n",
      "Shapes after rotation: (512, 512, 87) (512, 512, 87) (512, 512, 87)\n"
     ]
    },
    {
     "name": "stderr",
     "output_type": "stream",
     "text": [
      "2024-11-09 12:19:10,710 - __main__ - INFO - Resampling\n"
     ]
    },
    {
     "name": "stdout",
     "output_type": "stream",
     "text": [
      "Patient: MDA-042\n",
      "Shapes before rotation: (127, 512, 512) (127, 512, 512) (127, 512, 512)\n",
      "Shapes after rotation: (512, 512, 127) (512, 512, 127) (512, 512, 127)\n"
     ]
    },
    {
     "name": "stderr",
     "output_type": "stream",
     "text": [
      "2024-11-09 12:19:19,401 - __main__ - INFO - Resampling\n"
     ]
    },
    {
     "name": "stdout",
     "output_type": "stream",
     "text": [
      "Patient: MDA-030\n",
      "Shapes before rotation: (267, 512, 512) (267, 512, 512) (267, 512, 512)\n",
      "Shapes after rotation: (512, 512, 267) (512, 512, 267) (512, 512, 267)\n"
     ]
    },
    {
     "name": "stderr",
     "output_type": "stream",
     "text": [
      "2024-11-09 12:19:38,720 - __main__ - INFO - Resampling\n"
     ]
    },
    {
     "name": "stdout",
     "output_type": "stream",
     "text": [
      "Patient: MDA-191\n",
      "Shapes before rotation: (127, 512, 512) (127, 512, 512) (127, 512, 512)\n",
      "Shapes after rotation: (512, 512, 127) (512, 512, 127) (512, 512, 127)\n"
     ]
    },
    {
     "name": "stderr",
     "output_type": "stream",
     "text": [
      "2024-11-09 12:19:47,316 - __main__ - INFO - Resampling\n"
     ]
    },
    {
     "name": "stdout",
     "output_type": "stream",
     "text": [
      "Patient: MDA-182\n",
      "Shapes before rotation: (91, 512, 512) (91, 512, 512) (91, 512, 512)\n",
      "Shapes after rotation: (512, 512, 91) (512, 512, 91) (512, 512, 91)\n"
     ]
    },
    {
     "name": "stderr",
     "output_type": "stream",
     "text": [
      "2024-11-09 12:19:53,547 - __main__ - INFO - Resampling\n"
     ]
    },
    {
     "name": "stdout",
     "output_type": "stream",
     "text": [
      "Patient: MDA-085\n",
      "Shapes before rotation: (127, 512, 512) (127, 512, 512) (127, 512, 512)\n",
      "Shapes after rotation: (512, 512, 127) (512, 512, 127) (512, 512, 127)\n"
     ]
    },
    {
     "name": "stderr",
     "output_type": "stream",
     "text": [
      "2024-11-09 12:20:02,159 - __main__ - INFO - Resampling\n"
     ]
    },
    {
     "name": "stdout",
     "output_type": "stream",
     "text": [
      "Patient: MDA-166\n",
      "Shapes before rotation: (91, 512, 512) (91, 512, 512) (91, 512, 512)\n",
      "Shapes after rotation: (512, 512, 91) (512, 512, 91) (512, 512, 91)\n"
     ]
    },
    {
     "name": "stderr",
     "output_type": "stream",
     "text": [
      "2024-11-09 12:20:08,660 - __main__ - INFO - Resampling\n"
     ]
    },
    {
     "name": "stdout",
     "output_type": "stream",
     "text": [
      "Patient: MDA-054\n",
      "Shapes before rotation: (127, 512, 512) (127, 512, 512) (127, 512, 512)\n",
      "Shapes after rotation: (512, 512, 127) (512, 512, 127) (512, 512, 127)\n"
     ]
    },
    {
     "name": "stderr",
     "output_type": "stream",
     "text": [
      "2024-11-09 12:20:17,342 - __main__ - INFO - Resampling\n"
     ]
    },
    {
     "name": "stdout",
     "output_type": "stream",
     "text": [
      "Patient: MDA-131\n",
      "Shapes before rotation: (127, 512, 512) (127, 512, 512) (127, 512, 512)\n",
      "Shapes after rotation: (512, 512, 127) (512, 512, 127) (512, 512, 127)\n"
     ]
    },
    {
     "name": "stderr",
     "output_type": "stream",
     "text": [
      "2024-11-09 12:20:25,840 - __main__ - INFO - Resampling\n"
     ]
    },
    {
     "name": "stdout",
     "output_type": "stream",
     "text": [
      "Round 110: 42.97% completed\n",
      "Patient: MDA-189\n",
      "Shapes before rotation: (135, 512, 512) (135, 512, 512) (135, 512, 512)\n",
      "Shapes after rotation: (512, 512, 135) (512, 512, 135) (512, 512, 135)\n"
     ]
    },
    {
     "name": "stderr",
     "output_type": "stream",
     "text": [
      "2024-11-09 12:20:35,088 - __main__ - INFO - Resampling\n"
     ]
    },
    {
     "name": "stdout",
     "output_type": "stream",
     "text": [
      "Patient: MDA-154\n",
      "Shapes before rotation: (127, 512, 512) (127, 512, 512) (127, 512, 512)\n",
      "Shapes after rotation: (512, 512, 127) (512, 512, 127) (512, 512, 127)\n"
     ]
    },
    {
     "name": "stderr",
     "output_type": "stream",
     "text": [
      "2024-11-09 12:20:43,839 - __main__ - INFO - Resampling\n"
     ]
    },
    {
     "name": "stdout",
     "output_type": "stream",
     "text": [
      "Patient: MDA-151\n",
      "Shapes before rotation: (127, 512, 512) (127, 512, 512) (127, 512, 512)\n",
      "Shapes after rotation: (512, 512, 127) (512, 512, 127) (512, 512, 127)\n"
     ]
    },
    {
     "name": "stderr",
     "output_type": "stream",
     "text": [
      "2024-11-09 12:20:52,433 - __main__ - INFO - Resampling\n"
     ]
    },
    {
     "name": "stdout",
     "output_type": "stream",
     "text": [
      "Patient: MDA-090\n",
      "Shapes before rotation: (91, 512, 512) (91, 512, 512) (91, 512, 512)\n",
      "Shapes after rotation: (512, 512, 91) (512, 512, 91) (512, 512, 91)\n"
     ]
    },
    {
     "name": "stderr",
     "output_type": "stream",
     "text": [
      "2024-11-09 12:20:58,674 - __main__ - INFO - Resampling\n"
     ]
    },
    {
     "name": "stdout",
     "output_type": "stream",
     "text": [
      "Patient: MDA-165\n",
      "Shapes before rotation: (127, 512, 512) (127, 512, 512) (127, 512, 512)\n",
      "Shapes after rotation: (512, 512, 127) (512, 512, 127) (512, 512, 127)\n"
     ]
    },
    {
     "name": "stderr",
     "output_type": "stream",
     "text": [
      "2024-11-09 12:21:07,299 - __main__ - INFO - Resampling\n"
     ]
    },
    {
     "name": "stdout",
     "output_type": "stream",
     "text": [
      "Patient: MDA-060\n",
      "Shapes before rotation: (127, 512, 512) (127, 512, 512) (127, 512, 512)\n",
      "Shapes after rotation: (512, 512, 127) (512, 512, 127) (512, 512, 127)\n"
     ]
    },
    {
     "name": "stderr",
     "output_type": "stream",
     "text": [
      "2024-11-09 12:21:15,849 - __main__ - INFO - Resampling\n"
     ]
    },
    {
     "name": "stdout",
     "output_type": "stream",
     "text": [
      "Patient: MDA-125\n",
      "Shapes before rotation: (106, 512, 512) (106, 512, 512) (106, 512, 512)\n",
      "Shapes after rotation: (512, 512, 106) (512, 512, 106) (512, 512, 106)\n"
     ]
    },
    {
     "name": "stderr",
     "output_type": "stream",
     "text": [
      "2024-11-09 12:21:24,813 - __main__ - INFO - Resampling\n"
     ]
    },
    {
     "name": "stdout",
     "output_type": "stream",
     "text": [
      "Patient: MDA-197\n",
      "Shapes before rotation: (127, 512, 512) (127, 512, 512) (127, 512, 512)\n",
      "Shapes after rotation: (512, 512, 127) (512, 512, 127) (512, 512, 127)\n"
     ]
    },
    {
     "name": "stderr",
     "output_type": "stream",
     "text": [
      "2024-11-09 12:21:33,613 - __main__ - INFO - Resampling\n"
     ]
    },
    {
     "name": "stdout",
     "output_type": "stream",
     "text": [
      "Patient: MDA-130\n",
      "Shapes before rotation: (127, 512, 512) (127, 512, 512) (127, 512, 512)\n",
      "Shapes after rotation: (512, 512, 127) (512, 512, 127) (512, 512, 127)\n"
     ]
    },
    {
     "name": "stderr",
     "output_type": "stream",
     "text": [
      "2024-11-09 12:21:42,222 - __main__ - INFO - Resampling\n"
     ]
    },
    {
     "name": "stdout",
     "output_type": "stream",
     "text": [
      "Patient: MDA-141\n",
      "Shapes before rotation: (127, 512, 512) (127, 512, 512) (127, 512, 512)\n",
      "Shapes after rotation: (512, 512, 127) (512, 512, 127) (512, 512, 127)\n"
     ]
    },
    {
     "name": "stderr",
     "output_type": "stream",
     "text": [
      "2024-11-09 12:21:51,193 - __main__ - INFO - Resampling\n"
     ]
    },
    {
     "name": "stdout",
     "output_type": "stream",
     "text": [
      "Round 120: 46.88% completed\n",
      "Patient: MDA-188\n",
      "Shapes before rotation: (311, 512, 512) (311, 512, 512) (311, 512, 512)\n",
      "Shapes after rotation: (512, 512, 311) (512, 512, 311) (512, 512, 311)\n"
     ]
    },
    {
     "name": "stderr",
     "output_type": "stream",
     "text": [
      "2024-11-09 12:22:13,972 - __main__ - INFO - Resampling\n"
     ]
    },
    {
     "name": "stdout",
     "output_type": "stream",
     "text": [
      "Patient: MDA-200\n",
      "Shapes before rotation: (267, 512, 512) (267, 512, 512) (267, 512, 512)\n",
      "Shapes after rotation: (512, 512, 267) (512, 512, 267) (512, 512, 267)\n"
     ]
    },
    {
     "name": "stderr",
     "output_type": "stream",
     "text": [
      "2024-11-09 12:22:32,700 - __main__ - INFO - Resampling\n"
     ]
    },
    {
     "name": "stdout",
     "output_type": "stream",
     "text": [
      "Patient: MDA-199\n",
      "Shapes before rotation: (127, 512, 512) (127, 512, 512) (127, 512, 512)\n",
      "Shapes after rotation: (512, 512, 127) (512, 512, 127) (512, 512, 127)\n"
     ]
    },
    {
     "name": "stderr",
     "output_type": "stream",
     "text": [
      "2024-11-09 12:22:41,521 - __main__ - INFO - Resampling\n"
     ]
    },
    {
     "name": "stdout",
     "output_type": "stream",
     "text": [
      "Patient: MDA-051\n",
      "Shapes before rotation: (127, 512, 512) (127, 512, 512) (127, 512, 512)\n",
      "Shapes after rotation: (512, 512, 127) (512, 512, 127) (512, 512, 127)\n"
     ]
    },
    {
     "name": "stderr",
     "output_type": "stream",
     "text": [
      "2024-11-09 12:22:50,106 - __main__ - INFO - Resampling\n"
     ]
    },
    {
     "name": "stdout",
     "output_type": "stream",
     "text": [
      "Patient: MDA-062\n",
      "Shapes before rotation: (127, 512, 512) (127, 512, 512) (127, 512, 512)\n",
      "Shapes after rotation: (512, 512, 127) (512, 512, 127) (512, 512, 127)\n"
     ]
    },
    {
     "name": "stderr",
     "output_type": "stream",
     "text": [
      "2024-11-09 12:22:58,770 - __main__ - INFO - Resampling\n"
     ]
    },
    {
     "name": "stdout",
     "output_type": "stream",
     "text": [
      "Patient: MDA-128\n",
      "Shapes before rotation: (106, 512, 512) (106, 512, 512) (106, 512, 512)\n",
      "Shapes after rotation: (512, 512, 106) (512, 512, 106) (512, 512, 106)\n"
     ]
    },
    {
     "name": "stderr",
     "output_type": "stream",
     "text": [
      "2024-11-09 12:23:07,603 - __main__ - INFO - Resampling\n"
     ]
    },
    {
     "name": "stdout",
     "output_type": "stream",
     "text": [
      "Patient: MDA-102\n",
      "Shapes before rotation: (311, 512, 512) (311, 512, 512) (311, 512, 512)\n",
      "Shapes after rotation: (512, 512, 311) (512, 512, 311) (512, 512, 311)\n"
     ]
    },
    {
     "name": "stderr",
     "output_type": "stream",
     "text": [
      "2024-11-09 12:23:29,630 - __main__ - INFO - Resampling\n"
     ]
    },
    {
     "name": "stdout",
     "output_type": "stream",
     "text": [
      "Patient: MDA-103\n",
      "Shapes before rotation: (311, 512, 512) (311, 512, 512) (311, 512, 512)\n",
      "Shapes after rotation: (512, 512, 311) (512, 512, 311) (512, 512, 311)\n"
     ]
    },
    {
     "name": "stderr",
     "output_type": "stream",
     "text": [
      "2024-11-09 12:23:51,623 - __main__ - INFO - Resampling\n"
     ]
    },
    {
     "name": "stdout",
     "output_type": "stream",
     "text": [
      "Patient: MDA-010\n",
      "Shapes before rotation: (91, 512, 512) (91, 512, 512) (91, 512, 512)\n",
      "Shapes after rotation: (512, 512, 91) (512, 512, 91) (512, 512, 91)\n"
     ]
    },
    {
     "name": "stderr",
     "output_type": "stream",
     "text": [
      "2024-11-09 12:23:57,774 - __main__ - INFO - Resampling\n"
     ]
    },
    {
     "name": "stdout",
     "output_type": "stream",
     "text": [
      "Patient: MDA-161\n",
      "Shapes before rotation: (299, 512, 512) (299, 512, 512) (299, 512, 512)\n",
      "Shapes after rotation: (512, 512, 299) (512, 512, 299) (512, 512, 299)\n"
     ]
    },
    {
     "name": "stderr",
     "output_type": "stream",
     "text": [
      "2024-11-09 12:24:18,275 - __main__ - INFO - Resampling\n"
     ]
    },
    {
     "name": "stdout",
     "output_type": "stream",
     "text": [
      "Round 130: 50.78% completed\n",
      "Patient: MDA-185\n",
      "Shapes before rotation: (127, 512, 512) (127, 512, 512) (127, 512, 512)\n",
      "Shapes after rotation: (512, 512, 127) (512, 512, 127) (512, 512, 127)\n"
     ]
    },
    {
     "name": "stderr",
     "output_type": "stream",
     "text": [
      "2024-11-09 12:24:26,818 - __main__ - INFO - Resampling\n"
     ]
    },
    {
     "name": "stdout",
     "output_type": "stream",
     "text": [
      "Patient: MDA-073\n",
      "Shapes before rotation: (127, 512, 512) (127, 512, 512) (127, 512, 512)\n",
      "Shapes after rotation: (512, 512, 127) (512, 512, 127) (512, 512, 127)\n"
     ]
    },
    {
     "name": "stderr",
     "output_type": "stream",
     "text": [
      "2024-11-09 12:24:35,539 - __main__ - INFO - Resampling\n"
     ]
    },
    {
     "name": "stdout",
     "output_type": "stream",
     "text": [
      "Patient: MDA-124\n",
      "Shapes before rotation: (119, 512, 512) (119, 512, 512) (119, 512, 512)\n",
      "Shapes after rotation: (512, 512, 119) (512, 512, 119) (512, 512, 119)\n"
     ]
    },
    {
     "name": "stderr",
     "output_type": "stream",
     "text": [
      "2024-11-09 12:24:43,992 - __main__ - INFO - Resampling\n"
     ]
    },
    {
     "name": "stdout",
     "output_type": "stream",
     "text": [
      "Patient: MDA-084\n",
      "Shapes before rotation: (127, 512, 512) (127, 512, 512) (127, 512, 512)\n",
      "Shapes after rotation: (512, 512, 127) (512, 512, 127) (512, 512, 127)\n"
     ]
    },
    {
     "name": "stderr",
     "output_type": "stream",
     "text": [
      "2024-11-09 12:24:52,803 - __main__ - INFO - Resampling\n"
     ]
    },
    {
     "name": "stdout",
     "output_type": "stream",
     "text": [
      "Patient: MDA-026\n",
      "Shapes before rotation: (127, 512, 512) (127, 512, 512) (127, 512, 512)\n",
      "Shapes after rotation: (512, 512, 127) (512, 512, 127) (512, 512, 127)\n"
     ]
    },
    {
     "name": "stderr",
     "output_type": "stream",
     "text": [
      "2024-11-09 12:25:01,330 - __main__ - INFO - Resampling\n"
     ]
    },
    {
     "name": "stdout",
     "output_type": "stream",
     "text": [
      "Patient: MDA-158\n",
      "Shapes before rotation: (127, 512, 512) (127, 512, 512) (127, 512, 512)\n",
      "Shapes after rotation: (512, 512, 127) (512, 512, 127) (512, 512, 127)\n"
     ]
    },
    {
     "name": "stderr",
     "output_type": "stream",
     "text": [
      "2024-11-09 12:25:09,989 - __main__ - INFO - Resampling\n"
     ]
    },
    {
     "name": "stdout",
     "output_type": "stream",
     "text": [
      "Patient: MDA-079\n",
      "Shapes before rotation: (127, 512, 512) (127, 512, 512) (127, 512, 512)\n",
      "Shapes after rotation: (512, 512, 127) (512, 512, 127) (512, 512, 127)\n"
     ]
    },
    {
     "name": "stderr",
     "output_type": "stream",
     "text": [
      "2024-11-09 12:25:18,512 - __main__ - INFO - Resampling\n"
     ]
    },
    {
     "name": "stdout",
     "output_type": "stream",
     "text": [
      "Patient: MDA-015\n",
      "Shapes before rotation: (135, 512, 512) (135, 512, 512) (135, 512, 512)\n",
      "Shapes after rotation: (512, 512, 135) (512, 512, 135) (512, 512, 135)\n"
     ]
    },
    {
     "name": "stderr",
     "output_type": "stream",
     "text": [
      "2024-11-09 12:25:27,754 - __main__ - INFO - Resampling\n"
     ]
    },
    {
     "name": "stdout",
     "output_type": "stream",
     "text": [
      "Patient: MDA-029\n",
      "Shapes before rotation: (302, 512, 512) (302, 512, 512) (302, 512, 512)\n",
      "Shapes after rotation: (512, 512, 302) (512, 512, 302) (512, 512, 302)\n"
     ]
    },
    {
     "name": "stderr",
     "output_type": "stream",
     "text": [
      "2024-11-09 12:25:48,667 - __main__ - INFO - Resampling\n"
     ]
    },
    {
     "name": "stdout",
     "output_type": "stream",
     "text": [
      "Patient: MDA-129\n",
      "Shapes before rotation: (127, 512, 512) (127, 512, 512) (127, 512, 512)\n",
      "Shapes after rotation: (512, 512, 127) (512, 512, 127) (512, 512, 127)\n"
     ]
    },
    {
     "name": "stderr",
     "output_type": "stream",
     "text": [
      "2024-11-09 12:25:57,411 - __main__ - INFO - Resampling\n"
     ]
    },
    {
     "name": "stdout",
     "output_type": "stream",
     "text": [
      "Round 140: 54.69% completed\n",
      "Patient: MDA-167\n",
      "Shapes before rotation: (91, 512, 512) (91, 512, 512) (91, 512, 512)\n",
      "Shapes after rotation: (512, 512, 91) (512, 512, 91) (512, 512, 91)\n"
     ]
    },
    {
     "name": "stderr",
     "output_type": "stream",
     "text": [
      "2024-11-09 12:26:03,782 - __main__ - INFO - Resampling\n"
     ]
    },
    {
     "name": "stdout",
     "output_type": "stream",
     "text": [
      "Patient: MDA-106\n",
      "Shapes before rotation: (119, 512, 512) (119, 512, 512) (119, 512, 512)\n",
      "Shapes after rotation: (512, 512, 119) (512, 512, 119) (512, 512, 119)\n"
     ]
    },
    {
     "name": "stderr",
     "output_type": "stream",
     "text": [
      "2024-11-09 12:26:12,447 - __main__ - INFO - Resampling\n"
     ]
    },
    {
     "name": "stdout",
     "output_type": "stream",
     "text": [
      "Patient: MDA-177\n",
      "Shapes before rotation: (127, 512, 512) (127, 512, 512) (127, 512, 512)\n",
      "Shapes after rotation: (512, 512, 127) (512, 512, 127) (512, 512, 127)\n"
     ]
    },
    {
     "name": "stderr",
     "output_type": "stream",
     "text": [
      "2024-11-09 12:26:21,094 - __main__ - INFO - Resampling\n"
     ]
    },
    {
     "name": "stdout",
     "output_type": "stream",
     "text": [
      "Patient: MDA-142\n",
      "Shapes before rotation: (127, 512, 512) (127, 512, 512) (127, 512, 512)\n",
      "Shapes after rotation: (512, 512, 127) (512, 512, 127) (512, 512, 127)\n"
     ]
    },
    {
     "name": "stderr",
     "output_type": "stream",
     "text": [
      "2024-11-09 12:26:29,723 - __main__ - INFO - Resampling\n"
     ]
    },
    {
     "name": "stdout",
     "output_type": "stream",
     "text": [
      "Patient: MDA-180\n",
      "Shapes before rotation: (127, 512, 512) (127, 512, 512) (127, 512, 512)\n",
      "Shapes after rotation: (512, 512, 127) (512, 512, 127) (512, 512, 127)\n"
     ]
    },
    {
     "name": "stderr",
     "output_type": "stream",
     "text": [
      "2024-11-09 12:26:38,241 - __main__ - INFO - Resampling\n"
     ]
    },
    {
     "name": "stdout",
     "output_type": "stream",
     "text": [
      "Patient: MDA-171\n",
      "Shapes before rotation: (91, 512, 512) (91, 512, 512) (91, 512, 512)\n",
      "Shapes after rotation: (512, 512, 91) (512, 512, 91) (512, 512, 91)\n"
     ]
    },
    {
     "name": "stderr",
     "output_type": "stream",
     "text": [
      "2024-11-09 12:26:44,574 - __main__ - INFO - Resampling\n"
     ]
    },
    {
     "name": "stdout",
     "output_type": "stream",
     "text": [
      "Patient: MDA-136\n",
      "Shapes before rotation: (127, 512, 512) (127, 512, 512) (127, 512, 512)\n",
      "Shapes after rotation: (512, 512, 127) (512, 512, 127) (512, 512, 127)\n"
     ]
    },
    {
     "name": "stderr",
     "output_type": "stream",
     "text": [
      "2024-11-09 12:26:53,177 - __main__ - INFO - Resampling\n"
     ]
    },
    {
     "name": "stdout",
     "output_type": "stream",
     "text": [
      "Patient: MDA-003\n",
      "Shapes before rotation: (267, 512, 512) (267, 512, 512) (267, 512, 512)\n",
      "Shapes after rotation: (512, 512, 267) (512, 512, 267) (512, 512, 267)\n"
     ]
    },
    {
     "name": "stderr",
     "output_type": "stream",
     "text": [
      "2024-11-09 12:27:12,047 - __main__ - INFO - Resampling\n"
     ]
    },
    {
     "name": "stdout",
     "output_type": "stream",
     "text": [
      "Patient: MDA-028\n",
      "Shapes before rotation: (127, 512, 512) (127, 512, 512) (127, 512, 512)\n",
      "Shapes after rotation: (512, 512, 127) (512, 512, 127) (512, 512, 127)\n"
     ]
    },
    {
     "name": "stderr",
     "output_type": "stream",
     "text": [
      "2024-11-09 12:27:20,780 - __main__ - INFO - Resampling\n"
     ]
    },
    {
     "name": "stdout",
     "output_type": "stream",
     "text": [
      "Patient: MDA-057\n",
      "Shapes before rotation: (311, 512, 512) (311, 512, 512) (311, 512, 512)\n",
      "Shapes after rotation: (512, 512, 311) (512, 512, 311) (512, 512, 311)\n"
     ]
    },
    {
     "name": "stderr",
     "output_type": "stream",
     "text": [
      "2024-11-09 12:27:42,201 - __main__ - INFO - Resampling\n"
     ]
    },
    {
     "name": "stdout",
     "output_type": "stream",
     "text": [
      "Round 150: 58.59% completed\n",
      "Patient: MDA-063\n",
      "Shapes before rotation: (299, 512, 512) (299, 512, 512) (299, 512, 512)\n",
      "Shapes after rotation: (512, 512, 299) (512, 512, 299) (512, 512, 299)\n"
     ]
    },
    {
     "name": "stderr",
     "output_type": "stream",
     "text": [
      "2024-11-09 12:28:03,134 - __main__ - INFO - Resampling\n"
     ]
    },
    {
     "name": "stdout",
     "output_type": "stream",
     "text": [
      "Patient: MDA-077\n",
      "Shapes before rotation: (127, 512, 512) (127, 512, 512) (127, 512, 512)\n",
      "Shapes after rotation: (512, 512, 127) (512, 512, 127) (512, 512, 127)\n"
     ]
    },
    {
     "name": "stderr",
     "output_type": "stream",
     "text": [
      "2024-11-09 12:28:12,005 - __main__ - INFO - Resampling\n"
     ]
    },
    {
     "name": "stdout",
     "output_type": "stream",
     "text": [
      "Patient: MDA-107\n",
      "Shapes before rotation: (119, 512, 512) (119, 512, 512) (119, 512, 512)\n",
      "Shapes after rotation: (512, 512, 119) (512, 512, 119) (512, 512, 119)\n"
     ]
    },
    {
     "name": "stderr",
     "output_type": "stream",
     "text": [
      "2024-11-09 12:28:20,279 - __main__ - INFO - Resampling\n"
     ]
    },
    {
     "name": "stdout",
     "output_type": "stream",
     "text": [
      "Patient: MDA-193\n",
      "Shapes before rotation: (127, 512, 512) (127, 512, 512) (127, 512, 512)\n",
      "Shapes after rotation: (512, 512, 127) (512, 512, 127) (512, 512, 127)\n"
     ]
    },
    {
     "name": "stderr",
     "output_type": "stream",
     "text": [
      "2024-11-09 12:28:28,831 - __main__ - INFO - Resampling\n"
     ]
    },
    {
     "name": "stdout",
     "output_type": "stream",
     "text": [
      "Patient: MDA-096\n",
      "Shapes before rotation: (127, 512, 512) (127, 512, 512) (127, 512, 512)\n",
      "Shapes after rotation: (512, 512, 127) (512, 512, 127) (512, 512, 127)\n"
     ]
    },
    {
     "name": "stderr",
     "output_type": "stream",
     "text": [
      "2024-11-09 12:28:37,335 - __main__ - INFO - Resampling\n"
     ]
    },
    {
     "name": "stdout",
     "output_type": "stream",
     "text": [
      "Patient: MDA-074\n",
      "Shapes before rotation: (337, 512, 512) (337, 512, 512) (337, 512, 512)\n",
      "Shapes after rotation: (512, 512, 337) (512, 512, 337) (512, 512, 337)\n"
     ]
    },
    {
     "name": "stderr",
     "output_type": "stream",
     "text": [
      "2024-11-09 12:28:59,561 - __main__ - INFO - Resampling\n"
     ]
    },
    {
     "name": "stdout",
     "output_type": "stream",
     "text": [
      "Patient: MDA-152\n",
      "Shapes before rotation: (127, 512, 512) (127, 512, 512) (127, 512, 512)\n",
      "Shapes after rotation: (512, 512, 127) (512, 512, 127) (512, 512, 127)\n"
     ]
    },
    {
     "name": "stderr",
     "output_type": "stream",
     "text": [
      "2024-11-09 12:29:08,394 - __main__ - INFO - Resampling\n"
     ]
    },
    {
     "name": "stdout",
     "output_type": "stream",
     "text": [
      "Patient: MDA-145\n",
      "Shapes before rotation: (87, 512, 512) (87, 512, 512) (87, 512, 512)\n",
      "Shapes after rotation: (512, 512, 87) (512, 512, 87) (512, 512, 87)\n"
     ]
    },
    {
     "name": "stderr",
     "output_type": "stream",
     "text": [
      "2024-11-09 12:29:14,787 - __main__ - INFO - Resampling\n"
     ]
    },
    {
     "name": "stdout",
     "output_type": "stream",
     "text": [
      "Patient: MDA-198\n",
      "Shapes before rotation: (127, 512, 512) (127, 512, 512) (127, 512, 512)\n",
      "Shapes after rotation: (512, 512, 127) (512, 512, 127) (512, 512, 127)\n"
     ]
    },
    {
     "name": "stderr",
     "output_type": "stream",
     "text": [
      "2024-11-09 12:29:23,521 - __main__ - INFO - Resampling\n"
     ]
    },
    {
     "name": "stdout",
     "output_type": "stream",
     "text": [
      "Patient: MDA-105\n",
      "Shapes before rotation: (119, 512, 512) (119, 512, 512) (119, 512, 512)\n",
      "Shapes after rotation: (512, 512, 119) (512, 512, 119) (512, 512, 119)\n"
     ]
    },
    {
     "name": "stderr",
     "output_type": "stream",
     "text": [
      "2024-11-09 12:29:31,724 - __main__ - INFO - Resampling\n"
     ]
    },
    {
     "name": "stdout",
     "output_type": "stream",
     "text": [
      "Round 160: 62.50% completed\n",
      "Patient: MDA-138\n",
      "Shapes before rotation: (127, 512, 512) (127, 512, 512) (127, 512, 512)\n",
      "Shapes after rotation: (512, 512, 127) (512, 512, 127) (512, 512, 127)\n"
     ]
    },
    {
     "name": "stderr",
     "output_type": "stream",
     "text": [
      "2024-11-09 12:29:40,444 - __main__ - INFO - Resampling\n"
     ]
    },
    {
     "name": "stdout",
     "output_type": "stream",
     "text": [
      "Patient: MDA-070\n",
      "Shapes before rotation: (127, 512, 512) (127, 512, 512) (127, 512, 512)\n",
      "Shapes after rotation: (512, 512, 127) (512, 512, 127) (512, 512, 127)\n"
     ]
    },
    {
     "name": "stderr",
     "output_type": "stream",
     "text": [
      "2024-11-09 12:29:49,324 - __main__ - INFO - Resampling\n"
     ]
    },
    {
     "name": "stdout",
     "output_type": "stream",
     "text": [
      "Patient: MDA-014\n",
      "Shapes before rotation: (91, 512, 512) (91, 512, 512) (91, 512, 512)\n",
      "Shapes after rotation: (512, 512, 91) (512, 512, 91) (512, 512, 91)\n"
     ]
    },
    {
     "name": "stderr",
     "output_type": "stream",
     "text": [
      "2024-11-09 12:29:55,543 - __main__ - INFO - Resampling\n"
     ]
    },
    {
     "name": "stdout",
     "output_type": "stream",
     "text": [
      "Patient: MDA-196\n",
      "Shapes before rotation: (127, 512, 512) (127, 512, 512) (127, 512, 512)\n",
      "Shapes after rotation: (512, 512, 127) (512, 512, 127) (512, 512, 127)\n"
     ]
    },
    {
     "name": "stderr",
     "output_type": "stream",
     "text": [
      "2024-11-09 12:30:04,227 - __main__ - INFO - Resampling\n"
     ]
    },
    {
     "name": "stdout",
     "output_type": "stream",
     "text": [
      "Patient: MDA-123\n",
      "Shapes before rotation: (267, 512, 512) (267, 512, 512) (267, 512, 512)\n",
      "Shapes after rotation: (512, 512, 267) (512, 512, 267) (512, 512, 267)\n"
     ]
    },
    {
     "name": "stderr",
     "output_type": "stream",
     "text": [
      "2024-11-09 12:30:22,605 - __main__ - INFO - Resampling\n"
     ]
    },
    {
     "name": "stdout",
     "output_type": "stream",
     "text": [
      "Patient: MDA-170\n",
      "Shapes before rotation: (311, 512, 512) (311, 512, 512) (311, 512, 512)\n",
      "Shapes after rotation: (512, 512, 311) (512, 512, 311) (512, 512, 311)\n"
     ]
    },
    {
     "name": "stderr",
     "output_type": "stream",
     "text": [
      "2024-11-09 12:30:43,685 - __main__ - INFO - Resampling\n"
     ]
    },
    {
     "name": "stdout",
     "output_type": "stream",
     "text": [
      "Patient: MDA-037\n",
      "Shapes before rotation: (127, 512, 512) (127, 512, 512) (127, 512, 512)\n",
      "Shapes after rotation: (512, 512, 127) (512, 512, 127) (512, 512, 127)\n"
     ]
    },
    {
     "name": "stderr",
     "output_type": "stream",
     "text": [
      "2024-11-09 12:30:52,160 - __main__ - INFO - Resampling\n"
     ]
    },
    {
     "name": "stdout",
     "output_type": "stream",
     "text": [
      "Patient: MDA-035\n",
      "Shapes before rotation: (311, 512, 512) (311, 512, 512) (311, 512, 512)\n",
      "Shapes after rotation: (512, 512, 311) (512, 512, 311) (512, 512, 311)\n"
     ]
    },
    {
     "name": "stderr",
     "output_type": "stream",
     "text": [
      "2024-11-09 12:31:13,366 - __main__ - INFO - Resampling\n"
     ]
    },
    {
     "name": "stdout",
     "output_type": "stream",
     "text": [
      "Patient: MDA-104\n",
      "Shapes before rotation: (119, 512, 512) (119, 512, 512) (119, 512, 512)\n",
      "Shapes after rotation: (512, 512, 119) (512, 512, 119) (512, 512, 119)\n"
     ]
    },
    {
     "name": "stderr",
     "output_type": "stream",
     "text": [
      "2024-11-09 12:31:21,449 - __main__ - INFO - Resampling\n"
     ]
    },
    {
     "name": "stdout",
     "output_type": "stream",
     "text": [
      "Patient: MDA-019\n",
      "Shapes before rotation: (127, 512, 512) (127, 512, 512) (127, 512, 512)\n",
      "Shapes after rotation: (512, 512, 127) (512, 512, 127) (512, 512, 127)\n"
     ]
    },
    {
     "name": "stderr",
     "output_type": "stream",
     "text": [
      "2024-11-09 12:31:30,048 - __main__ - INFO - Resampling\n"
     ]
    },
    {
     "name": "stdout",
     "output_type": "stream",
     "text": [
      "Round 170: 66.41% completed\n",
      "Patient: MDA-178\n",
      "Shapes before rotation: (247, 512, 512) (247, 512, 512) (247, 512, 512)\n",
      "Shapes after rotation: (512, 512, 247) (512, 512, 247) (512, 512, 247)\n"
     ]
    },
    {
     "name": "stderr",
     "output_type": "stream",
     "text": [
      "2024-11-09 12:31:47,575 - __main__ - INFO - Resampling\n"
     ]
    },
    {
     "name": "stdout",
     "output_type": "stream",
     "text": [
      "Patient: MDA-186\n",
      "Shapes before rotation: (127, 512, 512) (127, 512, 512) (127, 512, 512)\n",
      "Shapes after rotation: (512, 512, 127) (512, 512, 127) (512, 512, 127)\n"
     ]
    },
    {
     "name": "stderr",
     "output_type": "stream",
     "text": [
      "2024-11-09 12:31:56,218 - __main__ - INFO - Resampling\n"
     ]
    },
    {
     "name": "stdout",
     "output_type": "stream",
     "text": [
      "Patient: MDA-126\n",
      "Shapes before rotation: (127, 512, 512) (127, 512, 512) (127, 512, 512)\n",
      "Shapes after rotation: (512, 512, 127) (512, 512, 127) (512, 512, 127)\n"
     ]
    },
    {
     "name": "stderr",
     "output_type": "stream",
     "text": [
      "2024-11-09 12:32:05,016 - __main__ - INFO - Resampling\n"
     ]
    },
    {
     "name": "stdout",
     "output_type": "stream",
     "text": [
      "Patient: MDA-066\n",
      "Shapes before rotation: (127, 512, 512) (127, 512, 512) (127, 512, 512)\n",
      "Shapes after rotation: (512, 512, 127) (512, 512, 127) (512, 512, 127)\n"
     ]
    },
    {
     "name": "stderr",
     "output_type": "stream",
     "text": [
      "2024-11-09 12:32:14,290 - __main__ - INFO - Resampling\n"
     ]
    },
    {
     "name": "stdout",
     "output_type": "stream",
     "text": [
      "Patient: MDA-160\n",
      "Shapes before rotation: (127, 512, 512) (127, 512, 512) (127, 512, 512)\n",
      "Shapes after rotation: (512, 512, 127) (512, 512, 127) (512, 512, 127)\n"
     ]
    },
    {
     "name": "stderr",
     "output_type": "stream",
     "text": [
      "2024-11-09 12:32:22,878 - __main__ - INFO - Resampling\n"
     ]
    },
    {
     "name": "stdout",
     "output_type": "stream",
     "text": [
      "Patient: MDA-122\n",
      "Shapes before rotation: (298, 512, 512) (298, 512, 512) (298, 512, 512)\n",
      "Shapes after rotation: (512, 512, 298) (512, 512, 298) (512, 512, 298)\n"
     ]
    },
    {
     "name": "stderr",
     "output_type": "stream",
     "text": [
      "2024-11-09 12:32:44,436 - __main__ - INFO - Resampling\n"
     ]
    },
    {
     "name": "stdout",
     "output_type": "stream",
     "text": [
      "Patient: MDA-135\n",
      "Shapes before rotation: (127, 512, 512) (127, 512, 512) (127, 512, 512)\n",
      "Shapes after rotation: (512, 512, 127) (512, 512, 127) (512, 512, 127)\n"
     ]
    },
    {
     "name": "stderr",
     "output_type": "stream",
     "text": [
      "2024-11-09 12:32:53,194 - __main__ - INFO - Resampling\n"
     ]
    },
    {
     "name": "stdout",
     "output_type": "stream",
     "text": [
      "Patient: MDA-201\n",
      "Shapes before rotation: (127, 512, 512) (127, 512, 512) (127, 512, 512)\n",
      "Shapes after rotation: (512, 512, 127) (512, 512, 127) (512, 512, 127)\n"
     ]
    },
    {
     "name": "stderr",
     "output_type": "stream",
     "text": [
      "2024-11-09 12:33:02,179 - __main__ - INFO - Resampling\n"
     ]
    },
    {
     "name": "stdout",
     "output_type": "stream",
     "text": [
      "Patient: MDA-115\n",
      "Shapes before rotation: (127, 512, 512) (127, 512, 512) (127, 512, 512)\n",
      "Shapes after rotation: (512, 512, 127) (512, 512, 127) (512, 512, 127)\n"
     ]
    },
    {
     "name": "stderr",
     "output_type": "stream",
     "text": [
      "2024-11-09 12:33:10,749 - __main__ - INFO - Resampling\n"
     ]
    },
    {
     "name": "stdout",
     "output_type": "stream",
     "text": [
      "Patient: MDA-036\n",
      "Shapes before rotation: (267, 512, 512) (267, 512, 512) (267, 512, 512)\n",
      "Shapes after rotation: (512, 512, 267) (512, 512, 267) (512, 512, 267)\n"
     ]
    },
    {
     "name": "stderr",
     "output_type": "stream",
     "text": [
      "2024-11-09 12:33:28,981 - __main__ - INFO - Resampling\n"
     ]
    },
    {
     "name": "stdout",
     "output_type": "stream",
     "text": [
      "Round 180: 70.31% completed\n",
      "Patient: MDA-072\n",
      "Shapes before rotation: (311, 512, 512) (311, 512, 512) (311, 512, 512)\n",
      "Shapes after rotation: (512, 512, 311) (512, 512, 311) (512, 512, 311)\n"
     ]
    },
    {
     "name": "stderr",
     "output_type": "stream",
     "text": [
      "2024-11-09 12:33:50,691 - __main__ - INFO - Resampling\n"
     ]
    },
    {
     "name": "stdout",
     "output_type": "stream",
     "text": [
      "Patient: MDA-094\n",
      "Shapes before rotation: (127, 512, 512) (127, 512, 512) (127, 512, 512)\n",
      "Shapes after rotation: (512, 512, 127) (512, 512, 127) (512, 512, 127)\n"
     ]
    },
    {
     "name": "stderr",
     "output_type": "stream",
     "text": [
      "2024-11-09 12:33:59,646 - __main__ - INFO - Resampling\n"
     ]
    },
    {
     "name": "stdout",
     "output_type": "stream",
     "text": [
      "Patient: MDA-140\n",
      "Shapes before rotation: (127, 512, 512) (127, 512, 512) (127, 512, 512)\n",
      "Shapes after rotation: (512, 512, 127) (512, 512, 127) (512, 512, 127)\n"
     ]
    },
    {
     "name": "stderr",
     "output_type": "stream",
     "text": [
      "2024-11-09 12:34:08,289 - __main__ - INFO - Resampling\n"
     ]
    },
    {
     "name": "stdout",
     "output_type": "stream",
     "text": [
      "Patient: CHUP-016\n",
      "Shapes before rotation: (260, 512, 512) (260, 512, 512) (260, 512, 512)\n",
      "Shapes after rotation: (512, 512, 260) (512, 512, 260) (512, 512, 260)\n"
     ]
    },
    {
     "name": "stderr",
     "output_type": "stream",
     "text": [
      "2024-11-09 12:34:31,378 - __main__ - INFO - Resampling\n"
     ]
    },
    {
     "name": "stdout",
     "output_type": "stream",
     "text": [
      "Patient: CHUP-003\n",
      "Shapes before rotation: (298, 512, 512) (298, 512, 512) (298, 512, 512)\n",
      "Shapes after rotation: (512, 512, 298) (512, 512, 298) (512, 512, 298)\n"
     ]
    },
    {
     "name": "stderr",
     "output_type": "stream",
     "text": [
      "2024-11-09 12:34:57,355 - __main__ - INFO - Resampling\n"
     ]
    },
    {
     "name": "stdout",
     "output_type": "stream",
     "text": [
      "Patient: CHUP-017\n",
      "Shapes before rotation: (298, 512, 512) (298, 512, 512) (298, 512, 512)\n",
      "Shapes after rotation: (512, 512, 298) (512, 512, 298) (512, 512, 298)\n"
     ]
    },
    {
     "name": "stderr",
     "output_type": "stream",
     "text": [
      "2024-11-09 12:35:23,952 - __main__ - INFO - Resampling\n"
     ]
    },
    {
     "name": "stdout",
     "output_type": "stream",
     "text": [
      "Patient: CHUP-041\n",
      "Shapes before rotation: (298, 512, 512) (298, 512, 512) (298, 512, 512)\n",
      "Shapes after rotation: (512, 512, 298) (512, 512, 298) (512, 512, 298)\n"
     ]
    },
    {
     "name": "stderr",
     "output_type": "stream",
     "text": [
      "2024-11-09 12:35:49,671 - __main__ - INFO - Resampling\n"
     ]
    },
    {
     "name": "stdout",
     "output_type": "stream",
     "text": [
      "Patient: CHUP-037\n",
      "Shapes before rotation: (298, 512, 512) (298, 512, 512) (298, 512, 512)\n",
      "Shapes after rotation: (512, 512, 298) (512, 512, 298) (512, 512, 298)\n"
     ]
    },
    {
     "name": "stderr",
     "output_type": "stream",
     "text": [
      "2024-11-09 12:36:16,431 - __main__ - INFO - Resampling\n"
     ]
    },
    {
     "name": "stdout",
     "output_type": "stream",
     "text": [
      "Patient: CHUP-010\n",
      "Shapes before rotation: (298, 512, 512) (298, 512, 512) (298, 512, 512)\n",
      "Shapes after rotation: (512, 512, 298) (512, 512, 298) (512, 512, 298)\n"
     ]
    },
    {
     "name": "stderr",
     "output_type": "stream",
     "text": [
      "2024-11-09 12:36:43,663 - __main__ - INFO - Resampling\n"
     ]
    },
    {
     "name": "stdout",
     "output_type": "stream",
     "text": [
      "Patient: CHUP-050\n",
      "Shapes before rotation: (298, 512, 512) (298, 512, 512) (298, 512, 512)\n",
      "Shapes after rotation: (512, 512, 298) (512, 512, 298) (512, 512, 298)\n"
     ]
    },
    {
     "name": "stderr",
     "output_type": "stream",
     "text": [
      "2024-11-09 12:37:10,035 - __main__ - INFO - Resampling\n"
     ]
    },
    {
     "name": "stdout",
     "output_type": "stream",
     "text": [
      "Round 190: 74.22% completed\n",
      "Patient: CHUP-068\n",
      "Shapes before rotation: (298, 512, 512) (298, 512, 512) (298, 512, 512)\n",
      "Shapes after rotation: (512, 512, 298) (512, 512, 298) (512, 512, 298)\n"
     ]
    },
    {
     "name": "stderr",
     "output_type": "stream",
     "text": [
      "2024-11-09 12:37:36,650 - __main__ - INFO - Resampling\n"
     ]
    },
    {
     "name": "stdout",
     "output_type": "stream",
     "text": [
      "Patient: CHUP-026\n",
      "Shapes before rotation: (298, 512, 512) (298, 512, 512) (298, 512, 512)\n",
      "Shapes after rotation: (512, 512, 298) (512, 512, 298) (512, 512, 298)\n"
     ]
    },
    {
     "name": "stderr",
     "output_type": "stream",
     "text": [
      "2024-11-09 12:38:03,527 - __main__ - INFO - Resampling\n"
     ]
    },
    {
     "name": "stdout",
     "output_type": "stream",
     "text": [
      "Patient: CHUP-018\n",
      "Shapes before rotation: (260, 512, 512) (260, 512, 512) (260, 512, 512)\n",
      "Shapes after rotation: (512, 512, 260) (512, 512, 260) (512, 512, 260)\n"
     ]
    },
    {
     "name": "stderr",
     "output_type": "stream",
     "text": [
      "2024-11-09 12:38:26,947 - __main__ - INFO - Resampling\n"
     ]
    },
    {
     "name": "stdout",
     "output_type": "stream",
     "text": [
      "Patient: CHUP-043\n",
      "Shapes before rotation: (298, 512, 512) (298, 512, 512) (298, 512, 512)\n",
      "Shapes after rotation: (512, 512, 298) (512, 512, 298) (512, 512, 298)\n"
     ]
    },
    {
     "name": "stderr",
     "output_type": "stream",
     "text": [
      "2024-11-09 12:38:53,035 - __main__ - INFO - Resampling\n"
     ]
    },
    {
     "name": "stdout",
     "output_type": "stream",
     "text": [
      "Patient: CHUP-060\n",
      "Shapes before rotation: (260, 512, 512) (260, 512, 512) (260, 512, 512)\n",
      "Shapes after rotation: (512, 512, 260) (512, 512, 260) (512, 512, 260)\n"
     ]
    },
    {
     "name": "stderr",
     "output_type": "stream",
     "text": [
      "2024-11-09 12:39:15,978 - __main__ - INFO - Resampling\n"
     ]
    },
    {
     "name": "stdout",
     "output_type": "stream",
     "text": [
      "Patient: CHUP-036\n",
      "Shapes before rotation: (260, 512, 512) (260, 512, 512) (260, 512, 512)\n",
      "Shapes after rotation: (512, 512, 260) (512, 512, 260) (512, 512, 260)\n"
     ]
    },
    {
     "name": "stderr",
     "output_type": "stream",
     "text": [
      "2024-11-09 12:39:38,590 - __main__ - INFO - Resampling\n"
     ]
    },
    {
     "name": "stdout",
     "output_type": "stream",
     "text": [
      "Patient: CHUP-062\n",
      "Shapes before rotation: (298, 512, 512) (298, 512, 512) (298, 512, 512)\n",
      "Shapes after rotation: (512, 512, 298) (512, 512, 298) (512, 512, 298)\n"
     ]
    },
    {
     "name": "stderr",
     "output_type": "stream",
     "text": [
      "2024-11-09 12:40:05,819 - __main__ - INFO - Resampling\n"
     ]
    },
    {
     "name": "stdout",
     "output_type": "stream",
     "text": [
      "Patient: CHUP-039\n",
      "Shapes before rotation: (260, 512, 512) (260, 512, 512) (260, 512, 512)\n",
      "Shapes after rotation: (512, 512, 260) (512, 512, 260) (512, 512, 260)\n"
     ]
    },
    {
     "name": "stderr",
     "output_type": "stream",
     "text": [
      "2024-11-09 12:40:28,878 - __main__ - INFO - Resampling\n"
     ]
    },
    {
     "name": "stdout",
     "output_type": "stream",
     "text": [
      "Patient: CHUP-064\n",
      "Shapes before rotation: (260, 512, 512) (260, 512, 512) (260, 512, 512)\n",
      "Shapes after rotation: (512, 512, 260) (512, 512, 260) (512, 512, 260)\n"
     ]
    },
    {
     "name": "stderr",
     "output_type": "stream",
     "text": [
      "2024-11-09 12:40:51,533 - __main__ - INFO - Resampling\n"
     ]
    },
    {
     "name": "stdout",
     "output_type": "stream",
     "text": [
      "Patient: CHUP-073\n",
      "Shapes before rotation: (260, 512, 512) (260, 512, 512) (260, 512, 512)\n",
      "Shapes after rotation: (512, 512, 260) (512, 512, 260) (512, 512, 260)\n"
     ]
    },
    {
     "name": "stderr",
     "output_type": "stream",
     "text": [
      "2024-11-09 12:41:14,834 - __main__ - INFO - Resampling\n"
     ]
    },
    {
     "name": "stdout",
     "output_type": "stream",
     "text": [
      "Round 200: 78.12% completed\n",
      "Patient: CHUP-066\n",
      "Shapes before rotation: (298, 512, 512) (298, 512, 512) (298, 512, 512)\n",
      "Shapes after rotation: (512, 512, 298) (512, 512, 298) (512, 512, 298)\n"
     ]
    },
    {
     "name": "stderr",
     "output_type": "stream",
     "text": [
      "2024-11-09 12:41:41,383 - __main__ - INFO - Resampling\n"
     ]
    },
    {
     "name": "stdout",
     "output_type": "stream",
     "text": [
      "Patient: CHUP-034\n",
      "Shapes before rotation: (260, 512, 512) (260, 512, 512) (260, 512, 512)\n",
      "Shapes after rotation: (512, 512, 260) (512, 512, 260) (512, 512, 260)\n"
     ]
    },
    {
     "name": "stderr",
     "output_type": "stream",
     "text": [
      "2024-11-09 12:42:04,693 - __main__ - INFO - Resampling\n"
     ]
    },
    {
     "name": "stdout",
     "output_type": "stream",
     "text": [
      "Patient: CHUP-059\n",
      "Shapes before rotation: (298, 512, 512) (298, 512, 512) (298, 512, 512)\n",
      "Shapes after rotation: (512, 512, 298) (512, 512, 298) (512, 512, 298)\n"
     ]
    },
    {
     "name": "stderr",
     "output_type": "stream",
     "text": [
      "2024-11-09 12:42:31,150 - __main__ - INFO - Resampling\n"
     ]
    },
    {
     "name": "stdout",
     "output_type": "stream",
     "text": [
      "Patient: CHUP-058\n",
      "Shapes before rotation: (337, 512, 512) (337, 512, 512) (337, 512, 512)\n",
      "Shapes after rotation: (512, 512, 337) (512, 512, 337) (512, 512, 337)\n"
     ]
    },
    {
     "name": "stderr",
     "output_type": "stream",
     "text": [
      "2024-11-09 12:43:01,204 - __main__ - INFO - Resampling\n"
     ]
    },
    {
     "name": "stdout",
     "output_type": "stream",
     "text": [
      "Patient: CHUP-008\n",
      "Shapes before rotation: (337, 512, 512) (337, 512, 512) (337, 512, 512)\n",
      "Shapes after rotation: (512, 512, 337) (512, 512, 337) (512, 512, 337)\n"
     ]
    },
    {
     "name": "stderr",
     "output_type": "stream",
     "text": [
      "2024-11-09 12:43:30,939 - __main__ - INFO - Resampling\n"
     ]
    },
    {
     "name": "stdout",
     "output_type": "stream",
     "text": [
      "Patient: CHUP-070\n",
      "Shapes before rotation: (298, 512, 512) (298, 512, 512) (298, 512, 512)\n",
      "Shapes after rotation: (512, 512, 298) (512, 512, 298) (512, 512, 298)\n"
     ]
    },
    {
     "name": "stderr",
     "output_type": "stream",
     "text": [
      "2024-11-09 12:43:57,967 - __main__ - INFO - Resampling\n"
     ]
    },
    {
     "name": "stdout",
     "output_type": "stream",
     "text": [
      "Patient: CHUP-071\n",
      "Shapes before rotation: (298, 512, 512) (298, 512, 512) (298, 512, 512)\n",
      "Shapes after rotation: (512, 512, 298) (512, 512, 298) (512, 512, 298)\n"
     ]
    },
    {
     "name": "stderr",
     "output_type": "stream",
     "text": [
      "2024-11-09 12:44:24,751 - __main__ - INFO - Resampling\n"
     ]
    },
    {
     "name": "stdout",
     "output_type": "stream",
     "text": [
      "Patient: CHUP-040\n",
      "Shapes before rotation: (260, 512, 512) (260, 512, 512) (260, 512, 512)\n",
      "Shapes after rotation: (512, 512, 260) (512, 512, 260) (512, 512, 260)\n"
     ]
    },
    {
     "name": "stderr",
     "output_type": "stream",
     "text": [
      "2024-11-09 12:44:47,785 - __main__ - INFO - Resampling\n"
     ]
    },
    {
     "name": "stdout",
     "output_type": "stream",
     "text": [
      "Patient: CHUP-011\n",
      "Shapes before rotation: (260, 512, 512) (260, 512, 512) (260, 512, 512)\n",
      "Shapes after rotation: (512, 512, 260) (512, 512, 260) (512, 512, 260)\n"
     ]
    },
    {
     "name": "stderr",
     "output_type": "stream",
     "text": [
      "2024-11-09 12:45:10,907 - __main__ - INFO - Resampling\n"
     ]
    },
    {
     "name": "stdout",
     "output_type": "stream",
     "text": [
      "Patient: CHUP-033\n",
      "Shapes before rotation: (298, 512, 512) (298, 512, 512) (298, 512, 512)\n",
      "Shapes after rotation: (512, 512, 298) (512, 512, 298) (512, 512, 298)\n"
     ]
    },
    {
     "name": "stderr",
     "output_type": "stream",
     "text": [
      "2024-11-09 12:45:37,341 - __main__ - INFO - Resampling\n"
     ]
    },
    {
     "name": "stdout",
     "output_type": "stream",
     "text": [
      "Round 210: 82.03% completed\n",
      "Patient: CHUP-056\n",
      "Shapes before rotation: (298, 512, 512) (298, 512, 512) (298, 512, 512)\n",
      "Shapes after rotation: (512, 512, 298) (512, 512, 298) (512, 512, 298)\n"
     ]
    },
    {
     "name": "stderr",
     "output_type": "stream",
     "text": [
      "2024-11-09 12:46:04,223 - __main__ - INFO - Resampling\n"
     ]
    },
    {
     "name": "stdout",
     "output_type": "stream",
     "text": [
      "Patient: CHUP-046\n",
      "Shapes before rotation: (298, 512, 512) (298, 512, 512) (298, 512, 512)\n",
      "Shapes after rotation: (512, 512, 298) (512, 512, 298) (512, 512, 298)\n"
     ]
    },
    {
     "name": "stderr",
     "output_type": "stream",
     "text": [
      "2024-11-09 12:46:30,834 - __main__ - INFO - Resampling\n"
     ]
    },
    {
     "name": "stdout",
     "output_type": "stream",
     "text": [
      "Patient: CHUP-025\n",
      "Shapes before rotation: (298, 512, 512) (298, 512, 512) (298, 512, 512)\n",
      "Shapes after rotation: (512, 512, 298) (512, 512, 298) (512, 512, 298)\n"
     ]
    },
    {
     "name": "stderr",
     "output_type": "stream",
     "text": [
      "2024-11-09 12:46:58,134 - __main__ - INFO - Resampling\n"
     ]
    },
    {
     "name": "stdout",
     "output_type": "stream",
     "text": [
      "Patient: CHUP-048\n",
      "Shapes before rotation: (260, 512, 512) (260, 512, 512) (260, 512, 512)\n",
      "Shapes after rotation: (512, 512, 260) (512, 512, 260) (512, 512, 260)\n"
     ]
    },
    {
     "name": "stderr",
     "output_type": "stream",
     "text": [
      "2024-11-09 12:47:21,780 - __main__ - INFO - Resampling\n"
     ]
    },
    {
     "name": "stdout",
     "output_type": "stream",
     "text": [
      "Patient: CHUP-049\n",
      "Shapes before rotation: (337, 512, 512) (337, 512, 512) (337, 512, 512)\n",
      "Shapes after rotation: (512, 512, 337) (512, 512, 337) (512, 512, 337)\n"
     ]
    },
    {
     "name": "stderr",
     "output_type": "stream",
     "text": [
      "2024-11-09 12:47:52,456 - __main__ - INFO - Resampling\n"
     ]
    },
    {
     "name": "stdout",
     "output_type": "stream",
     "text": [
      "Patient: CHUP-065\n",
      "Shapes before rotation: (298, 512, 512) (298, 512, 512) (298, 512, 512)\n",
      "Shapes after rotation: (512, 512, 298) (512, 512, 298) (512, 512, 298)\n"
     ]
    },
    {
     "name": "stderr",
     "output_type": "stream",
     "text": [
      "2024-11-09 12:48:19,392 - __main__ - INFO - Resampling\n"
     ]
    },
    {
     "name": "stdout",
     "output_type": "stream",
     "text": [
      "Patient: CHUP-023\n",
      "Shapes before rotation: (298, 512, 512) (298, 512, 512) (298, 512, 512)\n",
      "Shapes after rotation: (512, 512, 298) (512, 512, 298) (512, 512, 298)\n"
     ]
    },
    {
     "name": "stderr",
     "output_type": "stream",
     "text": [
      "2024-11-09 12:48:45,215 - __main__ - INFO - Resampling\n"
     ]
    },
    {
     "name": "stdout",
     "output_type": "stream",
     "text": [
      "Patient: CHUP-055\n",
      "Shapes before rotation: (260, 512, 512) (260, 512, 512) (260, 512, 512)\n",
      "Shapes after rotation: (512, 512, 260) (512, 512, 260) (512, 512, 260)\n"
     ]
    },
    {
     "name": "stderr",
     "output_type": "stream",
     "text": [
      "2024-11-09 12:49:08,839 - __main__ - INFO - Resampling\n"
     ]
    },
    {
     "name": "stdout",
     "output_type": "stream",
     "text": [
      "Patient: CHUP-053\n",
      "Shapes before rotation: (260, 512, 512) (260, 512, 512) (260, 512, 512)\n",
      "Shapes after rotation: (512, 512, 260) (512, 512, 260) (512, 512, 260)\n"
     ]
    },
    {
     "name": "stderr",
     "output_type": "stream",
     "text": [
      "2024-11-09 12:49:32,322 - __main__ - INFO - Resampling\n"
     ]
    },
    {
     "name": "stdout",
     "output_type": "stream",
     "text": [
      "Patient: CHUP-063\n",
      "Shapes before rotation: (298, 512, 512) (298, 512, 512) (298, 512, 512)\n",
      "Shapes after rotation: (512, 512, 298) (512, 512, 298) (512, 512, 298)\n"
     ]
    },
    {
     "name": "stderr",
     "output_type": "stream",
     "text": [
      "2024-11-09 12:49:58,377 - __main__ - INFO - Resampling\n"
     ]
    },
    {
     "name": "stdout",
     "output_type": "stream",
     "text": [
      "Round 220: 85.94% completed\n",
      "Patient: CHUP-013\n",
      "Shapes before rotation: (260, 512, 512) (260, 512, 512) (260, 512, 512)\n",
      "Shapes after rotation: (512, 512, 260) (512, 512, 260) (512, 512, 260)\n"
     ]
    },
    {
     "name": "stderr",
     "output_type": "stream",
     "text": [
      "2024-11-09 12:50:21,518 - __main__ - INFO - Resampling\n"
     ]
    },
    {
     "name": "stdout",
     "output_type": "stream",
     "text": [
      "Patient: CHUP-044\n",
      "Shapes before rotation: (298, 512, 512) (298, 512, 512) (298, 512, 512)\n",
      "Shapes after rotation: (512, 512, 298) (512, 512, 298) (512, 512, 298)\n"
     ]
    },
    {
     "name": "stderr",
     "output_type": "stream",
     "text": [
      "2024-11-09 12:50:48,295 - __main__ - INFO - Resampling\n"
     ]
    },
    {
     "name": "stdout",
     "output_type": "stream",
     "text": [
      "Patient: CHUP-019\n",
      "Shapes before rotation: (260, 512, 512) (260, 512, 512) (260, 512, 512)\n",
      "Shapes after rotation: (512, 512, 260) (512, 512, 260) (512, 512, 260)\n"
     ]
    },
    {
     "name": "stderr",
     "output_type": "stream",
     "text": [
      "2024-11-09 12:51:11,521 - __main__ - INFO - Resampling\n"
     ]
    },
    {
     "name": "stdout",
     "output_type": "stream",
     "text": [
      "Patient: CHUP-074\n",
      "Shapes before rotation: (260, 512, 512) (260, 512, 512) (260, 512, 512)\n",
      "Shapes after rotation: (512, 512, 260) (512, 512, 260) (512, 512, 260)\n"
     ]
    },
    {
     "name": "stderr",
     "output_type": "stream",
     "text": [
      "2024-11-09 12:51:34,972 - __main__ - INFO - Resampling\n"
     ]
    },
    {
     "name": "stdout",
     "output_type": "stream",
     "text": [
      "Patient: CHUP-022\n",
      "Shapes before rotation: (298, 512, 512) (298, 512, 512) (298, 512, 512)\n",
      "Shapes after rotation: (512, 512, 298) (512, 512, 298) (512, 512, 298)\n"
     ]
    },
    {
     "name": "stderr",
     "output_type": "stream",
     "text": [
      "2024-11-09 12:52:01,545 - __main__ - INFO - Resampling\n"
     ]
    },
    {
     "name": "stdout",
     "output_type": "stream",
     "text": [
      "Patient: CHUP-002\n",
      "Shapes before rotation: (298, 512, 512) (298, 512, 512) (298, 512, 512)\n",
      "Shapes after rotation: (512, 512, 298) (512, 512, 298) (512, 512, 298)\n"
     ]
    },
    {
     "name": "stderr",
     "output_type": "stream",
     "text": [
      "2024-11-09 12:52:28,101 - __main__ - INFO - Resampling\n"
     ]
    },
    {
     "name": "stdout",
     "output_type": "stream",
     "text": [
      "Patient: CHUP-000\n",
      "Shapes before rotation: (260, 512, 512) (260, 512, 512) (260, 512, 512)\n",
      "Shapes after rotation: (512, 512, 260) (512, 512, 260) (512, 512, 260)\n"
     ]
    },
    {
     "name": "stderr",
     "output_type": "stream",
     "text": [
      "2024-11-09 12:52:51,409 - __main__ - INFO - Resampling\n"
     ]
    },
    {
     "name": "stdout",
     "output_type": "stream",
     "text": [
      "Patient: CHUP-024\n",
      "Shapes before rotation: (298, 512, 512) (298, 512, 512) (298, 512, 512)\n",
      "Shapes after rotation: (512, 512, 298) (512, 512, 298) (512, 512, 298)\n"
     ]
    },
    {
     "name": "stderr",
     "output_type": "stream",
     "text": [
      "2024-11-09 12:53:17,630 - __main__ - INFO - Resampling\n"
     ]
    },
    {
     "name": "stdout",
     "output_type": "stream",
     "text": [
      "Patient: CHUP-035\n",
      "Shapes before rotation: (298, 512, 512) (298, 512, 512) (298, 512, 512)\n",
      "Shapes after rotation: (512, 512, 298) (512, 512, 298) (512, 512, 298)\n"
     ]
    },
    {
     "name": "stderr",
     "output_type": "stream",
     "text": [
      "2024-11-09 12:53:44,258 - __main__ - INFO - Resampling\n"
     ]
    },
    {
     "name": "stdout",
     "output_type": "stream",
     "text": [
      "Patient: CHUP-028\n",
      "Shapes before rotation: (260, 512, 512) (260, 512, 512) (260, 512, 512)\n",
      "Shapes after rotation: (512, 512, 260) (512, 512, 260) (512, 512, 260)\n"
     ]
    },
    {
     "name": "stderr",
     "output_type": "stream",
     "text": [
      "2024-11-09 12:54:07,493 - __main__ - INFO - Resampling\n"
     ]
    },
    {
     "name": "stdout",
     "output_type": "stream",
     "text": [
      "Round 230: 89.84% completed\n",
      "Patient: CHUP-032\n",
      "Shapes before rotation: (260, 512, 512) (260, 512, 512) (260, 512, 512)\n",
      "Shapes after rotation: (512, 512, 260) (512, 512, 260) (512, 512, 260)\n"
     ]
    },
    {
     "name": "stderr",
     "output_type": "stream",
     "text": [
      "2024-11-09 12:54:30,819 - __main__ - INFO - Resampling\n"
     ]
    },
    {
     "name": "stdout",
     "output_type": "stream",
     "text": [
      "Patient: CHUP-007\n",
      "Shapes before rotation: (260, 512, 512) (260, 512, 512) (260, 512, 512)\n",
      "Shapes after rotation: (512, 512, 260) (512, 512, 260) (512, 512, 260)\n"
     ]
    },
    {
     "name": "stderr",
     "output_type": "stream",
     "text": [
      "2024-11-09 12:54:54,361 - __main__ - INFO - Resampling\n"
     ]
    },
    {
     "name": "stdout",
     "output_type": "stream",
     "text": [
      "Patient: CHUP-015\n",
      "Shapes before rotation: (221, 512, 512) (221, 512, 512) (221, 512, 512)\n",
      "Shapes after rotation: (512, 512, 221) (512, 512, 221) (512, 512, 221)\n"
     ]
    },
    {
     "name": "stderr",
     "output_type": "stream",
     "text": [
      "2024-11-09 12:55:13,634 - __main__ - INFO - Resampling\n"
     ]
    },
    {
     "name": "stdout",
     "output_type": "stream",
     "text": [
      "Patient: CHUP-054\n",
      "Shapes before rotation: (260, 512, 512) (260, 512, 512) (260, 512, 512)\n",
      "Shapes after rotation: (512, 512, 260) (512, 512, 260) (512, 512, 260)\n"
     ]
    },
    {
     "name": "stderr",
     "output_type": "stream",
     "text": [
      "2024-11-09 12:55:36,716 - __main__ - INFO - Resampling\n"
     ]
    },
    {
     "name": "stdout",
     "output_type": "stream",
     "text": [
      "Patient: CHUP-005\n",
      "Shapes before rotation: (298, 512, 512) (298, 512, 512) (298, 512, 512)\n",
      "Shapes after rotation: (512, 512, 298) (512, 512, 298) (512, 512, 298)\n"
     ]
    },
    {
     "name": "stderr",
     "output_type": "stream",
     "text": [
      "2024-11-09 12:56:03,052 - __main__ - INFO - Resampling\n"
     ]
    },
    {
     "name": "stdout",
     "output_type": "stream",
     "text": [
      "Patient: CHUP-072\n",
      "Shapes before rotation: (260, 512, 512) (260, 512, 512) (260, 512, 512)\n",
      "Shapes after rotation: (512, 512, 260) (512, 512, 260) (512, 512, 260)\n"
     ]
    },
    {
     "name": "stderr",
     "output_type": "stream",
     "text": [
      "2024-11-09 12:56:26,382 - __main__ - INFO - Resampling\n"
     ]
    },
    {
     "name": "stdout",
     "output_type": "stream",
     "text": [
      "Patient: CHUP-009\n",
      "Shapes before rotation: (298, 512, 512) (298, 512, 512) (298, 512, 512)\n",
      "Shapes after rotation: (512, 512, 298) (512, 512, 298) (512, 512, 298)\n"
     ]
    },
    {
     "name": "stderr",
     "output_type": "stream",
     "text": [
      "2024-11-09 12:56:53,329 - __main__ - INFO - Resampling\n"
     ]
    },
    {
     "name": "stdout",
     "output_type": "stream",
     "text": [
      "Patient: CHUP-057\n",
      "Shapes before rotation: (298, 512, 512) (298, 512, 512) (298, 512, 512)\n",
      "Shapes after rotation: (512, 512, 298) (512, 512, 298) (512, 512, 298)\n"
     ]
    },
    {
     "name": "stderr",
     "output_type": "stream",
     "text": [
      "2024-11-09 12:57:20,419 - __main__ - INFO - Resampling\n"
     ]
    },
    {
     "name": "stdout",
     "output_type": "stream",
     "text": [
      "Patient: CHUP-001\n",
      "Shapes before rotation: (260, 512, 512) (260, 512, 512) (260, 512, 512)\n",
      "Shapes after rotation: (512, 512, 260) (512, 512, 260) (512, 512, 260)\n"
     ]
    },
    {
     "name": "stderr",
     "output_type": "stream",
     "text": [
      "2024-11-09 12:57:43,656 - __main__ - INFO - Resampling\n"
     ]
    },
    {
     "name": "stdout",
     "output_type": "stream",
     "text": [
      "Patient: CHUP-004\n",
      "Shapes before rotation: (298, 512, 512) (298, 512, 512) (298, 512, 512)\n",
      "Shapes after rotation: (512, 512, 298) (512, 512, 298) (512, 512, 298)\n"
     ]
    },
    {
     "name": "stderr",
     "output_type": "stream",
     "text": [
      "2024-11-09 12:58:10,899 - __main__ - INFO - Resampling\n"
     ]
    },
    {
     "name": "stdout",
     "output_type": "stream",
     "text": [
      "Round 240: 93.75% completed\n",
      "Patient: CHUP-006\n",
      "Shapes before rotation: (260, 512, 512) (260, 512, 512) (260, 512, 512)\n",
      "Shapes after rotation: (512, 512, 260) (512, 512, 260) (512, 512, 260)\n"
     ]
    },
    {
     "name": "stderr",
     "output_type": "stream",
     "text": [
      "2024-11-09 12:58:34,536 - __main__ - INFO - Resampling\n"
     ]
    },
    {
     "name": "stdout",
     "output_type": "stream",
     "text": [
      "Patient: CHUP-067\n",
      "Shapes before rotation: (260, 512, 512) (260, 512, 512) (260, 512, 512)\n",
      "Shapes after rotation: (512, 512, 260) (512, 512, 260) (512, 512, 260)\n"
     ]
    },
    {
     "name": "stderr",
     "output_type": "stream",
     "text": [
      "2024-11-09 12:58:57,961 - __main__ - INFO - Resampling\n"
     ]
    },
    {
     "name": "stdout",
     "output_type": "stream",
     "text": [
      "Patient: CHUP-042\n",
      "Shapes before rotation: (298, 512, 512) (298, 512, 512) (298, 512, 512)\n",
      "Shapes after rotation: (512, 512, 298) (512, 512, 298) (512, 512, 298)\n"
     ]
    },
    {
     "name": "stderr",
     "output_type": "stream",
     "text": [
      "2024-11-09 12:59:24,744 - __main__ - INFO - Resampling\n"
     ]
    },
    {
     "name": "stdout",
     "output_type": "stream",
     "text": [
      "Patient: CHUP-075\n",
      "Shapes before rotation: (260, 512, 512) (260, 512, 512) (260, 512, 512)\n",
      "Shapes after rotation: (512, 512, 260) (512, 512, 260) (512, 512, 260)\n"
     ]
    },
    {
     "name": "stderr",
     "output_type": "stream",
     "text": [
      "2024-11-09 12:59:47,692 - __main__ - INFO - Resampling\n"
     ]
    },
    {
     "name": "stdout",
     "output_type": "stream",
     "text": [
      "Patient: CHUP-047\n",
      "Shapes before rotation: (337, 512, 512) (337, 512, 512) (337, 512, 512)\n",
      "Shapes after rotation: (512, 512, 337) (512, 512, 337) (512, 512, 337)\n"
     ]
    },
    {
     "name": "stderr",
     "output_type": "stream",
     "text": [
      "2024-11-09 13:00:17,370 - __main__ - INFO - Resampling\n"
     ]
    },
    {
     "name": "stdout",
     "output_type": "stream",
     "text": [
      "Patient: CHUP-029\n",
      "Shapes before rotation: (260, 512, 512) (260, 512, 512) (260, 512, 512)\n",
      "Shapes after rotation: (512, 512, 260) (512, 512, 260) (512, 512, 260)\n"
     ]
    },
    {
     "name": "stderr",
     "output_type": "stream",
     "text": [
      "2024-11-09 13:00:41,240 - __main__ - INFO - Resampling\n"
     ]
    },
    {
     "name": "stdout",
     "output_type": "stream",
     "text": [
      "Patient: CHUP-012\n",
      "Shapes before rotation: (298, 512, 512) (298, 512, 512) (298, 512, 512)\n",
      "Shapes after rotation: (512, 512, 298) (512, 512, 298) (512, 512, 298)\n"
     ]
    },
    {
     "name": "stderr",
     "output_type": "stream",
     "text": [
      "2024-11-09 13:01:07,766 - __main__ - INFO - Resampling\n"
     ]
    },
    {
     "name": "stdout",
     "output_type": "stream",
     "text": [
      "Patient: CHUP-020\n",
      "Shapes before rotation: (298, 512, 512) (298, 512, 512) (298, 512, 512)\n",
      "Shapes after rotation: (512, 512, 298) (512, 512, 298) (512, 512, 298)\n"
     ]
    },
    {
     "name": "stderr",
     "output_type": "stream",
     "text": [
      "2024-11-09 13:01:34,743 - __main__ - INFO - Resampling\n"
     ]
    },
    {
     "name": "stdout",
     "output_type": "stream",
     "text": [
      "Patient: CHUP-051\n",
      "Shapes before rotation: (298, 512, 512) (298, 512, 512) (298, 512, 512)\n",
      "Shapes after rotation: (512, 512, 298) (512, 512, 298) (512, 512, 298)\n"
     ]
    },
    {
     "name": "stderr",
     "output_type": "stream",
     "text": [
      "2024-11-09 13:02:01,665 - __main__ - INFO - Resampling\n"
     ]
    },
    {
     "name": "stdout",
     "output_type": "stream",
     "text": [
      "Patient: CHUP-069\n",
      "Shapes before rotation: (260, 512, 512) (260, 512, 512) (260, 512, 512)\n",
      "Shapes after rotation: (512, 512, 260) (512, 512, 260) (512, 512, 260)\n"
     ]
    },
    {
     "name": "stderr",
     "output_type": "stream",
     "text": [
      "2024-11-09 13:02:25,362 - __main__ - INFO - Resampling\n"
     ]
    },
    {
     "name": "stdout",
     "output_type": "stream",
     "text": [
      "Round 250: 97.66% completed\n",
      "Patient: CHUP-027\n",
      "Shapes before rotation: (337, 512, 512) (337, 512, 512) (337, 512, 512)\n",
      "Shapes after rotation: (512, 512, 337) (512, 512, 337) (512, 512, 337)\n"
     ]
    },
    {
     "name": "stderr",
     "output_type": "stream",
     "text": [
      "2024-11-09 13:02:56,198 - __main__ - INFO - Resampling\n"
     ]
    },
    {
     "name": "stdout",
     "output_type": "stream",
     "text": [
      "Patient: CHUP-030\n",
      "Shapes before rotation: (337, 512, 512) (337, 512, 512) (337, 512, 512)\n",
      "Shapes after rotation: (512, 512, 337) (512, 512, 337) (512, 512, 337)\n"
     ]
    },
    {
     "name": "stderr",
     "output_type": "stream",
     "text": [
      "2024-11-09 13:03:26,058 - __main__ - INFO - Resampling\n"
     ]
    },
    {
     "name": "stdout",
     "output_type": "stream",
     "text": [
      "Patient: CHUP-038\n",
      "Shapes before rotation: (260, 512, 512) (260, 512, 512) (260, 512, 512)\n",
      "Shapes after rotation: (512, 512, 260) (512, 512, 260) (512, 512, 260)\n"
     ]
    },
    {
     "name": "stderr",
     "output_type": "stream",
     "text": [
      "2024-11-09 13:03:48,828 - __main__ - INFO - Resampling\n"
     ]
    },
    {
     "name": "stdout",
     "output_type": "stream",
     "text": [
      "Patient: CHUP-052\n",
      "Shapes before rotation: (260, 512, 512) (260, 512, 512) (260, 512, 512)\n",
      "Shapes after rotation: (512, 512, 260) (512, 512, 260) (512, 512, 260)\n"
     ]
    },
    {
     "name": "stderr",
     "output_type": "stream",
     "text": [
      "2024-11-09 13:04:11,894 - __main__ - INFO - Resampling\n"
     ]
    },
    {
     "name": "stdout",
     "output_type": "stream",
     "text": [
      "Patient: CHUP-061\n",
      "Shapes before rotation: (298, 512, 512) (298, 512, 512) (298, 512, 512)\n",
      "Shapes after rotation: (512, 512, 298) (512, 512, 298) (512, 512, 298)\n"
     ]
    }
   ],
   "source": [
    "for i, sid in enumerate(df_dims['subject_id']):\n",
    "    # Process patient and get rotated images\n",
    "    cn_r, pn_r, ln_r = process_patient(sid, input_image_folder, input_label_folder, output_image_folder, output_label_folder, cores, resampling)\n",
    "\n",
    "    # optional \n",
    "    # show_ct_data_with_labels(cn_r, ln_r)\n",
    "    \n",
    "    # Convert rotated NumPy arrays back to SimpleITK Image objects\n",
    "    cn_r_img = sitk.GetImageFromArray(cn_r)\n",
    "    pn_r_img = sitk.GetImageFromArray(pn_r)\n",
    "    ln_r_img = sitk.GetImageFromArray(ln_r)\n",
    "\n",
    "    # Save the resampled CT and PT images to the output folder\n",
    "    sitk.WriteImage(cn_r_img, str(output_image_folder / (sid + \"__CT.nii.gz\")))\n",
    "    sitk.WriteImage(pn_r_img, str(output_image_folder / (sid + \"__PT.nii.gz\")))\n",
    "\n",
    "    # Save the resampled Label to the output folder\n",
    "    sitk.WriteImage(ln_r_img, str(output_label_folder / (sid + \".nii.gz\")))\n",
    "\n",
    "    # Print counter to show progress every 10 iterations\n",
    "    if i % 10 == 0:\n",
    "        percentage = (i / len(df_dims['subject_id'])) * 100\n",
    "        print(f'Round {i}: {percentage:.2f}% completed')\n",
    "\n",
    "    # Optional: break to limit the loop \n",
    "    # break\n"
   ]
  },
  {
   "cell_type": "code",
   "execution_count": null,
   "metadata": {},
   "outputs": [],
   "source": []
  },
  {
   "cell_type": "code",
   "execution_count": null,
   "metadata": {},
   "outputs": [],
   "source": []
  },
  {
   "cell_type": "code",
   "execution_count": null,
   "metadata": {},
   "outputs": [],
   "source": []
  },
  {
   "cell_type": "code",
   "execution_count": null,
   "metadata": {},
   "outputs": [],
   "source": []
  },
  {
   "cell_type": "code",
   "execution_count": null,
   "metadata": {},
   "outputs": [],
   "source": []
  },
  {
   "cell_type": "markdown",
   "metadata": {},
   "source": [
    "# Sandbox"
   ]
  },
  {
   "cell_type": "code",
   "execution_count": 56,
   "metadata": {},
   "outputs": [
    {
     "data": {
      "application/vnd.jupyter.widget-view+json": {
       "model_id": "3be0af8c1ab848d391e070e3209ed832",
       "version_major": 2,
       "version_minor": 0
      },
      "text/plain": [
       "interactive(children=(IntSlider(value=0, description='slice_idx', max=735), Output()), _dom_classes=('widget-i…"
      ]
     },
     "metadata": {},
     "output_type": "display_data"
    }
   ],
   "source": [
    "show_ct_data(apply_window(x.get_fdata()))\n"
   ]
  },
  {
   "cell_type": "code",
   "execution_count": 52,
   "metadata": {},
   "outputs": [
    {
     "name": "stderr",
     "output_type": "stream",
     "text": [
      "2024-11-09 11:21:23,344 - __main__ - INFO - Resampling\n"
     ]
    },
    {
     "name": "stdout",
     "output_type": "stream",
     "text": [
      "CHUP-030\n"
     ]
    }
   ],
   "source": [
    "# Call the main function to start resampling (one patient)\n",
    "patient = 'CHUP-030' # patient_list[3]\n",
    "print(patient)\n",
    "c, p, l = main(patient, input_image_folder, input_label_folder, output_image_folder, output_label_folder, cores, resampling)"
   ]
  },
  {
   "cell_type": "code",
   "execution_count": 62,
   "metadata": {},
   "outputs": [
    {
     "name": "stdout",
     "output_type": "stream",
     "text": [
      "(337, 512, 512) (337, 512, 512) (337, 512, 512)\n"
     ]
    }
   ],
   "source": [
    "cn = apply_window(sitk.GetArrayFromImage(c))\n",
    "pn = sitk.GetArrayFromImage(p)\n",
    "ln = sitk.GetArrayFromImage(l)\n",
    "print(cn.shape, pn.shape, ln.shape)"
   ]
  },
  {
   "cell_type": "code",
   "execution_count": 63,
   "metadata": {},
   "outputs": [],
   "source": [
    "pn_r = np.rot90(pn, axes=(0,2))\n",
    "cn_r = np.rot90(cn, axes=(0,2))\n",
    "ln_r = np.rot90(ln, axes=(0,2))"
   ]
  },
  {
   "cell_type": "code",
   "execution_count": 64,
   "metadata": {},
   "outputs": [
    {
     "data": {
      "application/vnd.jupyter.widget-view+json": {
       "model_id": "22583fdd40d345aea3554f10d214f83e",
       "version_major": 2,
       "version_minor": 0
      },
      "text/plain": [
       "interactive(children=(IntSlider(value=0, description='slice_idx', max=336), Output()), _dom_classes=('widget-i…"
      ]
     },
     "metadata": {},
     "output_type": "display_data"
    }
   ],
   "source": [
    "show_ct_data_with_labels(cn_r, ln_r)"
   ]
  },
  {
   "cell_type": "code",
   "execution_count": null,
   "metadata": {},
   "outputs": [],
   "source": []
  },
  {
   "cell_type": "code",
   "execution_count": 40,
   "metadata": {},
   "outputs": [],
   "source": []
  },
  {
   "cell_type": "code",
   "execution_count": 56,
   "metadata": {},
   "outputs": [
    {
     "data": {
      "application/vnd.jupyter.widget-view+json": {
       "model_id": "5e67329af0c8444db0a31504416b74a9",
       "version_major": 2,
       "version_minor": 0
      },
      "text/plain": [
       "interactive(children=(IntSlider(value=0, description='slice_idx', max=460), Output()), _dom_classes=('widget-i…"
      ]
     },
     "metadata": {},
     "output_type": "display_data"
    }
   ],
   "source": [
    "show_ct_data_with_labels(pn, ln)"
   ]
  },
  {
   "cell_type": "code",
   "execution_count": 87,
   "metadata": {},
   "outputs": [],
   "source": [
    "import pandas as pd"
   ]
  },
  {
   "cell_type": "code",
   "execution_count": 88,
   "metadata": {},
   "outputs": [
    {
     "data": {
      "text/html": [
       "<div>\n",
       "<style scoped>\n",
       "    .dataframe tbody tr th:only-of-type {\n",
       "        vertical-align: middle;\n",
       "    }\n",
       "\n",
       "    .dataframe tbody tr th {\n",
       "        vertical-align: top;\n",
       "    }\n",
       "\n",
       "    .dataframe thead th {\n",
       "        text-align: right;\n",
       "    }\n",
       "</style>\n",
       "<table border=\"1\" class=\"dataframe\">\n",
       "  <thead>\n",
       "    <tr style=\"text-align: right;\">\n",
       "      <th></th>\n",
       "      <th>subject_id</th>\n",
       "      <th>dataset</th>\n",
       "      <th>set</th>\n",
       "      <th>ct_path</th>\n",
       "      <th>pet_path</th>\n",
       "      <th>label_path</th>\n",
       "      <th>not_black_frame</th>\n",
       "      <th>tumor</th>\n",
       "    </tr>\n",
       "  </thead>\n",
       "  <tbody>\n",
       "    <tr>\n",
       "      <th>0</th>\n",
       "      <td>MDA-039</td>\n",
       "      <td>source</td>\n",
       "      <td>train</td>\n",
       "      <td>../datasets/ADDA/png_patches_2d/images/MDA-039...</td>\n",
       "      <td>../datasets/ADDA/png_patches_2d/images/MDA-039...</td>\n",
       "      <td>../datasets/ADDA/png_patches_2d/labels/MDA-039...</td>\n",
       "      <td>0</td>\n",
       "      <td>0</td>\n",
       "    </tr>\n",
       "    <tr>\n",
       "      <th>1</th>\n",
       "      <td>MDA-039</td>\n",
       "      <td>source</td>\n",
       "      <td>train</td>\n",
       "      <td>../datasets/ADDA/png_patches_2d/images/MDA-039...</td>\n",
       "      <td>../datasets/ADDA/png_patches_2d/images/MDA-039...</td>\n",
       "      <td>../datasets/ADDA/png_patches_2d/labels/MDA-039...</td>\n",
       "      <td>0</td>\n",
       "      <td>0</td>\n",
       "    </tr>\n",
       "    <tr>\n",
       "      <th>2</th>\n",
       "      <td>MDA-039</td>\n",
       "      <td>source</td>\n",
       "      <td>train</td>\n",
       "      <td>../datasets/ADDA/png_patches_2d/images/MDA-039...</td>\n",
       "      <td>../datasets/ADDA/png_patches_2d/images/MDA-039...</td>\n",
       "      <td>../datasets/ADDA/png_patches_2d/labels/MDA-039...</td>\n",
       "      <td>0</td>\n",
       "      <td>0</td>\n",
       "    </tr>\n",
       "    <tr>\n",
       "      <th>3</th>\n",
       "      <td>MDA-039</td>\n",
       "      <td>source</td>\n",
       "      <td>train</td>\n",
       "      <td>../datasets/ADDA/png_patches_2d/images/MDA-039...</td>\n",
       "      <td>../datasets/ADDA/png_patches_2d/images/MDA-039...</td>\n",
       "      <td>../datasets/ADDA/png_patches_2d/labels/MDA-039...</td>\n",
       "      <td>0</td>\n",
       "      <td>0</td>\n",
       "    </tr>\n",
       "    <tr>\n",
       "      <th>4</th>\n",
       "      <td>MDA-039</td>\n",
       "      <td>source</td>\n",
       "      <td>train</td>\n",
       "      <td>../datasets/ADDA/png_patches_2d/images/MDA-039...</td>\n",
       "      <td>../datasets/ADDA/png_patches_2d/images/MDA-039...</td>\n",
       "      <td>../datasets/ADDA/png_patches_2d/labels/MDA-039...</td>\n",
       "      <td>0</td>\n",
       "      <td>0</td>\n",
       "    </tr>\n",
       "  </tbody>\n",
       "</table>\n",
       "</div>"
      ],
      "text/plain": [
       "  subject_id dataset    set  \\\n",
       "0    MDA-039  source  train   \n",
       "1    MDA-039  source  train   \n",
       "2    MDA-039  source  train   \n",
       "3    MDA-039  source  train   \n",
       "4    MDA-039  source  train   \n",
       "\n",
       "                                             ct_path  \\\n",
       "0  ../datasets/ADDA/png_patches_2d/images/MDA-039...   \n",
       "1  ../datasets/ADDA/png_patches_2d/images/MDA-039...   \n",
       "2  ../datasets/ADDA/png_patches_2d/images/MDA-039...   \n",
       "3  ../datasets/ADDA/png_patches_2d/images/MDA-039...   \n",
       "4  ../datasets/ADDA/png_patches_2d/images/MDA-039...   \n",
       "\n",
       "                                            pet_path  \\\n",
       "0  ../datasets/ADDA/png_patches_2d/images/MDA-039...   \n",
       "1  ../datasets/ADDA/png_patches_2d/images/MDA-039...   \n",
       "2  ../datasets/ADDA/png_patches_2d/images/MDA-039...   \n",
       "3  ../datasets/ADDA/png_patches_2d/images/MDA-039...   \n",
       "4  ../datasets/ADDA/png_patches_2d/images/MDA-039...   \n",
       "\n",
       "                                          label_path  not_black_frame  tumor  \n",
       "0  ../datasets/ADDA/png_patches_2d/labels/MDA-039...                0      0  \n",
       "1  ../datasets/ADDA/png_patches_2d/labels/MDA-039...                0      0  \n",
       "2  ../datasets/ADDA/png_patches_2d/labels/MDA-039...                0      0  \n",
       "3  ../datasets/ADDA/png_patches_2d/labels/MDA-039...                0      0  \n",
       "4  ../datasets/ADDA/png_patches_2d/labels/MDA-039...                0      0  "
      ]
     },
     "execution_count": 88,
     "metadata": {},
     "output_type": "execute_result"
    }
   ],
   "source": [
    "df = pd.read_csv('../../datasets/ADDA/png_patches_2d/png_patch_training_file_with_tags.csv')\n",
    "df.head()"
   ]
  },
  {
   "cell_type": "code",
   "execution_count": 92,
   "metadata": {},
   "outputs": [
    {
     "data": {
      "text/plain": [
       "array(['source', 'target'], dtype=object)"
      ]
     },
     "execution_count": 92,
     "metadata": {},
     "output_type": "execute_result"
    }
   ],
   "source": [
    "df['dataset'].unique()"
   ]
  },
  {
   "cell_type": "code",
   "execution_count": 95,
   "metadata": {},
   "outputs": [
    {
     "data": {
      "text/plain": [
       "array(['MDA-039', 'MDA-192', 'MDA-187', 'MDA-179', 'MDA-162', 'MDA-097',\n",
       "       'MDA-194', 'MDA-095', 'MDA-038', 'MDA-147', 'MDA-150', 'MDA-133',\n",
       "       'MDA-071', 'MDA-113', 'MDA-023', 'MDA-024', 'MDA-013', 'MDA-059',\n",
       "       'MDA-006', 'MDA-101', 'MDA-065', 'MDA-120', 'MDA-163', 'MDA-064',\n",
       "       'MDA-025', 'MDA-088', 'MDA-098', 'MDA-099', 'MDA-078', 'MDA-020',\n",
       "       'MDA-100', 'MDA-021', 'MDA-005', 'MDA-047', 'MDA-173', 'MDA-146',\n",
       "       'MDA-068', 'MDA-053', 'MDA-004', 'MDA-114', 'MDA-055', 'MDA-061',\n",
       "       'MDA-132', 'MDA-164', 'MDA-159', 'MDA-172', 'MDA-143', 'MDA-175',\n",
       "       'MDA-076', 'MDA-139', 'MDA-018', 'MDA-112', 'MDA-048', 'MDA-117',\n",
       "       'MDA-043', 'MDA-169', 'MDA-050', 'MDA-190', 'MDA-049', 'MDA-091',\n",
       "       'MDA-045', 'MDA-067', 'MDA-058', 'MDA-134', 'MDA-082', 'MDA-148',\n",
       "       'MDA-027', 'MDA-011', 'MDA-121', 'MDA-144', 'MDA-156', 'MDA-184',\n",
       "       'MDA-183', 'MDA-093', 'MDA-016', 'MDA-092', 'MDA-116', 'MDA-034',\n",
       "       'MDA-155', 'MDA-108', 'MDA-044', 'MDA-083', 'MDA-089', 'MDA-118',\n",
       "       'MDA-041', 'MDA-046', 'MDA-040', 'MDA-007', 'MDA-110', 'MDA-069',\n",
       "       'MDA-109', 'MDA-137', 'MDA-075', 'MDA-111', 'MDA-080', 'MDA-081',\n",
       "       'MDA-022', 'MDA-181', 'MDA-056', 'MDA-017', 'MDA-087', 'MDA-012',\n",
       "       'MDA-174', 'MDA-042', 'MDA-030', 'MDA-191', 'MDA-182', 'MDA-085',\n",
       "       'MDA-166', 'MDA-054', 'MDA-131', 'MDA-189', 'MDA-154', 'MDA-151',\n",
       "       'MDA-090', 'MDA-165', 'MDA-060', 'MDA-125', 'MDA-197', 'MDA-130',\n",
       "       'MDA-141', 'MDA-188', 'MDA-200', 'MDA-199', 'MDA-051', 'MDA-062',\n",
       "       'MDA-128', 'MDA-102', 'CHUP-016', 'CHUP-003', 'CHUP-017',\n",
       "       'CHUP-041', 'CHUP-037', 'CHUP-010', 'CHUP-050', 'CHUP-068',\n",
       "       'CHUP-026', 'CHUP-018', 'CHUP-043', 'CHUP-060', 'CHUP-036',\n",
       "       'CHUP-062', 'CHUP-039', 'CHUP-064', 'CHUP-073', 'CHUP-066',\n",
       "       'CHUP-034', 'CHUP-059', 'CHUP-058', 'CHUP-008', 'CHUP-070',\n",
       "       'CHUP-071', 'CHUP-040', 'CHUP-011', 'CHUP-033', 'CHUP-056',\n",
       "       'CHUP-046', 'CHUP-025', 'CHUP-048', 'CHUP-049', 'CHUP-065',\n",
       "       'CHUP-023', 'CHUP-055', 'CHUP-053', 'CHUP-063', 'CHUP-013',\n",
       "       'CHUP-044', 'CHUP-019', 'CHUP-074', 'CHUP-022', 'CHUP-002',\n",
       "       'CHUP-000', 'CHUP-024', 'CHUP-035', 'CHUP-028', 'CHUP-032',\n",
       "       'CHUP-007', 'CHUP-015'], dtype=object)"
      ]
     },
     "execution_count": 95,
     "metadata": {},
     "output_type": "execute_result"
    }
   ],
   "source": [
    "df[df['set'] == 'train']['subject_id'].unique()"
   ]
  },
  {
   "cell_type": "code",
   "execution_count": null,
   "metadata": {},
   "outputs": [],
   "source": []
  },
  {
   "cell_type": "code",
   "execution_count": null,
   "metadata": {},
   "outputs": [],
   "source": []
  },
  {
   "cell_type": "code",
   "execution_count": null,
   "metadata": {},
   "outputs": [],
   "source": []
  },
  {
   "cell_type": "code",
   "execution_count": null,
   "metadata": {},
   "outputs": [],
   "source": []
  },
  {
   "cell_type": "code",
   "execution_count": null,
   "metadata": {},
   "outputs": [],
   "source": []
  },
  {
   "cell_type": "code",
   "execution_count": null,
   "metadata": {},
   "outputs": [],
   "source": [
    "\n",
    "# Define paths for input images, labels, and output directories\n",
    "path_input_images = \"../datasets/ADDA/original/images\"\n",
    "path_input_labels = \"../datasets/ADDA/original/labels\"\n",
    "path_output_images = \"../datasets/ADDA/resampled/images\"\n",
    "path_output_labels = \"../datasets/ADDA/resampled/labels\"\n",
    "\n",
    "# Setting up logger to capture information and warnings\n",
    "log_fmt = '%(asctime)s - %(name)s - %(levelname)s - %(message)s'\n",
    "logging.basicConfig(level=logging.INFO, format=log_fmt)\n",
    "logging.captureWarnings(True)\n",
    "logger = logging.getLogger(__name__)\n",
    "\n",
    "# Function to get bounding boxes from CT and PT images\n",
    "def get_bounding_boxes(ct, pt):\n",
    "    \"\"\"\n",
    "    Get the bounding boxes of the CT and PT images.\n",
    "    This works since all images have the same direction.\n",
    "    \"\"\"\n",
    "    \n",
    "    # Get the origins of both CT and PT images\n",
    "    ct_origin = np.array(ct.GetOrigin())\n",
    "    pt_origin = np.array(pt.GetOrigin())\n",
    "    \n",
    "    # Calculate the maximum positions for both CT and PT images\n",
    "    ct_position_max = ct_origin + np.array(ct.GetSize()) * np.array(ct.GetSpacing())\n",
    "    pt_position_max = pt_origin + np.array(pt.GetSize()) * np.array(pt.GetSpacing())\n",
    "    \n",
    "    # Return the combined bounding box that covers both images\n",
    "    return np.concatenate([\n",
    "        np.maximum(ct_origin, pt_origin),\n",
    "        np.minimum(ct_position_max, pt_position_max),\n",
    "    ], axis=0)\n",
    "\n",
    "# Main function to perform resampling\n",
    "def main(input_image_folder, input_label_folder, output_image_folder,\n",
    "         output_label_folder, cores, resampling):\n",
    "    \"\"\"Resamples NIFTI files within the maximal bounding box covered by both modalities (PT and CT).\"\"\"\n",
    "    \n",
    "    logger.info('Resampling')\n",
    "\n",
    "    # Resolve paths to absolute paths\n",
    "    input_image_folder = Path(input_image_folder).resolve()\n",
    "    input_label_folder = Path(input_label_folder).resolve()\n",
    "    output_image_folder = Path(output_image_folder).resolve()\n",
    "    output_label_folder = Path(output_label_folder).resolve()\n",
    "\n",
    "    # Create output folders if they do not exist\n",
    "    output_image_folder.mkdir(exist_ok=True)\n",
    "    output_label_folder.mkdir(exist_ok=True)\n",
    "    print('Resampling with voxel size: {}'.format(resampling))\n",
    "\n",
    "    # Get list of patients by finding CT images in the input folder\n",
    "    patient_list = [\n",
    "        f.name.split(\"__\")[0] for f in input_image_folder.rglob(\"*_CT*\")\n",
    "    ]\n",
    "    if len(patient_list) == 0:\n",
    "        raise ValueError(\"No patient found in the input folder\")\n",
    "\n",
    "    # Initialize the resampler with default settings\n",
    "    resampler = sitk.ResampleImageFilter()\n",
    "    resampler.SetOutputDirection([1, 0, 0, 0, 1, 0, 0, 0, 1])\n",
    "    resampler.SetOutputSpacing(resampling)\n",
    "\n",
    "    # Define the function to resample one patient's images and labels\n",
    "    def resample_one_patient(p):\n",
    "        # Read CT and PT images for the patient\n",
    "        ct = sitk.ReadImage(str([f for f in input_image_folder.rglob(p + \"__CT*\")][0]))\n",
    "        pt = sitk.ReadImage(str([f for f in input_image_folder.rglob(p + \"__PT*\")][0]))\n",
    "        \n",
    "        # Read label images for the patient\n",
    "        labels = [(sitk.ReadImage(str(f)), f.name) for f in input_label_folder.glob(p + \"*\")]\n",
    "        \n",
    "        # Get bounding box for the resampling operation\n",
    "        bb = get_bounding_boxes(ct, pt)\n",
    "        size = np.round((bb[3:] - bb[:3]) / resampling).astype(int)\n",
    "        \n",
    "        # Configure resampler settings for CT and PT images\n",
    "        resampler.SetOutputOrigin(bb[:3])\n",
    "        resampler.SetSize([int(k) for k in size])\n",
    "        resampler.SetInterpolator(sitk.sitkBSpline)  # Use cubic spline interpolation for CT and PT\n",
    "        \n",
    "        # Resample CT and PT images\n",
    "        ct = resampler.Execute(ct)\n",
    "        pt = resampler.Execute(pt)\n",
    "        \n",
    "        # Save the resampled CT and PT images to the output folder\n",
    "        sitk.WriteImage(ct, str((output_image_folder / (p + \"__CT.nii.gz\"))))\n",
    "        sitk.WriteImage(pt, str((output_image_folder / (p + \"__PT.nii.gz\"))))\n",
    "        \n",
    "        # Configure resampler for label images using nearest neighbor interpolation\n",
    "        resampler.SetInterpolator(sitk.sitkNearestNeighbor)\n",
    "        for label, name in labels:\n",
    "            label = resampler.Execute(label)\n",
    "            sitk.WriteImage(label, str((output_label_folder / name)))\n",
    "\n",
    "    # Loop through each patient and resample their images and labels\n",
    "    for p in patient_list:\n",
    "        resample_one_patient(p)\n",
    "    # Uncomment for parallel processing to speed up the operation\n",
    "    # with Pool(cores) as p:\n",
    "    #     p.map(resample_one_patient, patient_list)\n",
    "\n",
    "# Execute the main function with example parameters\n",
    "input_image_folder = path_input_images\n",
    "input_label_folder = path_input_labels\n",
    "output_image_folder = path_output_images\n",
    "output_label_folder = path_output_labels\n",
    "cores = 12\n",
    "resampling = (2, 2, 2)\n",
    "\n",
    "# Call the main function to start resampling\n",
    "main(input_image_folder, input_label_folder, output_image_folder, output_label_folder, cores, resampling)"
   ]
  }
 ],
 "metadata": {
  "kernelspec": {
   "display_name": "tensorflow-adda",
   "language": "python",
   "name": "python3"
  },
  "language_info": {
   "codemirror_mode": {
    "name": "ipython",
    "version": 3
   },
   "file_extension": ".py",
   "mimetype": "text/x-python",
   "name": "python",
   "nbconvert_exporter": "python",
   "pygments_lexer": "ipython3",
   "version": "3.10.12"
  }
 },
 "nbformat": 4,
 "nbformat_minor": 2
}
